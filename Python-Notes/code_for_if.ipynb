{
 "cells": [
  {
   "cell_type": "code",
   "execution_count": 7,
   "id": "a1fc031b-5e86-42f1-aab4-a6f8a13e3ac3",
   "metadata": {},
   "outputs": [],
   "source": [
    "word = \"education\""
   ]
  },
  {
   "cell_type": "code",
   "execution_count": 9,
   "id": "d8c32850-6276-4684-b103-ce3ac50b86c5",
   "metadata": {},
   "outputs": [],
   "source": [
    "vowels=\"aeiou\""
   ]
  },
  {
   "cell_type": "code",
   "execution_count": 10,
   "id": "74eec18b-a95d-4cff-95cb-c6744ae93721",
   "metadata": {},
   "outputs": [],
   "source": [
    "#count vowels in the string"
   ]
  },
  {
   "cell_type": "code",
   "execution_count": 14,
   "id": "451b349d-d821-474a-a11c-b12ad40f7b83",
   "metadata": {},
   "outputs": [
    {
     "name": "stdout",
     "output_type": "stream",
     "text": [
      "each char is e in the for loop\n",
      "each char is e in the vowels if bloc\n",
      "count after identified as a vowel 1\n",
      "each char is d in the for loop\n",
      "each char is u in the for loop\n",
      "each char is u in the vowels if bloc\n",
      "count after identified as a vowel 2\n",
      "each char is c in the for loop\n",
      "each char is a in the for loop\n",
      "each char is a in the vowels if bloc\n",
      "count after identified as a vowel 3\n",
      "each char is t in the for loop\n",
      "each char is i in the for loop\n",
      "each char is i in the vowels if bloc\n",
      "count after identified as a vowel 4\n",
      "each char is o in the for loop\n",
      "each char is o in the vowels if bloc\n",
      "count after identified as a vowel 5\n",
      "each char is n in the for loop\n",
      "The vowels count in the word 5\n"
     ]
    }
   ],
   "source": [
    "count=0\n",
    "for each_char in word:\n",
    "    print(f\"each char is {each_char} in the for loop\")\n",
    "    if each_char in vowels:    \n",
    "        print(f\"each char is {each_char} in the vowels if bloc\")\n",
    "        count+=1\n",
    "        print(f\"count after identified as a vowel {count}\")\n",
    "\n",
    "print(f\"The vowels count in the word {count}\")"
   ]
  },
  {
   "cell_type": "code",
   "execution_count": 15,
   "id": "2b3f7f87-287b-474f-97e3-ff6882977ae5",
   "metadata": {},
   "outputs": [],
   "source": [
    "#Second code"
   ]
  },
  {
   "cell_type": "code",
   "execution_count": 23,
   "id": "d3f74b80-6c04-43d1-b296-0ffbf331dc46",
   "metadata": {},
   "outputs": [],
   "source": [
    "password = \"pass!\" \n",
    "#digit,number and alphanumeric,specialchar #Password is valid"
   ]
  },
  {
   "cell_type": "code",
   "execution_count": 24,
   "id": "df6d6148-ab77-4b6c-a023-8256d2e2ba7f",
   "metadata": {},
   "outputs": [],
   "source": [
    "has_digit = False\n",
    "has_upper = False\n"
   ]
  },
  {
   "cell_type": "code",
   "execution_count": 25,
   "id": "5531ae5b-6d94-4756-a571-4a36eab373cb",
   "metadata": {},
   "outputs": [
    {
     "name": "stdout",
     "output_type": "stream",
     "text": [
      "p\n",
      "invalid Password\n",
      "a\n",
      "invalid Password\n",
      "s\n",
      "invalid Password\n",
      "s\n",
      "invalid Password\n",
      "!\n",
      "invalid Password\n"
     ]
    }
   ],
   "source": [
    "for each_char in password:\n",
    "    print(each_char)\n",
    "    if each_char.isdigit():\n",
    "        print(f\"if bloc{each_char} digit validated\")\n",
    "        has_digit=True\n",
    "    if each_char.isupper():\n",
    "        print(f\"if bloc{each_char} upper vaidated\")\n",
    "        has_upper=True\n",
    "\n",
    "    if has_digit and has_upper: \n",
    "        \n",
    "        print(\"Password is valid\")\n",
    "\n",
    "    else:\n",
    "        print(\"invalid Password\")\n",
    "        "
   ]
  },
  {
   "cell_type": "code",
   "execution_count": 26,
   "id": "37e5d8b1-2f05-4c92-96ba-d24c6d497c9b",
   "metadata": {},
   "outputs": [
    {
     "data": {
      "text/plain": [
       "'\\n1\\n1 2\\n1 2 3\\n1 2 3 4\\n1 2 3 4 5\\n'"
      ]
     },
     "execution_count": 26,
     "metadata": {},
     "output_type": "execute_result"
    }
   ],
   "source": [
    "'''\n",
    "1 * * * *\n",
    "1 2 * * *\n",
    "1 2 3 * *\n",
    "1 2 3 4 *\n",
    "1 2 3 4 5\n",
    "'''"
   ]
  },
  {
   "cell_type": "code",
   "execution_count": 34,
   "id": "14c1331b-1da8-4814-b6c3-3189652a9f71",
   "metadata": {},
   "outputs": [
    {
     "name": "stdout",
     "output_type": "stream",
     "text": [
      "1 \n",
      "1 2 \n",
      "1 2 3 \n",
      "1 2 3 4 \n",
      "1 2 3 4 5 \n"
     ]
    }
   ],
   "source": [
    "rows=5\n",
    "col=0\n",
    "for val in range(1,rows+1): #1,6(n-1)\n",
    "    for col in range(1,val+1):#1,val(change)\n",
    "        print(col,end=\" \")\n",
    "    print()\n",
    "    "
   ]
  },
  {
   "cell_type": "code",
   "execution_count": 33,
   "id": "05ce3ea5-b542-4e93-911b-505194bb53fb",
   "metadata": {},
   "outputs": [
    {
     "name": "stdout",
     "output_type": "stream",
     "text": [
      "* * * * * \n",
      "* * * * * \n",
      "* * * * * \n",
      "* * * * * \n",
      "* * * * * \n"
     ]
    }
   ],
   "source": [
    "for i in range(5):\n",
    "    for j in range(5):\n",
    "        print(\"*\", end=\" \")\n",
    "    print()\n"
   ]
  },
  {
   "cell_type": "code",
   "execution_count": 35,
   "id": "0e75814c-20bc-4c8f-a4cd-1235974abafc",
   "metadata": {},
   "outputs": [
    {
     "name": "stdout",
     "output_type": "stream",
     "text": [
      "* \n",
      "* * \n",
      "* * * \n",
      "* * * * \n",
      "* * * * * \n"
     ]
    }
   ],
   "source": [
    "rows=5\n",
    "col=0\n",
    "for val in range(1,rows+1): #1,6(n-1)\n",
    "    for col in range(1,val+1):#1,val(change)\n",
    "        print(\"*\",end=\" \")\n",
    "    print()\n",
    "    "
   ]
  },
  {
   "cell_type": "code",
   "execution_count": 36,
   "id": "0d12a51b-60ec-4bdf-bca2-76b536d0d7ff",
   "metadata": {},
   "outputs": [],
   "source": [
    "#The break statement is used to exit a loop early. Once break is encountered, the loop stops immediately, even if it hasn't finished all iterations."
   ]
  },
  {
   "cell_type": "code",
   "execution_count": 37,
   "id": "c72b4448-cbd9-433b-9ec7-47608af3f35b",
   "metadata": {},
   "outputs": [
    {
     "data": {
      "text/plain": [
       "'\\nfor variable in sequence:\\n    if condition:\\n        break\\n    # rest of the loop code\\n'"
      ]
     },
     "execution_count": 37,
     "metadata": {},
     "output_type": "execute_result"
    }
   ],
   "source": [
    "'''\n",
    "for variable in sequence:\n",
    "    if condition:\n",
    "        break\n",
    "    # rest of the loop code\n",
    "'''"
   ]
  },
  {
   "cell_type": "code",
   "execution_count": 42,
   "id": "703665a5-f52e-4944-8161-5b17de411ff3",
   "metadata": {},
   "outputs": [
    {
     "name": "stdout",
     "output_type": "stream",
     "text": [
      "* \n",
      "* * \n",
      "* * * \n",
      "* * * * \n",
      "* * * * * \n"
     ]
    }
   ],
   "source": [
    "rows=5\n",
    "col=0\n",
    "for val in range(1,rows+1): #1,6(n-1)\n",
    "    #print(f\"val is {val}\")\n",
    "    for col in range(1,val+1):#1,val(change)\n",
    "        #print(f\"col is {col}\")\n",
    "        print(\"*\",end=\" \") #col=5,row=5\n",
    "        if col == val:\n",
    "            break\n",
    "    print()\n",
    "    "
   ]
  },
  {
   "cell_type": "code",
   "execution_count": 68,
   "id": "0d44123d-23a1-45f9-806d-1cfee6fbed99",
   "metadata": {},
   "outputs": [
    {
     "name": "stdout",
     "output_type": "stream",
     "text": [
      "17 is Prime number\n"
     ]
    }
   ],
   "source": [
    "#prime number\n",
    "num=17\n",
    "is_prime=True\n",
    "for i in range(3,num):\n",
    "    #print(i)\n",
    "    if num % i == 0:\n",
    "        print(num)\n",
    "        is_prime=False\n",
    "        break\n",
    "\n",
    "if is_prime:\n",
    "    print(f\"{num} is Prime number\")\n",
    "else:\n",
    "    print(\"not a prime number\")\n",
    "        \n",
    "        \n",
    "        "
   ]
  },
  {
   "cell_type": "markdown",
   "id": "5b5e02f1-98d3-41fc-8f39-017be10efcfe",
   "metadata": {},
   "source": [
    "## "
   ]
  },
  {
   "cell_type": "code",
   "execution_count": null,
   "id": "4ee95e64-b66c-41f1-8f9f-21cf94854d56",
   "metadata": {},
   "outputs": [],
   "source": []
  }
 ],
 "metadata": {
  "kernelspec": {
   "display_name": "Python 3 (ipykernel)",
   "language": "python",
   "name": "python3"
  },
  "language_info": {
   "codemirror_mode": {
    "name": "ipython",
    "version": 3
   },
   "file_extension": ".py",
   "mimetype": "text/x-python",
   "name": "python",
   "nbconvert_exporter": "python",
   "pygments_lexer": "ipython3",
   "version": "3.12.11"
  }
 },
 "nbformat": 4,
 "nbformat_minor": 5
}
