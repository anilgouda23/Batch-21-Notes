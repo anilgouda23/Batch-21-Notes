{
 "cells": [
  {
   "cell_type": "code",
   "execution_count": null,
   "id": "87041940-d1d5-44bd-92db-9e255434d21b",
   "metadata": {},
   "outputs": [],
   "source": [
    "#What is Python?\n",
    "\"\"\"\n",
    "Python is a high-level, interpreted programming language known for its simplicity and readability. It supports\n",
    "multiple paradigms including procedural, object-oriented, and functional programming. It is widely used for\n",
    "web development, data science, scripting, automation, AI, and more\"\"\""
   ]
  },
  {
   "cell_type": "code",
   "execution_count": 459,
   "id": "312eb17b-0a15-4a3f-a5ee-57c91e320d9a",
   "metadata": {},
   "outputs": [
    {
     "name": "stdout",
     "output_type": "stream",
     "text": [
      "hello welcome to Python\n"
     ]
    }
   ],
   "source": [
    "print(\"hello welcome to Python\")"
   ]
  },
  {
   "cell_type": "code",
   "execution_count": 3,
   "id": "446d8d35-b2af-4969-8214-3f5dcc8dc9f1",
   "metadata": {},
   "outputs": [
    {
     "ename": "SyntaxError",
     "evalue": "invalid syntax (426471557.py, line 1)",
     "output_type": "error",
     "traceback": [
      "\u001b[1;36m  Cell \u001b[1;32mIn[3], line 1\u001b[1;36m\u001b[0m\n\u001b[1;33m    step1:input use\u001b[0m\n\u001b[1;37m                ^\u001b[0m\n\u001b[1;31mSyntaxError\u001b[0m\u001b[1;31m:\u001b[0m invalid syntax\n"
     ]
    }
   ],
   "source": [
    "step1:input use\n",
    "step2:accept the values\n",
    "step3:display the values"
   ]
  },
  {
   "cell_type": "code",
   "execution_count": 9,
   "id": "3c75d079-cdfe-4572-9d37-a5fd5a3b7fa3",
   "metadata": {},
   "outputs": [
    {
     "name": "stdout",
     "output_type": "stream",
     "text": [
      "Hello World\n"
     ]
    }
   ],
   "source": [
    "print(\"Hello World\")"
   ]
  },
  {
   "cell_type": "code",
   "execution_count": 14,
   "id": "bb6eb515-3814-4643-8b2c-79572b798019",
   "metadata": {},
   "outputs": [
    {
     "ename": "SyntaxError",
     "evalue": "incomplete input (3133696801.py, line 1)",
     "output_type": "error",
     "traceback": [
      "\u001b[1;36m  Cell \u001b[1;32mIn[14], line 1\u001b[1;36m\u001b[0m\n\u001b[1;33m    \"\"\"\u001b[0m\n\u001b[1;37m    ^\u001b[0m\n\u001b[1;31mSyntaxError\u001b[0m\u001b[1;31m:\u001b[0m incomplete input\n"
     ]
    }
   ],
   "source": [
    "\"\"\"\n",
    "History of Python\n",
    "Python was created by Guido van Rossum in the late 1980s and first released in 1991. It was named after\n",
    "the British comedy show 'Monty Pythons Flying Circus'.\n",
    "Major versions include:\n",
    "- Python 1.0 (1991)\n",
    "- Python 2.0 (2000) introduced Unicode, garbage collection\n",
    "- Python 3.0 (2008) not backward-compatible\"\"\""
   ]
  },
  {
   "cell_type": "code",
   "execution_count": null,
   "id": "1aeff2e0-313d-4a1f-9518-e29ee2b105f6",
   "metadata": {},
   "outputs": [],
   "source": [
    "#raw_input(\"\"),xrange  python 2.0"
   ]
  },
  {
   "cell_type": "code",
   "execution_count": 16,
   "id": "3a324944-904d-487a-a4eb-174c737593d9",
   "metadata": {},
   "outputs": [],
   "source": [
    "#input,range python 3.0"
   ]
  },
  {
   "cell_type": "code",
   "execution_count": 18,
   "id": "e7d1c18e-4a75-4576-ac74-adbf9515f76e",
   "metadata": {},
   "outputs": [
    {
     "name": "stdout",
     "output_type": "stream",
     "text": [
      "Hello, World!\n"
     ]
    }
   ],
   "source": [
    "#1. Simple and Easy to Learn\n",
    "#Python's syntax is clean and easy to read, making it ideal for beginners.\n",
    "#Example:\n",
    "print(\"Hello, World!\")\n"
   ]
  },
  {
   "cell_type": "code",
   "execution_count": 20,
   "id": "d6fcc474-ec19-47ed-8693-afe7b19cc8a8",
   "metadata": {},
   "outputs": [],
   "source": [
    "#2. Interpreted Language\n",
    "#Python is interpreted, meaning each line is executed one by one, making debugging easier.\n",
    "#Example:\n",
    "a = 10\n"
   ]
  },
  {
   "cell_type": "code",
   "execution_count": 463,
   "id": "8f365dc0-d820-4480-8170-48f410df617b",
   "metadata": {},
   "outputs": [
    {
     "name": "stdout",
     "output_type": "stream",
     "text": [
      "10\n"
     ]
    }
   ],
   "source": [
    "print(a)"
   ]
  },
  {
   "cell_type": "code",
   "execution_count": 465,
   "id": "81741ef9-19f5-40a0-a0e8-8d7e8a6d416c",
   "metadata": {},
   "outputs": [
    {
     "name": "stdout",
     "output_type": "stream",
     "text": [
      "15\n"
     ]
    }
   ],
   "source": [
    "a=10\n",
    "b = 5\n",
    "print(a + b)"
   ]
  },
  {
   "cell_type": "code",
   "execution_count": 467,
   "id": "49b19d39-96c6-48f4-a9e0-4f9e076356f8",
   "metadata": {},
   "outputs": [
    {
     "name": "stdout",
     "output_type": "stream",
     "text": [
      "ALICE\n"
     ]
    }
   ],
   "source": [
    "#3. High-Level Language (HLL)\n",
    "#Python abstracts low-level details like memory management, allowing developers to focus on logic.\n",
    "#Example:\n",
    "\n",
    "name = \"Alice\"\n",
    "print(name.upper())\n"
   ]
  },
  {
   "cell_type": "code",
   "execution_count": 34,
   "id": "58a483f5-e6e9-43a3-bba5-272c564b20c0",
   "metadata": {},
   "outputs": [
    {
     "name": "stdout",
     "output_type": "stream",
     "text": [
      "alice\n"
     ]
    }
   ],
   "source": [
    "name = \"ALICE\"\n",
    "print(name.lower())"
   ]
  },
  {
   "cell_type": "code",
   "execution_count": 32,
   "id": "6151a9f6-9a00-48ee-a250-fc2acad1a1d6",
   "metadata": {},
   "outputs": [
    {
     "name": "stdout",
     "output_type": "stream",
     "text": [
      "Alice uifpio uiwfuihwuif uiwhuifhwuifho iwduifweuif\n"
     ]
    }
   ],
   "source": [
    "name = \"alice uifpio uiwfuihwuif uiwhuifhwuifho iwduifweuif\"\n",
    "print(name.capitalize())"
   ]
  },
  {
   "cell_type": "code",
   "execution_count": 36,
   "id": "f5921731-7599-4e70-a9a3-adbc3ae98361",
   "metadata": {},
   "outputs": [],
   "source": [
    "#5. Dynamically Typed\n",
    "#You don't need to declare variable types; Python decides the type at runtime.\n",
    "#Example:\n",
    "x = 10 # integer integer x=10\n",
    "x = \"Hello\" # now it's a string string x=\"\""
   ]
  },
  {
   "cell_type": "code",
   "execution_count": 38,
   "id": "1c717533-6a39-4e8c-83f3-b732cddad5e2",
   "metadata": {},
   "outputs": [],
   "source": [
    "x=10"
   ]
  },
  {
   "cell_type": "code",
   "execution_count": 40,
   "id": "fdcd5b6a-6a39-48a3-8220-9db77165b6f3",
   "metadata": {},
   "outputs": [
    {
     "data": {
      "text/plain": [
       "int"
      ]
     },
     "execution_count": 40,
     "metadata": {},
     "output_type": "execute_result"
    }
   ],
   "source": [
    "type(x)"
   ]
  },
  {
   "cell_type": "code",
   "execution_count": 42,
   "id": "a5c70897-fa40-4aa0-a722-e5b2e1ea9a23",
   "metadata": {},
   "outputs": [],
   "source": [
    "x=\"a\""
   ]
  },
  {
   "cell_type": "code",
   "execution_count": 44,
   "id": "68ea8963-cafc-44a0-8d12-65518e619eba",
   "metadata": {},
   "outputs": [
    {
     "data": {
      "text/plain": [
       "str"
      ]
     },
     "execution_count": 44,
     "metadata": {},
     "output_type": "execute_result"
    }
   ],
   "source": [
    "type(x)"
   ]
  },
  {
   "cell_type": "code",
   "execution_count": 46,
   "id": "511b1746-dc9c-496d-aa01-c4bc50a143f7",
   "metadata": {},
   "outputs": [],
   "source": [
    "x=2.27"
   ]
  },
  {
   "cell_type": "code",
   "execution_count": 48,
   "id": "83cce7af-e619-499b-9e36-5f45876af7d6",
   "metadata": {},
   "outputs": [
    {
     "data": {
      "text/plain": [
       "float"
      ]
     },
     "execution_count": 48,
     "metadata": {},
     "output_type": "execute_result"
    }
   ],
   "source": [
    "type(x)"
   ]
  },
  {
   "cell_type": "code",
   "execution_count": 50,
   "id": "bd450981-0740-4f88-9cf8-211ab663f9d9",
   "metadata": {},
   "outputs": [
    {
     "name": "stdout",
     "output_type": "stream",
     "text": [
      "5.0\n"
     ]
    }
   ],
   "source": [
    "#Extensive Standard Library\n",
    "#Python includes modules for math, file I/O, networking, web services, etc.\n",
    "#Example:\n",
    "import math\n",
    "print(math.sqrt(25))\n"
   ]
  },
  {
   "cell_type": "code",
   "execution_count": 54,
   "id": "8018d63d-2681-44fa-ba15-d2e2f9e0bd5d",
   "metadata": {},
   "outputs": [],
   "source": [
    "import sys"
   ]
  },
  {
   "cell_type": "code",
   "execution_count": 469,
   "id": "9ba7ab7a-e88a-4abc-a39b-3f3d0bada7dc",
   "metadata": {},
   "outputs": [],
   "source": [
    "import tkinter as tk\n",
    "\n",
    "window = tk.Tk()\n",
    "\n",
    "label_1 = tk.Label(window, text=\"Hello GUI Batch 21\")\n",
    "label_2 = tk.Label(window, text=\"Hello GUI Batch 22\")\n",
    "label_3 = tk.Label(window, text=\"Hello GUI Batch 23\")\n",
    "\n",
    "label_1.pack()\n",
    "label_2.pack()\n",
    "window.mainloop()"
   ]
  },
  {
   "cell_type": "code",
   "execution_count": 74,
   "id": "33b6d2af-21b8-487a-9bfd-7ea2cd433c34",
   "metadata": {},
   "outputs": [],
   "source": [
    "import tkinter as tk\n",
    "\n",
    "window = tk.Tk()\n",
    "\n",
    "label = tk.Label(window, text=\"Hello GUI\")\n",
    "label.pack()\n",
    "window.mainloop()"
   ]
  },
  {
   "cell_type": "code",
   "execution_count": 7,
   "id": "bdc70c00-3d78-4f95-96b6-3d3f20e3b0c9",
   "metadata": {},
   "outputs": [
    {
     "name": "stdout",
     "output_type": "stream",
     "text": [
      "ABC says Woof! i am 5years old\n"
     ]
    }
   ],
   "source": [
    "#Object-Oriented Programming (OOP)\n",
    "#Python supports classes, objects, inheritance, encapsulation, and polymorphism.\n",
    "#Example:\n",
    "class Dog:\n",
    " def __init__(self, name,age):\n",
    "#Introduction to Python\n",
    "     self.name = name #Buddy\n",
    "     self.age= age\n",
    " def bark(self):\n",
    "     print(f\"{self.name} says Woof! i am {self.age}years old\")\n",
    "\n",
    "#dog1 = Dog(\"Buddy\")\n",
    "dog2 = Dog(\"ABC\",5)\n",
    "dog2.bark()"
   ]
  },
  {
   "cell_type": "code",
   "execution_count": null,
   "id": "58ad766f-5b7e-4ea3-bd43-89cb9663e2d5",
   "metadata": {},
   "outputs": [],
   "source": [
    "def add(int a):\n",
    "\n",
    "\n",
    "def add(int a, int b, int c):"
   ]
  },
  {
   "cell_type": "code",
   "execution_count": null,
   "id": "f78556dc-7d98-4ddd-81bb-96465f5b3da3",
   "metadata": {},
   "outputs": [],
   "source": [
    "#Python Fundamentals: Identifiers, Keywords, and Data Types\n",
    "\n",
    "1. Python Identifiers (Rules and Regulations)\n",
    "An identifier is a name given to variables, functions, classes, modules, or other objects in Python.\n",
    "\n",
    "#What is Variable?\n",
    "Python has specific rules for naming identifiers.\n",
    "Rules for Python Identifiers\n",
    "1. Must start with a letter (a-z, A-Z) or an underscore (_).\n",
    " - Valid: name, _age, Salary \n",
    " - Invalid: 1var, @name, #value\n",
    "\n",
    "\n",
    "2. Can contain letters, digits (0-9), and underscores (_).\n",
    " - Valid: user_name, age_1, total_amount_purchase\n",
    " - Invalid: user-name, first name, email@address\n",
    "\n",
    "3. Cannot be a Python keyword or reserved word.\n",
    " - Invalid: if, for, while (these are keywords)\n",
    "\n",
    "4. Case-sensitive (uppercase and lowercase letters are different).\n",
    " - Name and name are two different identifiers.\n",
    "     \n",
    "5. No special characters (!, @, #, %, etc.) are allowed.\n",
    " - Invalid: user@name, price$, value"
   ]
  },
  {
   "cell_type": "code",
   "execution_count": 9,
   "id": "461db75b-97fc-4083-808a-b1b6dde03f46",
   "metadata": {},
   "outputs": [],
   "source": [
    "name=\"Himansu\""
   ]
  },
  {
   "cell_type": "code",
   "execution_count": 11,
   "id": "ce1f17ad-f88a-482b-897f-56d58f3adebd",
   "metadata": {},
   "outputs": [],
   "source": [
    "name_student=\"Himansu\""
   ]
  },
  {
   "cell_type": "code",
   "execution_count": 13,
   "id": "be38aae9-af1b-4b70-b8d9-818c9ca960e1",
   "metadata": {},
   "outputs": [],
   "source": [
    "age=34"
   ]
  },
  {
   "cell_type": "code",
   "execution_count": 15,
   "id": "870a34e3-bec1-4315-a09c-893a49f0bf8f",
   "metadata": {},
   "outputs": [
    {
     "ename": "SyntaxError",
     "evalue": "invalid syntax (4153219695.py, line 1)",
     "output_type": "error",
     "traceback": [
      "\u001b[1;36m  Cell \u001b[1;32mIn[15], line 1\u001b[1;36m\u001b[0m\n\u001b[1;33m    for=34\u001b[0m\n\u001b[1;37m       ^\u001b[0m\n\u001b[1;31mSyntaxError\u001b[0m\u001b[1;31m:\u001b[0m invalid syntax\n"
     ]
    }
   ],
   "source": [
    "for=34"
   ]
  },
  {
   "cell_type": "code",
   "execution_count": 17,
   "id": "e76e250e-d626-46ae-bc8e-90cc933d3bca",
   "metadata": {},
   "outputs": [
    {
     "ename": "SyntaxError",
     "evalue": "invalid syntax (1127695694.py, line 1)",
     "output_type": "error",
     "traceback": [
      "\u001b[1;36m  Cell \u001b[1;32mIn[17], line 1\u001b[1;36m\u001b[0m\n\u001b[1;33m    if=43\u001b[0m\n\u001b[1;37m      ^\u001b[0m\n\u001b[1;31mSyntaxError\u001b[0m\u001b[1;31m:\u001b[0m invalid syntax\n"
     ]
    }
   ],
   "source": [
    "if=43"
   ]
  },
  {
   "cell_type": "code",
   "execution_count": 19,
   "id": "ec08242a-e2ef-469a-a4ea-6681c22e132a",
   "metadata": {},
   "outputs": [
    {
     "ename": "SyntaxError",
     "evalue": "invalid syntax (2844795849.py, line 1)",
     "output_type": "error",
     "traceback": [
      "\u001b[1;36m  Cell \u001b[1;32mIn[19], line 1\u001b[1;36m\u001b[0m\n\u001b[1;33m    else=\"himansu\"\u001b[0m\n\u001b[1;37m    ^\u001b[0m\n\u001b[1;31mSyntaxError\u001b[0m\u001b[1;31m:\u001b[0m invalid syntax\n"
     ]
    }
   ],
   "source": [
    "else=\"himansu\""
   ]
  },
  {
   "cell_type": "code",
   "execution_count": 21,
   "id": "2e6686e7-4581-4b86-a988-33cf07943c86",
   "metadata": {},
   "outputs": [],
   "source": [
    "name=\"Treenetra\""
   ]
  },
  {
   "cell_type": "code",
   "execution_count": 23,
   "id": "4dc97549-0fed-4653-ada4-ca8f0cc13127",
   "metadata": {},
   "outputs": [],
   "source": [
    "Name=\"Python\""
   ]
  },
  {
   "cell_type": "code",
   "execution_count": 25,
   "id": "ded03a87-764a-4690-843a-213c3a00520f",
   "metadata": {},
   "outputs": [
    {
     "name": "stdout",
     "output_type": "stream",
     "text": [
      "Treenetra\n"
     ]
    }
   ],
   "source": [
    "print(name)"
   ]
  },
  {
   "cell_type": "code",
   "execution_count": 27,
   "id": "9eb40578-f9e0-4c83-8e72-5e1a00e27069",
   "metadata": {},
   "outputs": [
    {
     "name": "stdout",
     "output_type": "stream",
     "text": [
      "Python\n"
     ]
    }
   ],
   "source": [
    "print(Name)"
   ]
  },
  {
   "cell_type": "code",
   "execution_count": null,
   "id": "d67e3d3f-de22-4e5c-9de8-c0d4c897addb",
   "metadata": {},
   "outputs": [],
   "source": [
    "Examples of Valid and Invalid Identifiers\n",
    "Valid Identifiers Invalid Identifiers\n",
    "------------------ ----------------------\n",
    "### **Examples of Valid and Invalid Identifiers**\n",
    "| Valid Identifiers | Invalid Identifiers |\n",
    "|------------------|--------------------|\n",
    "| `age`            | `1age` (starts with digit) | \n",
    "| `_salary`        | `my-name` (hyphen not allowed) | \n",
    "| `userName`        | `class` (Python keyword) | \n",
    "| `total_amount`    | `for` (reserved word) |\n"
   ]
  },
  {
   "cell_type": "code",
   "execution_count": null,
   "id": "07909a95-57a8-4943-be36-998b32cbc106",
   "metadata": {},
   "outputs": [],
   "source": [
    "### **Best Practices for Naming Identifiers**\n",
    "- Use **meaningful names** (`student_name` instead of `sn`).\n",
    "- For **constants**, use uppercase (`PI = 3.14`).\n",
    "- For **multi-word names**, use:\n",
    "  - **snake_case** (`user_name`) → Preferred in Python.\n",
    "  - **camelCase** (`userName`) → Used in some other languages.\n"
   ]
  },
  {
   "cell_type": "code",
   "execution_count": null,
   "id": "79cc8ea5-8047-4c00-b3d4-74fce61f30fb",
   "metadata": {},
   "outputs": [],
   "source": [
    "### **List of Python Keywords (as of Python 3.11)**\n",
    "| Keyword | Purpose |\n",
    "|---------|---------|\n",
    "| `and` | Logical AND |\n",
    "| `as` | Alias in imports |\n",
    "| `assert` | Debugging condition |\n",
    "| `break` | Exit a loop |\n",
    "| `class` | Define a class |\n",
    "| `continue` | Skip current loop iteration |\n",
    "| `def` | Define a function |\n",
    "| `del` | Delete an object |\n",
    "| `elif` | Else-if condition |\n",
    "| `else` | Else block |\n",
    "| `except` | Exception handling |\n",
    "| `False` | Boolean false |\n",
    "| `finally` | Execute code after try-except |\n",
    "| `for` | For loop |\n",
    "| `from` | Import specific module parts |\n",
    "| `global` | Declare global variable |\n",
    "| `if` | If condition |\n",
    "| `import` | Import modules |\n",
    "| `in` | Membership test |\n",
    "| `is` | Identity comparison |\n",
    "| `lambda` | Anonymous function |\n",
    "| `None` | Null value |\n",
    "| `nonlocal` | Modify outer function variable |\n",
    "| `not` | Logical NOT |\n",
    "| `or` | Logical OR |\n",
    "| `pass` | Placeholder (do nothing) |\n",
    "| `raise` | Raise an exception |\n",
    "| `return` | Return from a function |\n",
    "| `True` | Boolean true |\n",
    "| `try` | Exception handling block |\n",
    "| `while` | While loop |\n",
    "| `with` | Context manager |\n",
    "| `yield` | Return generator value |\n"
   ]
  },
  {
   "cell_type": "code",
   "execution_count": 471,
   "id": "c2692724-8014-4cc6-8e01-eb73fbea1972",
   "metadata": {},
   "outputs": [
    {
     "name": "stdout",
     "output_type": "stream",
     "text": [
      "['False', 'None', 'True', 'and', 'as', 'assert', 'async', 'await', 'break', 'class', 'continue', 'def', 'del', 'elif', 'else', 'except', 'finally', 'for', 'from', 'global', 'if', 'import', 'in', 'is', 'lambda', 'nonlocal', 'not', 'or', 'pass', 'raise', 'return', 'try', 'while', 'with', 'yield']\n"
     ]
    }
   ],
   "source": [
    "import keyword\n",
    "print(keyword.kwlist)"
   ]
  },
  {
   "cell_type": "code",
   "execution_count": null,
   "id": "af0ffddf-6a95-4403-b149-48a30fc8546f",
   "metadata": {},
   "outputs": [],
   "source": [
    "### **Classification of Data Types**\n",
    "| Data Type | Category | Ordered | Mutable | Example |\n",
    "|-----------|----------|---------|----------|---------|\n",
    "| `int`     | Numeric |       -  | Immutable | `x = 10` |\n",
    "| `float`   | Numeric |      -   | Immutable | `y = 3.14` |\n",
    "| `str`     | Sequential | Ordered | Immutable | `s = \"hello\"` |\n",
    "| `list`    | Sequential | Ordered | Mutable | `lst = [1, 2, 3]` |\n",
    "| `tuple`   | Sequential | Ordered | Immutable | `tup = (1, 2, 3)` |\n",
    "| `xx`  | Non-Sequential | Unordered | Mutable | `s = {1, 2, 3}` |\n",
    "| `dict`   | Non-Sequential | Unordered (Python 3.7+: Ordered) | Mutable | `d = {\"name\": \"Alice\"}` |\n"
   ]
  },
  {
   "cell_type": "code",
   "execution_count": 49,
   "id": "60574002-5055-4cc9-80f1-432b6c299155",
   "metadata": {},
   "outputs": [],
   "source": [
    "num_str=\"10\""
   ]
  },
  {
   "cell_type": "code",
   "execution_count": 51,
   "id": "3987b124-4b27-4ce3-9f42-56bdf79fdb06",
   "metadata": {},
   "outputs": [
    {
     "data": {
      "text/plain": [
       "str"
      ]
     },
     "execution_count": 51,
     "metadata": {},
     "output_type": "execute_result"
    }
   ],
   "source": [
    "type(num)"
   ]
  },
  {
   "cell_type": "code",
   "execution_count": 55,
   "id": "c9c3695e-f6ce-4bee-a979-ac9df39fbdbd",
   "metadata": {},
   "outputs": [
    {
     "name": "stdout",
     "output_type": "stream",
     "text": [
      "<class 'int'>\n"
     ]
    }
   ],
   "source": [
    "print(type(int(num_str)))"
   ]
  },
  {
   "cell_type": "code",
   "execution_count": 41,
   "id": "2e5acbf6-176f-4940-8e15-491875ef2060",
   "metadata": {},
   "outputs": [],
   "source": [
    "num_float=10.67"
   ]
  },
  {
   "cell_type": "code",
   "execution_count": 43,
   "id": "8bc0b89f-2434-4caf-ac72-aae6eb830ffc",
   "metadata": {},
   "outputs": [
    {
     "data": {
      "text/plain": [
       "float"
      ]
     },
     "execution_count": 43,
     "metadata": {},
     "output_type": "execute_result"
    }
   ],
   "source": [
    "type(num_float)"
   ]
  },
  {
   "cell_type": "code",
   "execution_count": 57,
   "id": "a33c6122-e8b6-4812-bc71-787022877f2a",
   "metadata": {},
   "outputs": [],
   "source": [
    "num_list=[1,2,3,4,5]"
   ]
  },
  {
   "cell_type": "code",
   "execution_count": 59,
   "id": "e5029118-c22a-441b-9b04-aa7b4ec9acae",
   "metadata": {},
   "outputs": [],
   "source": [
    "num_list.append(6)"
   ]
  },
  {
   "cell_type": "code",
   "execution_count": 61,
   "id": "a0b55ca9-6a28-4278-a732-1b8374e83274",
   "metadata": {},
   "outputs": [
    {
     "data": {
      "text/plain": [
       "[1, 2, 3, 4, 5, 6]"
      ]
     },
     "execution_count": 61,
     "metadata": {},
     "output_type": "execute_result"
    }
   ],
   "source": [
    "num_list"
   ]
  },
  {
   "cell_type": "code",
   "execution_count": 67,
   "id": "9e22d110-3bf4-4257-abc0-dac600e09812",
   "metadata": {},
   "outputs": [],
   "source": [
    "num_tup=(1,2,3,4,5)"
   ]
  },
  {
   "cell_type": "code",
   "execution_count": 73,
   "id": "76f1e22a-1077-4847-9f9e-49cb11ea9571",
   "metadata": {},
   "outputs": [
    {
     "ename": "TypeError",
     "evalue": "can only concatenate tuple (not \"int\") to tuple",
     "output_type": "error",
     "traceback": [
      "\u001b[1;31m---------------------------------------------------------------------------\u001b[0m",
      "\u001b[1;31mTypeError\u001b[0m                                 Traceback (most recent call last)",
      "Cell \u001b[1;32mIn[73], line 1\u001b[0m\n\u001b[1;32m----> 1\u001b[0m num_tup\u001b[38;5;241m+\u001b[39m(\u001b[38;5;241m1\u001b[39m)\n",
      "\u001b[1;31mTypeError\u001b[0m: can only concatenate tuple (not \"int\") to tuple"
     ]
    }
   ],
   "source": []
  },
  {
   "cell_type": "code",
   "execution_count": 81,
   "id": "b4e97258-001d-4594-a69a-61c3f4efa06c",
   "metadata": {},
   "outputs": [],
   "source": [
    "dict_example={\"k1\":\"v1\",\"k2\":\"v2\"}"
   ]
  },
  {
   "cell_type": "code",
   "execution_count": 83,
   "id": "dff7aeaf-d4ce-44f8-bbb3-5f2f9dbd7a11",
   "metadata": {},
   "outputs": [
    {
     "data": {
      "text/plain": [
       "{'k1': 'v1', 'k2': 'v2'}"
      ]
     },
     "execution_count": 83,
     "metadata": {},
     "output_type": "execute_result"
    }
   ],
   "source": [
    "dict_example"
   ]
  },
  {
   "cell_type": "code",
   "execution_count": 93,
   "id": "2d814060-90fb-4207-91ad-1433af96bdac",
   "metadata": {},
   "outputs": [
    {
     "name": "stdout",
     "output_type": "stream",
     "text": [
      "k1 v1\n",
      "yes\n",
      "k2 v2\n",
      "yes\n"
     ]
    }
   ],
   "source": [
    "for k,v in dict_example.items():\n",
    "    print(k,v)\n",
    "    if \"k1\" in dict_example.keys():\n",
    "        print(\"yes\")\n",
    "        dict_example[k]=\"v3\"\n",
    "    \n",
    "        "
   ]
  },
  {
   "cell_type": "code",
   "execution_count": 89,
   "id": "89fa1e62-c97c-4a95-9a0e-98e035b0c719",
   "metadata": {},
   "outputs": [
    {
     "data": {
      "text/plain": [
       "dict_keys(['k1', 'k2'])"
      ]
     },
     "execution_count": 89,
     "metadata": {},
     "output_type": "execute_result"
    }
   ],
   "source": [
    "dict_example.keys()"
   ]
  },
  {
   "cell_type": "code",
   "execution_count": 95,
   "id": "bef1633f-5146-4474-a9f9-bed9108535f9",
   "metadata": {},
   "outputs": [
    {
     "data": {
      "text/plain": [
       "{'k1': 'v3', 'k2': 'v3'}"
      ]
     },
     "execution_count": 95,
     "metadata": {},
     "output_type": "execute_result"
    }
   ],
   "source": [
    "dict_example"
   ]
  },
  {
   "cell_type": "code",
   "execution_count": null,
   "id": "0137cad1-a229-4e28-a81c-d6ad87c6ad29",
   "metadata": {},
   "outputs": [],
   "source": [
    "'''\n",
    "(1) Sequential Data Types (Ordered)\n",
    "\n",
    "- String (str) -> Immutable\n",
    " name = \"Python\"\n",
    " print(name[0]) # 'P'\n",
    "- List (list) -> Mutable\n",
    " numbers = [1, 2, 3]\n",
    " numbers.append(4) # [1, 2, 3, 4]\n",
    "- Tuple (tuple) -> Immutable\n",
    " point = (10, 20)\n",
    " print(point[1]) # 20'''"
   ]
  },
  {
   "cell_type": "code",
   "execution_count": 99,
   "id": "c7691c12-7107-4b3f-b7fe-079ff91feac3",
   "metadata": {},
   "outputs": [
    {
     "name": "stdout",
     "output_type": "stream",
     "text": [
      "n\n"
     ]
    }
   ],
   "source": [
    "name = \"Python\"\n",
    "print(name[-1]) # 'P'"
   ]
  },
  {
   "cell_type": "code",
   "execution_count": null,
   "id": "f7ca70b6-b1bf-4ddb-97a9-45ee1a2de51c",
   "metadata": {},
   "outputs": [],
   "source": [
    "P Y T H O N\n",
    "0 1 2 3 4 5 #index\n",
    "     -5 -4 -3  -2  -1"
   ]
  },
  {
   "cell_type": "code",
   "execution_count": 101,
   "id": "0ea0df3d-22e1-43df-8893-2e81f556be0b",
   "metadata": {},
   "outputs": [
    {
     "name": "stdout",
     "output_type": "stream",
     "text": [
      "20\n"
     ]
    }
   ],
   "source": [
    "point = (10, 20)\n",
    "print(point[1])"
   ]
  },
  {
   "cell_type": "code",
   "execution_count": 103,
   "id": "c27cabbe-b332-4048-8c62-a12a3518932c",
   "metadata": {},
   "outputs": [
    {
     "ename": "TypeError",
     "evalue": "'tuple' object does not support item assignment",
     "output_type": "error",
     "traceback": [
      "\u001b[1;31m---------------------------------------------------------------------------\u001b[0m",
      "\u001b[1;31mTypeError\u001b[0m                                 Traceback (most recent call last)",
      "Cell \u001b[1;32mIn[103], line 1\u001b[0m\n\u001b[1;32m----> 1\u001b[0m point[\u001b[38;5;241m1\u001b[39m]\u001b[38;5;241m=\u001b[39m\u001b[38;5;241m30\u001b[39m\n",
      "\u001b[1;31mTypeError\u001b[0m: 'tuple' object does not support item assignment"
     ]
    }
   ],
   "source": [
    "point[1]=30"
   ]
  },
  {
   "cell_type": "code",
   "execution_count": 105,
   "id": "e552902f-7f92-4000-80dd-87167428d7cb",
   "metadata": {},
   "outputs": [],
   "source": [
    "numbers = [1, 2, 3]"
   ]
  },
  {
   "cell_type": "code",
   "execution_count": 107,
   "id": "ceee258b-890a-4a10-b982-525fd939fc63",
   "metadata": {},
   "outputs": [
    {
     "data": {
      "text/plain": [
       "1"
      ]
     },
     "execution_count": 107,
     "metadata": {},
     "output_type": "execute_result"
    }
   ],
   "source": [
    "numbers[0]"
   ]
  },
  {
   "cell_type": "code",
   "execution_count": 109,
   "id": "3e061ed4-0206-4b9e-aafd-6ad4904e9ad6",
   "metadata": {},
   "outputs": [],
   "source": [
    "numbers[0]=10"
   ]
  },
  {
   "cell_type": "code",
   "execution_count": 111,
   "id": "03f8f8ce-b16e-4100-84ad-1f5ed4694ba9",
   "metadata": {},
   "outputs": [
    {
     "data": {
      "text/plain": [
       "[10, 2, 3]"
      ]
     },
     "execution_count": 111,
     "metadata": {},
     "output_type": "execute_result"
    }
   ],
   "source": [
    "numbers"
   ]
  },
  {
   "cell_type": "code",
   "execution_count": 119,
   "id": "fe23e263-701c-4584-9ad7-ac8a5f85fe14",
   "metadata": {},
   "outputs": [],
   "source": [
    "fruits = {\"apple\", \"banana\", \"cherry\"}\n",
    "  \n"
   ]
  },
  {
   "cell_type": "code",
   "execution_count": 121,
   "id": "664ea679-e767-4785-8331-89efd48ad959",
   "metadata": {},
   "outputs": [
    {
     "data": {
      "text/plain": [
       "set"
      ]
     },
     "execution_count": 121,
     "metadata": {},
     "output_type": "execute_result"
    }
   ],
   "source": [
    "type(fruits)"
   ]
  },
  {
   "cell_type": "code",
   "execution_count": 127,
   "id": "0d8be5b5-19e9-4c78-b224-649f6d03cb6b",
   "metadata": {},
   "outputs": [],
   "source": [
    "fruits.add(\"orange\")"
   ]
  },
  {
   "cell_type": "code",
   "execution_count": 129,
   "id": "5398b43a-67ad-4d34-bd83-9d90e5de0b8f",
   "metadata": {},
   "outputs": [
    {
     "name": "stdout",
     "output_type": "stream",
     "text": [
      "{'banana', 'cherry', 'apple', 'orange'}\n"
     ]
    }
   ],
   "source": [
    "print(fruits)"
   ]
  },
  {
   "cell_type": "code",
   "execution_count": null,
   "id": "44b03c7c-04db-4039-9615-33d36d4cabec",
   "metadata": {},
   "outputs": [],
   "source": [
    "'''## **Conclusion**\n",
    "- **Identifiers** must follow naming rules (no keywords, no special chars).\n",
    "- **Keywords** (`if`, `for`, `while`) have special meanings and cannot be used as identifiers.\n",
    "- **Data Types** can be:\n",
    "  - **Sequential** (`str`, `list`, `tuple`) or **Non-Sequential** (`set`, `dict`).\n",
    "  - **Ordered** (`list`, `tuple`, `str`) or **Unordered** (`set`).\n",
    "  - **Mutable** (`list`, `dict`, `set`) or **Immutable** (`int`, `str`, `tuple`).\n",
    "'''"
   ]
  },
  {
   "cell_type": "code",
   "execution_count": 155,
   "id": "756326bf-a54f-4a8e-9ea6-fd31447ae5fd",
   "metadata": {},
   "outputs": [],
   "source": [
    "#A string is a sequence of characters enclosed in single quotes (' '), double quotes (\" \"), or triple quotes (''' ''' / \"\"\" \"\"\").\n",
    "s1 = 'Hello'\n",
    "s2 = \"World\"\n",
    "s3 = '''This is \n",
    "a multiline \n",
    "string'''\n",
    "#\\n represenetation of a newline \\t represents tab space"
   ]
  },
  {
   "cell_type": "code",
   "execution_count": 133,
   "id": "ce92de10-acd5-4ef7-b6b5-a9d60e6a4fe0",
   "metadata": {},
   "outputs": [
    {
     "data": {
      "text/plain": [
       "'Hello'"
      ]
     },
     "execution_count": 133,
     "metadata": {},
     "output_type": "execute_result"
    }
   ],
   "source": [
    "s1"
   ]
  },
  {
   "cell_type": "code",
   "execution_count": 135,
   "id": "62fa4290-f952-4a51-bf80-66ddf0ce1353",
   "metadata": {},
   "outputs": [
    {
     "data": {
      "text/plain": [
       "'World'"
      ]
     },
     "execution_count": 135,
     "metadata": {},
     "output_type": "execute_result"
    }
   ],
   "source": [
    "s2"
   ]
  },
  {
   "cell_type": "code",
   "execution_count": 153,
   "id": "f0652ccd-3433-4345-87dc-d10b8e77ca46",
   "metadata": {},
   "outputs": [
    {
     "data": {
      "text/plain": [
       "'This is \\na multiline \\nstring'"
      ]
     },
     "execution_count": 153,
     "metadata": {},
     "output_type": "execute_result"
    }
   ],
   "source": [
    "s3"
   ]
  },
  {
   "cell_type": "code",
   "execution_count": 157,
   "id": "19b14efe-22c1-4db6-875f-3a250632dbea",
   "metadata": {},
   "outputs": [],
   "source": [
    "#Indexing"
   ]
  },
  {
   "cell_type": "code",
   "execution_count": 159,
   "id": "c8482239-fc8b-4e87-9aaf-6243e597d68c",
   "metadata": {},
   "outputs": [],
   "source": [
    "s1 = 'Hello'"
   ]
  },
  {
   "cell_type": "code",
   "execution_count": 161,
   "id": "76571cac-ba0d-4224-830b-6fecb882f495",
   "metadata": {},
   "outputs": [
    {
     "data": {
      "text/plain": [
       "'H'"
      ]
     },
     "execution_count": 161,
     "metadata": {},
     "output_type": "execute_result"
    }
   ],
   "source": [
    "s1[0]"
   ]
  },
  {
   "cell_type": "code",
   "execution_count": 163,
   "id": "148dc229-7407-4f00-8bac-de961f147983",
   "metadata": {},
   "outputs": [
    {
     "data": {
      "text/plain": [
       "'o'"
      ]
     },
     "execution_count": 163,
     "metadata": {},
     "output_type": "execute_result"
    }
   ],
   "source": [
    "s1[-1]"
   ]
  },
  {
   "cell_type": "code",
   "execution_count": 165,
   "id": "874f941e-c055-42bb-947d-2eff352881bd",
   "metadata": {},
   "outputs": [
    {
     "data": {
      "text/plain": [
       "'l'"
      ]
     },
     "execution_count": 165,
     "metadata": {},
     "output_type": "execute_result"
    }
   ],
   "source": [
    "s1[2]"
   ]
  },
  {
   "cell_type": "code",
   "execution_count": 167,
   "id": "afa05882-0c93-4235-a9d6-06decfed22fe",
   "metadata": {},
   "outputs": [
    {
     "data": {
      "text/plain": [
       "'\\nSyntax: string[start:end:step]\\n•\\tstart – Start index (inclusive)\\n•\\tend – End index (exclusive)\\n•\\tstep – (Optional) skip characters\\n\\n'"
      ]
     },
     "execution_count": 167,
     "metadata": {},
     "output_type": "execute_result"
    }
   ],
   "source": [
    "'''\n",
    "Syntax: string[start:end:step]\n",
    "•\tstart – Start index (inclusive)\n",
    "•\tend – End index (exclusive)\n",
    "•\tstep – (Optional) skip characters\n",
    "\n",
    "'''"
   ]
  },
  {
   "cell_type": "code",
   "execution_count": 169,
   "id": "70fa8f82-d123-446a-b129-8ed2c737b6ac",
   "metadata": {},
   "outputs": [],
   "source": [
    "str_data=\"Good Morning Batch 21\""
   ]
  },
  {
   "cell_type": "code",
   "execution_count": 177,
   "id": "bef146f0-3a31-43f9-94ea-090c9a7a9731",
   "metadata": {},
   "outputs": [
    {
     "data": {
      "text/plain": [
       "21"
      ]
     },
     "execution_count": 177,
     "metadata": {},
     "output_type": "execute_result"
    }
   ],
   "source": [
    "len(str_data)"
   ]
  },
  {
   "cell_type": "code",
   "execution_count": 173,
   "id": "b4e97bf8-9023-4c36-9397-4cce87f6d8a0",
   "metadata": {},
   "outputs": [
    {
     "data": {
      "text/plain": [
       "'Good Morning Batch 21'"
      ]
     },
     "execution_count": 173,
     "metadata": {},
     "output_type": "execute_result"
    }
   ],
   "source": [
    "str_data[ : :]"
   ]
  },
  {
   "cell_type": "code",
   "execution_count": 175,
   "id": "b4db19a0-6f0e-41a3-a9f5-25607be62450",
   "metadata": {},
   "outputs": [
    {
     "data": {
      "text/plain": [
       "'ood Morning Batch 21'"
      ]
     },
     "execution_count": 175,
     "metadata": {},
     "output_type": "execute_result"
    }
   ],
   "source": [
    "str_data[1::]"
   ]
  },
  {
   "cell_type": "code",
   "execution_count": 179,
   "id": "29dafcf5-bf10-4d48-9173-9833cf149db8",
   "metadata": {},
   "outputs": [
    {
     "data": {
      "text/plain": [
       "'ood Morning Batch 2'"
      ]
     },
     "execution_count": 179,
     "metadata": {},
     "output_type": "execute_result"
    }
   ],
   "source": [
    "str_data[1:20:]"
   ]
  },
  {
   "cell_type": "code",
   "execution_count": 187,
   "id": "f16c255c-70e3-4481-af9d-e94ff613f798",
   "metadata": {},
   "outputs": [
    {
     "data": {
      "text/plain": [
       "'Gdoi t '"
      ]
     },
     "execution_count": 187,
     "metadata": {},
     "output_type": "execute_result"
    }
   ],
   "source": [
    "str_data[::3] #Good Morning Batch 21[start:end:step=n-1]"
   ]
  },
  {
   "cell_type": "code",
   "execution_count": 189,
   "id": "1e66c066-6694-45ac-a0df-bb29cf37abaf",
   "metadata": {},
   "outputs": [
    {
     "data": {
      "text/plain": [
       "'12 hctaB gninroM dooG'"
      ]
     },
     "execution_count": 189,
     "metadata": {},
     "output_type": "execute_result"
    }
   ],
   "source": [
    "str_data[::-1]"
   ]
  },
  {
   "cell_type": "code",
   "execution_count": 193,
   "id": "cf14c865-ccd4-4943-8167-7f67e5b91afe",
   "metadata": {},
   "outputs": [],
   "source": [
    "#String Methods"
   ]
  },
  {
   "cell_type": "code",
   "execution_count": 473,
   "id": "84f99813-2d58-410d-981b-4a8c618800db",
   "metadata": {},
   "outputs": [],
   "source": [
    "str_data=\"Good Morning Batch 21\""
   ]
  },
  {
   "cell_type": "code",
   "execution_count": 475,
   "id": "0230ac20-1fdc-40f7-bac9-beb9a4625b5b",
   "metadata": {},
   "outputs": [
    {
     "name": "stdout",
     "output_type": "stream",
     "text": [
      "<class 'str'>\n"
     ]
    }
   ],
   "source": [
    "print(type(str_data))"
   ]
  },
  {
   "cell_type": "code",
   "execution_count": 477,
   "id": "33fdf833-9bbd-428c-96c5-5a21f9c13384",
   "metadata": {},
   "outputs": [
    {
     "data": {
      "text/plain": [
       "'Good morning batch 21'"
      ]
     },
     "execution_count": 477,
     "metadata": {},
     "output_type": "execute_result"
    }
   ],
   "source": [
    "str_data.capitalize()"
   ]
  },
  {
   "cell_type": "code",
   "execution_count": 479,
   "id": "cc7d1a46-a4ee-40d5-814a-8d1842c91856",
   "metadata": {},
   "outputs": [
    {
     "data": {
      "text/plain": [
       "'Good Morning Batch 21'"
      ]
     },
     "execution_count": 479,
     "metadata": {},
     "output_type": "execute_result"
    }
   ],
   "source": [
    "str_data=\"good morning batch 21\"\n",
    "str_data.title()"
   ]
  },
  {
   "cell_type": "code",
   "execution_count": 209,
   "id": "93b95b4b-0efa-4525-a2b9-808be9169e15",
   "metadata": {},
   "outputs": [
    {
     "data": {
      "text/plain": [
       "'GOOD MORNING BATCH 21'"
      ]
     },
     "execution_count": 209,
     "metadata": {},
     "output_type": "execute_result"
    }
   ],
   "source": [
    "str_data=\"good morning batch 21\"\n",
    "str_data.upper()"
   ]
  },
  {
   "cell_type": "code",
   "execution_count": 481,
   "id": "f8b2b2a7-4ae5-427f-b19f-306ea16dcf28",
   "metadata": {},
   "outputs": [
    {
     "data": {
      "text/plain": [
       "'good morning batch 21'"
      ]
     },
     "execution_count": 481,
     "metadata": {},
     "output_type": "execute_result"
    }
   ],
   "source": [
    "str_data='GOOD MORNING BATCH 21'\n",
    "str_data.lower()"
   ]
  },
  {
   "cell_type": "code",
   "execution_count": 483,
   "id": "ae9c5c5f-cc4f-40b6-9618-f4be7f5f057a",
   "metadata": {},
   "outputs": [
    {
     "data": {
      "text/plain": [
       "'Good morning batch 21'"
      ]
     },
     "execution_count": 483,
     "metadata": {},
     "output_type": "execute_result"
    }
   ],
   "source": [
    "str_data='gOOD MORNING BATCH 21'\n",
    "str_data.swapcase()"
   ]
  },
  {
   "cell_type": "code",
   "execution_count": 487,
   "id": "b80ab5d7-00b5-44e4-83d8-97c35e63f19e",
   "metadata": {},
   "outputs": [
    {
     "data": {
      "text/plain": [
       "21"
      ]
     },
     "execution_count": 487,
     "metadata": {},
     "output_type": "execute_result"
    }
   ],
   "source": [
    "len(str_data)"
   ]
  },
  {
   "cell_type": "code",
   "execution_count": 489,
   "id": "ac98e42d-ed38-4853-a1c8-b245d04f480c",
   "metadata": {},
   "outputs": [
    {
     "data": {
      "text/plain": [
       "'1'"
      ]
     },
     "execution_count": 489,
     "metadata": {},
     "output_type": "execute_result"
    }
   ],
   "source": [
    "str_data[-1]"
   ]
  },
  {
   "cell_type": "code",
   "execution_count": 491,
   "id": "01f07fb8-f7d8-43e6-8fd0-2145ffbc3161",
   "metadata": {},
   "outputs": [
    {
     "data": {
      "text/plain": [
       "'2'"
      ]
     },
     "execution_count": 491,
     "metadata": {},
     "output_type": "execute_result"
    }
   ],
   "source": [
    "str_data[19]"
   ]
  },
  {
   "cell_type": "code",
   "execution_count": 493,
   "id": "bc42ba59-0e83-40a0-ad6a-589c2cfe11a6",
   "metadata": {},
   "outputs": [
    {
     "data": {
      "text/plain": [
       "19"
      ]
     },
     "execution_count": 493,
     "metadata": {},
     "output_type": "execute_result"
    }
   ],
   "source": [
    "str_data.find(\"2\")"
   ]
  },
  {
   "cell_type": "code",
   "execution_count": 497,
   "id": "f0065c4f-594d-4b85-968b-c27f6c771976",
   "metadata": {},
   "outputs": [
    {
     "data": {
      "text/plain": [
       "3"
      ]
     },
     "execution_count": 497,
     "metadata": {},
     "output_type": "execute_result"
    }
   ],
   "source": [
    "str_data=\"Hello Word\"\n",
    "str_data.rfind(\"l\")"
   ]
  },
  {
   "cell_type": "code",
   "execution_count": 499,
   "id": "84e2fc8d-b7ec-4171-bcab-8f011595cfc1",
   "metadata": {},
   "outputs": [
    {
     "data": {
      "text/plain": [
       "'l'"
      ]
     },
     "execution_count": 499,
     "metadata": {},
     "output_type": "execute_result"
    }
   ],
   "source": [
    "str_data[3]"
   ]
  },
  {
   "cell_type": "code",
   "execution_count": 501,
   "id": "383a4c50-9a99-4296-983f-6d1c4289c017",
   "metadata": {},
   "outputs": [
    {
     "data": {
      "text/plain": [
       "'Hello Python'"
      ]
     },
     "execution_count": 501,
     "metadata": {},
     "output_type": "execute_result"
    }
   ],
   "source": [
    "str_data=\"Hello World\"\n",
    "str_data.replace(\"World\",\"Python\")"
   ]
  },
  {
   "cell_type": "code",
   "execution_count": 503,
   "id": "f6a2f80f-4929-44b0-88bd-65fbc1a4f257",
   "metadata": {},
   "outputs": [
    {
     "data": {
      "text/plain": [
       "3"
      ]
     },
     "execution_count": 503,
     "metadata": {},
     "output_type": "execute_result"
    }
   ],
   "source": [
    "str_data=\"Hello World\"\n",
    "str_data.count(\"l\")"
   ]
  },
  {
   "cell_type": "code",
   "execution_count": 513,
   "id": "62c825ec-f913-4eec-8ca3-2fb189b46859",
   "metadata": {},
   "outputs": [
    {
     "data": {
      "text/plain": [
       "True"
      ]
     },
     "execution_count": 513,
     "metadata": {},
     "output_type": "execute_result"
    }
   ],
   "source": [
    "str_data=\"HelloWorld\"\n",
    "str_data.isalpha()"
   ]
  },
  {
   "cell_type": "code",
   "execution_count": 515,
   "id": "5daddb53-a92e-4f92-a676-11826d47c575",
   "metadata": {},
   "outputs": [
    {
     "data": {
      "text/plain": [
       "False"
      ]
     },
     "execution_count": 515,
     "metadata": {},
     "output_type": "execute_result"
    }
   ],
   "source": [
    "str_data=\"20\"\n",
    "str_data.isalpha()"
   ]
  },
  {
   "cell_type": "code",
   "execution_count": 519,
   "id": "9e2d2f3d-10b6-4674-8155-edda47ad2e61",
   "metadata": {},
   "outputs": [
    {
     "data": {
      "text/plain": [
       "False"
      ]
     },
     "execution_count": 519,
     "metadata": {},
     "output_type": "execute_result"
    }
   ],
   "source": [
    "num_data=\"20q\"\n",
    "num_data.isdigit()"
   ]
  },
  {
   "cell_type": "code",
   "execution_count": 521,
   "id": "3f8b6b99-402e-48ad-aa70-3454a1aaffd5",
   "metadata": {},
   "outputs": [
    {
     "ename": "AttributeError",
     "evalue": "'int' object has no attribute 'isdigit'",
     "output_type": "error",
     "traceback": [
      "\u001b[1;31m---------------------------------------------------------------------------\u001b[0m",
      "\u001b[1;31mAttributeError\u001b[0m                            Traceback (most recent call last)",
      "Cell \u001b[1;32mIn[521], line 2\u001b[0m\n\u001b[0;32m      1\u001b[0m num_data\u001b[38;5;241m=\u001b[39m\u001b[38;5;241m20\u001b[39m\n\u001b[1;32m----> 2\u001b[0m num_data\u001b[38;5;241m.\u001b[39misdigit()\n",
      "\u001b[1;31mAttributeError\u001b[0m: 'int' object has no attribute 'isdigit'"
     ]
    }
   ],
   "source": [
    "num_data=20\n",
    "num_data.isdigit()"
   ]
  },
  {
   "cell_type": "code",
   "execution_count": 525,
   "id": "bf3ec2f1-628b-47ce-b328-7aea51fd2f59",
   "metadata": {},
   "outputs": [
    {
     "data": {
      "text/plain": [
       "True"
      ]
     },
     "execution_count": 525,
     "metadata": {},
     "output_type": "execute_result"
    }
   ],
   "source": [
    "str_data=\"python\"\n",
    "str_data.islower()"
   ]
  },
  {
   "cell_type": "code",
   "execution_count": 267,
   "id": "97e8eb76-0cfd-4a77-8605-f6ea7d2d50fc",
   "metadata": {},
   "outputs": [
    {
     "data": {
      "text/plain": [
       "False"
      ]
     },
     "execution_count": 267,
     "metadata": {},
     "output_type": "execute_result"
    }
   ],
   "source": [
    "str_data=\"Python\"\n",
    "str_data.isupper()"
   ]
  },
  {
   "cell_type": "code",
   "execution_count": 529,
   "id": "1397803b-8c40-4c0e-8b8f-45be1d44f382",
   "metadata": {},
   "outputs": [
    {
     "data": {
      "text/plain": [
       "False"
      ]
     },
     "execution_count": 529,
     "metadata": {},
     "output_type": "execute_result"
    }
   ],
   "source": [
    "str_data=\"PYTHOm\"\n",
    "str_data.isupper()"
   ]
  },
  {
   "cell_type": "code",
   "execution_count": 535,
   "id": "45d246fd-ab74-409e-bf66-d4f820ae2289",
   "metadata": {},
   "outputs": [
    {
     "data": {
      "text/plain": [
       "False"
      ]
     },
     "execution_count": 535,
     "metadata": {},
     "output_type": "execute_result"
    }
   ],
   "source": [
    "str_data=\"pYthon\"\n",
    "str_data.istitle()"
   ]
  },
  {
   "cell_type": "code",
   "execution_count": 539,
   "id": "c1826f13-3305-4e73-af0f-788bf99a75c7",
   "metadata": {},
   "outputs": [
    {
     "name": "stdout",
     "output_type": "stream",
     "text": [
      "True\n",
      "True\n"
     ]
    }
   ],
   "source": [
    "str_data = \"python.py\"\n",
    "print(str_data.startswith(\"py\"))  # True\n",
    "print(str_data.endswith(\".py\"))   \n"
   ]
  },
  {
   "cell_type": "code",
   "execution_count": 541,
   "id": "0c5827b6-9117-4225-bd48-c5f5365e51dd",
   "metadata": {},
   "outputs": [
    {
     "data": {
      "text/plain": [
       "['hey', 'lets', 'learn', 'Python']"
      ]
     },
     "execution_count": 541,
     "metadata": {},
     "output_type": "execute_result"
    }
   ],
   "source": [
    "str_data=\"hey lets learn Python\"\n",
    "str_data.split()"
   ]
  },
  {
   "cell_type": "code",
   "execution_count": 543,
   "id": "586ec377-f114-463b-aeb7-fb8638aa9a19",
   "metadata": {},
   "outputs": [
    {
     "data": {
      "text/plain": [
       "['hey ', ' learn Python']"
      ]
     },
     "execution_count": 543,
     "metadata": {},
     "output_type": "execute_result"
    }
   ],
   "source": [
    "str_data=\"hey lets learn Python\"\n",
    "str_data.split('lets')"
   ]
  },
  {
   "cell_type": "code",
   "execution_count": 545,
   "id": "57132b1c-04ac-4c3a-b3fb-75993d3494d8",
   "metadata": {},
   "outputs": [
    {
     "data": {
      "text/plain": [
       "['hey ', 'lets ', 'learn ', 'Python']"
      ]
     },
     "execution_count": 545,
     "metadata": {},
     "output_type": "execute_result"
    }
   ],
   "source": [
    "str_data=\"hey ,lets ,learn ,Python\"\n",
    "str_data.split(',')"
   ]
  },
  {
   "cell_type": "code",
   "execution_count": 551,
   "id": "d1d872dd-f233-4bf4-bfeb-b04961ee828c",
   "metadata": {},
   "outputs": [
    {
     "name": "stdout",
     "output_type": "stream",
     "text": [
      "hey . lets . learn . Python\n"
     ]
    }
   ],
   "source": [
    "print(\". \".join(['hey ', 'lets ', 'learn ', 'Python']))"
   ]
  },
  {
   "cell_type": "code",
   "execution_count": 549,
   "id": "7e736d74-776c-4651-9faa-ac8296da0da0",
   "metadata": {},
   "outputs": [
    {
     "name": "stdout",
     "output_type": "stream",
     "text": [
      "hello\n",
      "hello   \n",
      "   hello\n"
     ]
    }
   ],
   "source": [
    "s = \"   hello   \"\n",
    "print(s.strip())    # 'hello'\n",
    "print(s.lstrip())   # 'hello   '\n",
    "print(s.rstrip())   # '   hello'\n"
   ]
  },
  {
   "cell_type": "code",
   "execution_count": 553,
   "id": "3771c853-c519-456c-81c2-5f51fdd81c6f",
   "metadata": {},
   "outputs": [
    {
     "data": {
      "text/plain": [
       "'learn Python'"
      ]
     },
     "execution_count": 553,
     "metadata": {},
     "output_type": "execute_result"
    }
   ],
   "source": [
    "str_data_1=\"learn\"\n",
    "str_data_2=\"Python\"\n",
    "str_data_1+\" \"+str_data_2"
   ]
  },
  {
   "cell_type": "code",
   "execution_count": 555,
   "id": "158e4c6a-36e3-4c4f-b0af-888f6da4ad67",
   "metadata": {},
   "outputs": [
    {
     "data": {
      "text/plain": [
       "'hellohellohellohellohello'"
      ]
     },
     "execution_count": 555,
     "metadata": {},
     "output_type": "execute_result"
    }
   ],
   "source": [
    "s = \"hello\"\n",
    "s*5"
   ]
  },
  {
   "cell_type": "code",
   "execution_count": 557,
   "id": "3fbca58b-4ddf-4f37-bcca-cdd0e83f9cf4",
   "metadata": {},
   "outputs": [
    {
     "data": {
      "text/plain": [
       "True"
      ]
     },
     "execution_count": 557,
     "metadata": {},
     "output_type": "execute_result"
    }
   ],
   "source": [
    "s = \"hello\"\n",
    "\"h\" in s"
   ]
  },
  {
   "cell_type": "code",
   "execution_count": 559,
   "id": "b575dc77-7e34-48f5-b35c-aade041c1675",
   "metadata": {},
   "outputs": [
    {
     "data": {
      "text/plain": [
       "False"
      ]
     },
     "execution_count": 559,
     "metadata": {},
     "output_type": "execute_result"
    }
   ],
   "source": [
    "s = \"hello\"\n",
    "\"p\" in s"
   ]
  },
  {
   "cell_type": "code",
   "execution_count": 309,
   "id": "0d6ea79c-62d4-49ad-8601-904820579a83",
   "metadata": {},
   "outputs": [
    {
     "data": {
      "text/plain": [
       "False"
      ]
     },
     "execution_count": 309,
     "metadata": {},
     "output_type": "execute_result"
    }
   ],
   "source": [
    "s = \"hello\"\n",
    "\"h\" not in s"
   ]
  },
  {
   "cell_type": "code",
   "execution_count": 311,
   "id": "ddb80af7-c6b9-4711-a2ea-557c4ea62cfe",
   "metadata": {},
   "outputs": [
    {
     "data": {
      "text/plain": [
       "True"
      ]
     },
     "execution_count": 311,
     "metadata": {},
     "output_type": "execute_result"
    }
   ],
   "source": [
    "s = \"hello\"\n",
    "\"p\" not in s"
   ]
  },
  {
   "cell_type": "code",
   "execution_count": 313,
   "id": "f6badd32-8272-428e-a146-13f179686e59",
   "metadata": {},
   "outputs": [
    {
     "data": {
      "text/plain": [
       "True"
      ]
     },
     "execution_count": 313,
     "metadata": {},
     "output_type": "execute_result"
    }
   ],
   "source": [
    "s==s"
   ]
  },
  {
   "cell_type": "code",
   "execution_count": 315,
   "id": "292f5712-5f37-4bb8-879a-35a06c1bc2dc",
   "metadata": {},
   "outputs": [
    {
     "data": {
      "text/plain": [
       "True"
      ]
     },
     "execution_count": 315,
     "metadata": {},
     "output_type": "execute_result"
    }
   ],
   "source": [
    "\"Python\"==\"Python\""
   ]
  },
  {
   "cell_type": "code",
   "execution_count": 317,
   "id": "cd2cc967-1798-4273-9bc9-b2c97962bae3",
   "metadata": {},
   "outputs": [
    {
     "data": {
      "text/plain": [
       "False"
      ]
     },
     "execution_count": 317,
     "metadata": {},
     "output_type": "execute_result"
    }
   ],
   "source": [
    "\"Pytho\"==\"Python\""
   ]
  },
  {
   "cell_type": "code",
   "execution_count": 319,
   "id": "822436de-dfc5-4fb3-8727-b1b7c29a7894",
   "metadata": {},
   "outputs": [
    {
     "ename": "TypeError",
     "evalue": "'str' object does not support item assignment",
     "output_type": "error",
     "traceback": [
      "\u001b[1;31m---------------------------------------------------------------------------\u001b[0m",
      "\u001b[1;31mTypeError\u001b[0m                                 Traceback (most recent call last)",
      "Cell \u001b[1;32mIn[319], line 2\u001b[0m\n\u001b[0;32m      1\u001b[0m s \u001b[38;5;241m=\u001b[39m \u001b[38;5;124m\"\u001b[39m\u001b[38;5;124mhello\u001b[39m\u001b[38;5;124m\"\u001b[39m\n\u001b[1;32m----> 2\u001b[0m s[\u001b[38;5;241m0\u001b[39m]\u001b[38;5;241m=\u001b[39m\u001b[38;5;124m\"\u001b[39m\u001b[38;5;124mH\u001b[39m\u001b[38;5;124m\"\u001b[39m\n",
      "\u001b[1;31mTypeError\u001b[0m: 'str' object does not support item assignment"
     ]
    }
   ],
   "source": [
    "s = \"hello\"\n",
    "s[0]=\"H\""
   ]
  },
  {
   "cell_type": "code",
   "execution_count": 561,
   "id": "3a5906b8-6cfd-41a1-b64c-45cdf5f78c88",
   "metadata": {},
   "outputs": [
    {
     "name": "stdout",
     "output_type": "stream",
     "text": [
      "Hello Mrutyunjaya, welcome to Treenetra!\n"
     ]
    }
   ],
   "source": [
    "#str.format()\n",
    "#print(\"Hello {}, welcome to {}!\".format(\"Alice\", \"Python\"))\n",
    "print(\"Hello {}, welcome to {}!\".format(\"Mrutyunjaya\",\"Treenetra\"))"
   ]
  },
  {
   "cell_type": "code",
   "execution_count": 323,
   "id": "d3e9fbe9-e9a5-401b-8cf7-4f42b6f57a62",
   "metadata": {},
   "outputs": [
    {
     "name": "stdout",
     "output_type": "stream",
     "text": [
      "Hello Mrutyunjaya, welcome to Treenetra,Hope you are all Good!\n"
     ]
    }
   ],
   "source": [
    "print(\"Hello {}, welcome to {},Hope you are all {}!\".format(\"Mrutyunjaya\",\"Treenetra\",\"Good\"))"
   ]
  },
  {
   "cell_type": "code",
   "execution_count": 563,
   "id": "e3b4d7f8-4b0e-4e16-a354-1f31cacb3b34",
   "metadata": {},
   "outputs": [
    {
     "name": "stdout",
     "output_type": "stream",
     "text": [
      "Hello Alice, welcome to Treenetra,hope you are from Batch no 21!\n"
     ]
    }
   ],
   "source": [
    "name = \"Alice\"\n",
    "coaching = \"Treenetra\"\n",
    "Batch=21\n",
    "#print(f\"Hello {name}, welcome to {coaching},hope you are from Batch no {Batch}!\")\n",
    "print(f\"Hello {name}, welcome to {coaching},hope you are from Batch no {Batch}!\")\n"
   ]
  },
  {
   "cell_type": "code",
   "execution_count": 327,
   "id": "91ace9e1-ff7b-4961-a5ce-ec3e81fce021",
   "metadata": {},
   "outputs": [],
   "source": [
    "#LIST"
   ]
  },
  {
   "cell_type": "code",
   "execution_count": 329,
   "id": "b6697f55-72d9-4bb9-a1ba-68832a1a43e6",
   "metadata": {},
   "outputs": [],
   "source": [
    "my_list = [10, \"hello\", 3.14, True]"
   ]
  },
  {
   "cell_type": "code",
   "execution_count": 331,
   "id": "3ef32f3d-c009-445c-8b59-542f039883b3",
   "metadata": {},
   "outputs": [
    {
     "data": {
      "text/plain": [
       "[10, 'hello', 3.14, True]"
      ]
     },
     "execution_count": 331,
     "metadata": {},
     "output_type": "execute_result"
    }
   ],
   "source": [
    "my_list"
   ]
  },
  {
   "cell_type": "code",
   "execution_count": 333,
   "id": "5b673502-3df2-40ba-9551-1b4d200f60e0",
   "metadata": {},
   "outputs": [],
   "source": [
    "my_list[0]=20"
   ]
  },
  {
   "cell_type": "code",
   "execution_count": 335,
   "id": "833419e3-3da8-471e-9b13-9a0cca2addbe",
   "metadata": {},
   "outputs": [
    {
     "data": {
      "text/plain": [
       "[20, 'hello', 3.14, True]"
      ]
     },
     "execution_count": 335,
     "metadata": {},
     "output_type": "execute_result"
    }
   ],
   "source": [
    "my_list"
   ]
  },
  {
   "cell_type": "code",
   "execution_count": 337,
   "id": "41a6b3a0-c4c9-4de6-a6e3-c06d86f142b5",
   "metadata": {},
   "outputs": [],
   "source": [
    "my_list = [10,10,20, \"hello\", 3.14, True]"
   ]
  },
  {
   "cell_type": "code",
   "execution_count": 339,
   "id": "112a5e03-0ac8-4f3d-abb8-fa4976922698",
   "metadata": {},
   "outputs": [
    {
     "data": {
      "text/plain": [
       "[10, 10, 20, 'hello', 3.14, True]"
      ]
     },
     "execution_count": 339,
     "metadata": {},
     "output_type": "execute_result"
    }
   ],
   "source": [
    "my_list"
   ]
  },
  {
   "cell_type": "code",
   "execution_count": 341,
   "id": "9750d0de-b86b-4211-8861-948ec58a8252",
   "metadata": {},
   "outputs": [
    {
     "data": {
      "text/plain": [
       "6"
      ]
     },
     "execution_count": 341,
     "metadata": {},
     "output_type": "execute_result"
    }
   ],
   "source": [
    "len(my_list)"
   ]
  },
  {
   "cell_type": "code",
   "execution_count": 343,
   "id": "534bdd03-dfc6-487b-a5c9-df5a0ffeb249",
   "metadata": {},
   "outputs": [
    {
     "data": {
      "text/plain": [
       "10"
      ]
     },
     "execution_count": 343,
     "metadata": {},
     "output_type": "execute_result"
    }
   ],
   "source": [
    "my_list[0]"
   ]
  },
  {
   "cell_type": "code",
   "execution_count": 345,
   "id": "223040da-e5c1-466b-98fd-98bb56a61c00",
   "metadata": {},
   "outputs": [
    {
     "data": {
      "text/plain": [
       "True"
      ]
     },
     "execution_count": 345,
     "metadata": {},
     "output_type": "execute_result"
    }
   ],
   "source": [
    "my_list[-1]"
   ]
  },
  {
   "cell_type": "code",
   "execution_count": 349,
   "id": "79ea541b-b57d-4626-b747-3e4e0b8c7e2d",
   "metadata": {},
   "outputs": [
    {
     "data": {
      "text/plain": [
       "[10, 10, 20, 'hello', 3.14, True]"
      ]
     },
     "execution_count": 349,
     "metadata": {},
     "output_type": "execute_result"
    }
   ],
   "source": [
    "my_list[::]"
   ]
  },
  {
   "cell_type": "code",
   "execution_count": 351,
   "id": "beabda71-3e93-4a44-9035-b427b97b3b53",
   "metadata": {},
   "outputs": [
    {
     "data": {
      "text/plain": [
       "[10, 20, 'hello', 3.14, True]"
      ]
     },
     "execution_count": 351,
     "metadata": {},
     "output_type": "execute_result"
    }
   ],
   "source": [
    "my_list[1::]"
   ]
  },
  {
   "cell_type": "code",
   "execution_count": 353,
   "id": "d1ebf15a-792b-4990-b231-0c5b4a4375ac",
   "metadata": {},
   "outputs": [
    {
     "data": {
      "text/plain": [
       "[10, 20, 'hello']"
      ]
     },
     "execution_count": 353,
     "metadata": {},
     "output_type": "execute_result"
    }
   ],
   "source": [
    "my_list[1:4:]"
   ]
  },
  {
   "cell_type": "code",
   "execution_count": 355,
   "id": "3c98d28c-e8fa-4e8c-95d1-c60e1afe8fde",
   "metadata": {},
   "outputs": [
    {
     "data": {
      "text/plain": [
       "[10, 20, 3.14]"
      ]
     },
     "execution_count": 355,
     "metadata": {},
     "output_type": "execute_result"
    }
   ],
   "source": [
    "my_list[::2]"
   ]
  },
  {
   "cell_type": "code",
   "execution_count": 357,
   "id": "b1734748-ec61-48f5-a033-daf275c31849",
   "metadata": {},
   "outputs": [
    {
     "data": {
      "text/plain": [
       "[True, 3.14, 'hello', 20, 10, 10]"
      ]
     },
     "execution_count": 357,
     "metadata": {},
     "output_type": "execute_result"
    }
   ],
   "source": [
    "my_list[::-1]"
   ]
  },
  {
   "cell_type": "code",
   "execution_count": 359,
   "id": "a6a0f74e-1560-4e51-b670-5afec74eaa0e",
   "metadata": {},
   "outputs": [
    {
     "data": {
      "text/plain": [
       "[10, 10, 20, 'hello', 3.14, True]"
      ]
     },
     "execution_count": 359,
     "metadata": {},
     "output_type": "execute_result"
    }
   ],
   "source": [
    "my_list"
   ]
  },
  {
   "cell_type": "code",
   "execution_count": 361,
   "id": "cad3eb79-020f-49f1-86d7-338c3b4aed5a",
   "metadata": {},
   "outputs": [],
   "source": [
    "my_list.append(\"python\")"
   ]
  },
  {
   "cell_type": "code",
   "execution_count": 363,
   "id": "2a5c514b-7335-4bcc-8a1a-b96b13153ed3",
   "metadata": {},
   "outputs": [
    {
     "data": {
      "text/plain": [
       "[10, 10, 20, 'hello', 3.14, True, 'python']"
      ]
     },
     "execution_count": 363,
     "metadata": {},
     "output_type": "execute_result"
    }
   ],
   "source": [
    "my_list"
   ]
  },
  {
   "cell_type": "code",
   "execution_count": 365,
   "id": "f23f32a3-29ab-4e5c-9376-d03c34b92cf3",
   "metadata": {},
   "outputs": [],
   "source": [
    "my_list.insert(3,\"Good Morning\")"
   ]
  },
  {
   "cell_type": "code",
   "execution_count": 367,
   "id": "18af26cd-1920-43e9-bb82-7bf26fb0b4ec",
   "metadata": {},
   "outputs": [
    {
     "data": {
      "text/plain": [
       "[10, 10, 20, 'Good Morning', 'hello', 3.14, True, 'python']"
      ]
     },
     "execution_count": 367,
     "metadata": {},
     "output_type": "execute_result"
    }
   ],
   "source": [
    "my_list"
   ]
  },
  {
   "cell_type": "code",
   "execution_count": 369,
   "id": "66b5be38-a168-424e-8fd6-63e7901d2b57",
   "metadata": {},
   "outputs": [],
   "source": [
    "l1=[1,2,3]"
   ]
  },
  {
   "cell_type": "code",
   "execution_count": 371,
   "id": "c13e667c-a11c-4786-89d6-1d0fe5242111",
   "metadata": {},
   "outputs": [],
   "source": [
    "my_list.extend(l1)"
   ]
  },
  {
   "cell_type": "code",
   "execution_count": 373,
   "id": "0183782d-2478-4eba-88b0-cd4ec649a4ad",
   "metadata": {},
   "outputs": [
    {
     "data": {
      "text/plain": [
       "[10, 10, 20, 'Good Morning', 'hello', 3.14, True, 'python', 1, 2, 3]"
      ]
     },
     "execution_count": 373,
     "metadata": {},
     "output_type": "execute_result"
    }
   ],
   "source": [
    "my_list"
   ]
  },
  {
   "cell_type": "code",
   "execution_count": 375,
   "id": "a68e7f16-c7c6-417f-8676-145e1b1cb2cb",
   "metadata": {},
   "outputs": [],
   "source": [
    "my_list.append(l1)"
   ]
  },
  {
   "cell_type": "code",
   "execution_count": 377,
   "id": "bb735191-9ec2-4b79-9d0e-85f6506222c6",
   "metadata": {},
   "outputs": [
    {
     "data": {
      "text/plain": [
       "[10, 10, 20, 'Good Morning', 'hello', 3.14, True, 'python', 1, 2, 3, [1, 2, 3]]"
      ]
     },
     "execution_count": 377,
     "metadata": {},
     "output_type": "execute_result"
    }
   ],
   "source": [
    "my_list"
   ]
  },
  {
   "cell_type": "code",
   "execution_count": 387,
   "id": "17711db3-1e2f-417f-9e50-3b85d0066495",
   "metadata": {},
   "outputs": [],
   "source": [
    "my_list.remove(1)"
   ]
  },
  {
   "cell_type": "code",
   "execution_count": 389,
   "id": "fab39a8c-dc0e-4774-bc75-26d6fee98c8c",
   "metadata": {},
   "outputs": [
    {
     "data": {
      "text/plain": [
       "[10, 20, 'Good Morning', 'hello', 3.14, 'python', 2, 3, [1, 2, 3]]"
      ]
     },
     "execution_count": 389,
     "metadata": {},
     "output_type": "execute_result"
    }
   ],
   "source": [
    "my_list"
   ]
  },
  {
   "cell_type": "code",
   "execution_count": 391,
   "id": "2594e577-1065-4318-b764-62b035083558",
   "metadata": {},
   "outputs": [],
   "source": [
    "my_list_sample=[1,2,3,4,5,5,6,7,8,9]"
   ]
  },
  {
   "cell_type": "code",
   "execution_count": 393,
   "id": "66497065-9d82-488c-93ea-0ea92a33cc23",
   "metadata": {},
   "outputs": [],
   "source": [
    "my_list_sample.remove(1)"
   ]
  },
  {
   "cell_type": "code",
   "execution_count": 395,
   "id": "3c80e627-d2cc-4938-beb1-1fa2fabdc6e5",
   "metadata": {},
   "outputs": [
    {
     "data": {
      "text/plain": [
       "[2, 3, 4, 5, 5, 6, 7, 8, 9]"
      ]
     },
     "execution_count": 395,
     "metadata": {},
     "output_type": "execute_result"
    }
   ],
   "source": [
    "my_list_sample"
   ]
  },
  {
   "cell_type": "code",
   "execution_count": 397,
   "id": "cdd0fa88-828b-4e3a-b49e-6c6d37f1c4ff",
   "metadata": {},
   "outputs": [],
   "source": [
    "my_list_sample.remove(5)"
   ]
  },
  {
   "cell_type": "code",
   "execution_count": 399,
   "id": "bbfc37b1-2266-4393-b92f-5584335666cf",
   "metadata": {},
   "outputs": [
    {
     "data": {
      "text/plain": [
       "[2, 3, 4, 5, 6, 7, 8, 9]"
      ]
     },
     "execution_count": 399,
     "metadata": {},
     "output_type": "execute_result"
    }
   ],
   "source": [
    "my_list_sample"
   ]
  },
  {
   "cell_type": "code",
   "execution_count": 401,
   "id": "824cb02b-04f0-42c8-af50-93e0e999f606",
   "metadata": {},
   "outputs": [
    {
     "data": {
      "text/plain": [
       "9"
      ]
     },
     "execution_count": 401,
     "metadata": {},
     "output_type": "execute_result"
    }
   ],
   "source": [
    "my_list_sample.pop() #pop works on the traversal principle LIFO Last in First Out"
   ]
  },
  {
   "cell_type": "code",
   "execution_count": 403,
   "id": "13cda6ec-61d0-44d3-bfc3-e8184f4b336d",
   "metadata": {},
   "outputs": [
    {
     "data": {
      "text/plain": [
       "[2, 3, 4, 5, 6, 7, 8]"
      ]
     },
     "execution_count": 403,
     "metadata": {},
     "output_type": "execute_result"
    }
   ],
   "source": [
    "my_list_sample"
   ]
  },
  {
   "cell_type": "code",
   "execution_count": 405,
   "id": "f8559c94-8754-4381-8976-3ba3bad2d7b9",
   "metadata": {},
   "outputs": [
    {
     "data": {
      "text/plain": [
       "3"
      ]
     },
     "execution_count": 405,
     "metadata": {},
     "output_type": "execute_result"
    }
   ],
   "source": [
    "my_list_sample.pop(1)"
   ]
  },
  {
   "cell_type": "code",
   "execution_count": 407,
   "id": "e90fb29c-d69e-4975-85e4-5fcbce2de66c",
   "metadata": {},
   "outputs": [
    {
     "data": {
      "text/plain": [
       "[2, 4, 5, 6, 7, 8]"
      ]
     },
     "execution_count": 407,
     "metadata": {},
     "output_type": "execute_result"
    }
   ],
   "source": [
    "my_list_sample"
   ]
  },
  {
   "cell_type": "code",
   "execution_count": 409,
   "id": "c8b5e51c-4c49-4f6a-8265-280169215d7c",
   "metadata": {},
   "outputs": [],
   "source": [
    "my_list_sample.clear()"
   ]
  },
  {
   "cell_type": "code",
   "execution_count": 411,
   "id": "f46757fc-0462-4aec-87e8-cc3a6a0102ad",
   "metadata": {},
   "outputs": [
    {
     "data": {
      "text/plain": [
       "[]"
      ]
     },
     "execution_count": 411,
     "metadata": {},
     "output_type": "execute_result"
    }
   ],
   "source": [
    "my_list_sample"
   ]
  },
  {
   "cell_type": "code",
   "execution_count": 413,
   "id": "84a86df9-469a-4210-a5e2-a13f68c5bfd1",
   "metadata": {},
   "outputs": [],
   "source": [
    "my_list= [1, 2, 3, 2, 4]"
   ]
  },
  {
   "cell_type": "code",
   "execution_count": 415,
   "id": "3b991aff-13ac-4dc2-8cfe-be7005294b03",
   "metadata": {},
   "outputs": [
    {
     "data": {
      "text/plain": [
       "2"
      ]
     },
     "execution_count": 415,
     "metadata": {},
     "output_type": "execute_result"
    }
   ],
   "source": [
    "my_list.index(3)"
   ]
  },
  {
   "cell_type": "code",
   "execution_count": 417,
   "id": "df670cbd-6c3c-4262-b8f2-2da3e861c15b",
   "metadata": {},
   "outputs": [
    {
     "data": {
      "text/plain": [
       "1"
      ]
     },
     "execution_count": 417,
     "metadata": {},
     "output_type": "execute_result"
    }
   ],
   "source": [
    "my_list.count(1)"
   ]
  },
  {
   "cell_type": "code",
   "execution_count": 419,
   "id": "eac01b19-2ee3-4e93-84ed-a90181cc08e0",
   "metadata": {},
   "outputs": [
    {
     "data": {
      "text/plain": [
       "2"
      ]
     },
     "execution_count": 419,
     "metadata": {},
     "output_type": "execute_result"
    }
   ],
   "source": [
    "my_list.count(2)"
   ]
  },
  {
   "cell_type": "code",
   "execution_count": 421,
   "id": "2d68253d-0fb8-4658-b824-cdac94cdf1c7",
   "metadata": {},
   "outputs": [],
   "source": [
    "sample_list=my_list.copy()"
   ]
  },
  {
   "cell_type": "code",
   "execution_count": 423,
   "id": "4a172c05-7bba-4f8f-8a15-22acd003919d",
   "metadata": {},
   "outputs": [
    {
     "data": {
      "text/plain": [
       "[1, 2, 3, 2, 4]"
      ]
     },
     "execution_count": 423,
     "metadata": {},
     "output_type": "execute_result"
    }
   ],
   "source": [
    "sample_list"
   ]
  },
  {
   "cell_type": "code",
   "execution_count": 425,
   "id": "f7cd2274-7d2d-45ec-8d88-9708606e0d88",
   "metadata": {},
   "outputs": [],
   "source": [
    "sample_list=my_list=[1,2,3]"
   ]
  },
  {
   "cell_type": "code",
   "execution_count": 437,
   "id": "e3248a31-8550-431d-8fd9-1d6ce3adb6b5",
   "metadata": {},
   "outputs": [],
   "source": [
    "temp_list=[1,2,3,4,7]"
   ]
  },
  {
   "cell_type": "code",
   "execution_count": 439,
   "id": "b4228f12-271f-45db-937b-3d4fda3718ea",
   "metadata": {},
   "outputs": [
    {
     "data": {
      "text/plain": [
       "5"
      ]
     },
     "execution_count": 439,
     "metadata": {},
     "output_type": "execute_result"
    }
   ],
   "source": [
    "len(temp_list)"
   ]
  },
  {
   "cell_type": "code",
   "execution_count": 441,
   "id": "e6628642-f4a3-4473-becc-e35a9c8c8704",
   "metadata": {},
   "outputs": [
    {
     "data": {
      "text/plain": [
       "7"
      ]
     },
     "execution_count": 441,
     "metadata": {},
     "output_type": "execute_result"
    }
   ],
   "source": [
    "max(temp_list)"
   ]
  },
  {
   "cell_type": "code",
   "execution_count": 443,
   "id": "17993719-20a5-448c-ae84-57131604e63d",
   "metadata": {},
   "outputs": [
    {
     "data": {
      "text/plain": [
       "1"
      ]
     },
     "execution_count": 443,
     "metadata": {},
     "output_type": "execute_result"
    }
   ],
   "source": [
    "min(temp_list)"
   ]
  },
  {
   "cell_type": "code",
   "execution_count": 445,
   "id": "bcfaa883-26e0-48d8-887a-a1281993f252",
   "metadata": {},
   "outputs": [
    {
     "data": {
      "text/plain": [
       "17"
      ]
     },
     "execution_count": 445,
     "metadata": {},
     "output_type": "execute_result"
    }
   ],
   "source": [
    "sum(temp_list)"
   ]
  },
  {
   "cell_type": "code",
   "execution_count": 449,
   "id": "212de87a-990f-48f2-a061-ef9a1ed0029e",
   "metadata": {},
   "outputs": [
    {
     "data": {
      "text/plain": [
       "[1, 2, 3, 4]"
      ]
     },
     "execution_count": 449,
     "metadata": {},
     "output_type": "execute_result"
    }
   ],
   "source": [
    "[1, 2] + [3, 4]   #similar to extend"
   ]
  },
  {
   "cell_type": "code",
   "execution_count": 451,
   "id": "43fc2e0f-d8ca-4924-8461-8ceb30e4bdb3",
   "metadata": {},
   "outputs": [
    {
     "data": {
      "text/plain": [
       "[1, 1, 1]"
      ]
     },
     "execution_count": 451,
     "metadata": {},
     "output_type": "execute_result"
    }
   ],
   "source": [
    "[1] * 3 "
   ]
  },
  {
   "cell_type": "code",
   "execution_count": 453,
   "id": "9010ff21-3acf-4709-9bee-b978e4eb5aad",
   "metadata": {},
   "outputs": [
    {
     "data": {
      "text/plain": [
       "True"
      ]
     },
     "execution_count": 453,
     "metadata": {},
     "output_type": "execute_result"
    }
   ],
   "source": [
    "2 in [1,2,3] "
   ]
  },
  {
   "cell_type": "code",
   "execution_count": 455,
   "id": "1d9deacb-843f-4758-bd3a-727f1fec21f4",
   "metadata": {},
   "outputs": [
    {
     "data": {
      "text/plain": [
       "True"
      ]
     },
     "execution_count": 455,
     "metadata": {},
     "output_type": "execute_result"
    }
   ],
   "source": [
    "4 not in [1,2,3]"
   ]
  },
  {
   "cell_type": "code",
   "execution_count": 457,
   "id": "3838f572-384e-49c3-a35b-e6cb937feb48",
   "metadata": {},
   "outputs": [
    {
     "data": {
      "text/plain": [
       "False"
      ]
     },
     "execution_count": 457,
     "metadata": {},
     "output_type": "execute_result"
    }
   ],
   "source": [
    "4 not in [1,2,3,4]"
   ]
  },
  {
   "cell_type": "code",
   "execution_count": null,
   "id": "205cd582-0d72-4f9e-af7e-f7993dd33a5b",
   "metadata": {},
   "outputs": [],
   "source": []
  },
  {
   "cell_type": "code",
   "execution_count": 4,
   "id": "2a9fde35-a069-4f75-9974-7d11739d8e4d",
   "metadata": {},
   "outputs": [],
   "source": [
    "#A tuple is an immutable, ordered, indexed collection that allows duplicate values.\n",
    "my_tuple = (10, \"hello\", 3.14)\n"
   ]
  },
  {
   "cell_type": "code",
   "execution_count": 6,
   "id": "5e035093-d306-45f0-94a6-db13229b0c6b",
   "metadata": {},
   "outputs": [],
   "source": [
    "my_tuple = (10,)"
   ]
  },
  {
   "cell_type": "code",
   "execution_count": 8,
   "id": "003aa185-31ac-41f8-aacb-3bb095d907a9",
   "metadata": {},
   "outputs": [
    {
     "data": {
      "text/plain": [
       "tuple"
      ]
     },
     "execution_count": 8,
     "metadata": {},
     "output_type": "execute_result"
    }
   ],
   "source": [
    "type(my_tuple)"
   ]
  },
  {
   "cell_type": "code",
   "execution_count": 10,
   "id": "2e774ded-fcd2-4681-a3b7-3bd048a5652b",
   "metadata": {},
   "outputs": [],
   "source": [
    "my_tuple = (10)"
   ]
  },
  {
   "cell_type": "code",
   "execution_count": 12,
   "id": "19581156-912b-494e-b016-14f4b9e3cbdf",
   "metadata": {},
   "outputs": [
    {
     "data": {
      "text/plain": [
       "int"
      ]
     },
     "execution_count": 12,
     "metadata": {},
     "output_type": "execute_result"
    }
   ],
   "source": [
    "type(my_tuple)"
   ]
  },
  {
   "cell_type": "code",
   "execution_count": 14,
   "id": "c8b913ec-26a7-4e1b-afdd-956b583f69f8",
   "metadata": {},
   "outputs": [],
   "source": [
    "my_tuple = (10, \"hello\", 3.14)"
   ]
  },
  {
   "cell_type": "code",
   "execution_count": 16,
   "id": "5664d1ee-9f9c-4483-ad8b-6403a64e9a18",
   "metadata": {},
   "outputs": [
    {
     "data": {
      "text/plain": [
       "(10, 'hello', 3.14)"
      ]
     },
     "execution_count": 16,
     "metadata": {},
     "output_type": "execute_result"
    }
   ],
   "source": [
    "my_tuple"
   ]
  },
  {
   "cell_type": "code",
   "execution_count": 18,
   "id": "bdd7fd14-cc5b-4d7e-924a-f67d986646e3",
   "metadata": {},
   "outputs": [
    {
     "data": {
      "text/plain": [
       "10"
      ]
     },
     "execution_count": 18,
     "metadata": {},
     "output_type": "execute_result"
    }
   ],
   "source": [
    "my_tuple[0]"
   ]
  },
  {
   "cell_type": "code",
   "execution_count": 20,
   "id": "61461dfa-1215-4f67-851e-334c9af3a31c",
   "metadata": {},
   "outputs": [
    {
     "data": {
      "text/plain": [
       "3"
      ]
     },
     "execution_count": 20,
     "metadata": {},
     "output_type": "execute_result"
    }
   ],
   "source": [
    "len(my_tuple)"
   ]
  },
  {
   "cell_type": "code",
   "execution_count": 22,
   "id": "8f20afb9-686c-421e-91fa-10f6b2fce799",
   "metadata": {},
   "outputs": [
    {
     "ename": "TypeError",
     "evalue": "'tuple' object does not support item assignment",
     "output_type": "error",
     "traceback": [
      "\u001b[1;31m---------------------------------------------------------------------------\u001b[0m",
      "\u001b[1;31mTypeError\u001b[0m                                 Traceback (most recent call last)",
      "Cell \u001b[1;32mIn[22], line 1\u001b[0m\n\u001b[1;32m----> 1\u001b[0m my_tuple[\u001b[38;5;241m0\u001b[39m]\u001b[38;5;241m=\u001b[39m\u001b[38;5;241m1\u001b[39m\n",
      "\u001b[1;31mTypeError\u001b[0m: 'tuple' object does not support item assignment"
     ]
    }
   ],
   "source": [
    "my_tuple[0]=1"
   ]
  },
  {
   "cell_type": "code",
   "execution_count": 24,
   "id": "3f89b33e-bae5-42e5-bb23-2fe105281ad7",
   "metadata": {},
   "outputs": [],
   "source": [
    "my_list = [10, \"hello\", 3.14]"
   ]
  },
  {
   "cell_type": "code",
   "execution_count": 26,
   "id": "8f7f2381-7014-401d-b1fa-9998f9dda21e",
   "metadata": {},
   "outputs": [
    {
     "data": {
      "text/plain": [
       "10"
      ]
     },
     "execution_count": 26,
     "metadata": {},
     "output_type": "execute_result"
    }
   ],
   "source": [
    "my_list[0]"
   ]
  },
  {
   "cell_type": "code",
   "execution_count": 28,
   "id": "b3c7284a-38b4-4f17-a310-ccde5d0b64c1",
   "metadata": {},
   "outputs": [],
   "source": [
    "my_list[0]=1"
   ]
  },
  {
   "cell_type": "code",
   "execution_count": 30,
   "id": "a0b65a5b-14b3-4c27-944d-2ea4dab61f77",
   "metadata": {},
   "outputs": [
    {
     "data": {
      "text/plain": [
       "[1, 'hello', 3.14]"
      ]
     },
     "execution_count": 30,
     "metadata": {},
     "output_type": "execute_result"
    }
   ],
   "source": [
    "my_list"
   ]
  },
  {
   "cell_type": "code",
   "execution_count": 32,
   "id": "1bc18fc1-e542-4b6e-8bdf-43c9378b0c01",
   "metadata": {},
   "outputs": [],
   "source": [
    "my_tuple = (10, \"hello\", 3.14)"
   ]
  },
  {
   "cell_type": "code",
   "execution_count": 34,
   "id": "0553d4c5-9021-4c49-bb59-6e4b9aa39528",
   "metadata": {},
   "outputs": [
    {
     "data": {
      "text/plain": [
       "3.14"
      ]
     },
     "execution_count": 34,
     "metadata": {},
     "output_type": "execute_result"
    }
   ],
   "source": [
    "my_tuple[-1]"
   ]
  },
  {
   "cell_type": "code",
   "execution_count": 36,
   "id": "408ef28a-8fa9-4cee-a0c7-ad121936072e",
   "metadata": {},
   "outputs": [
    {
     "data": {
      "text/plain": [
       "(3.14, 'hello', 10)"
      ]
     },
     "execution_count": 36,
     "metadata": {},
     "output_type": "execute_result"
    }
   ],
   "source": [
    "my_tuple[::-1]"
   ]
  },
  {
   "cell_type": "code",
   "execution_count": 38,
   "id": "564f782d-119a-48f4-956d-8b447c413bef",
   "metadata": {},
   "outputs": [],
   "source": [
    "my_tuple = ([0,1,2],10, \"hello\", 3.14)"
   ]
  },
  {
   "cell_type": "code",
   "execution_count": 40,
   "id": "c3227adb-2d58-4690-ad2d-5f1a68dd58f4",
   "metadata": {},
   "outputs": [
    {
     "data": {
      "text/plain": [
       "[0, 1, 2]"
      ]
     },
     "execution_count": 40,
     "metadata": {},
     "output_type": "execute_result"
    }
   ],
   "source": [
    "my_tuple[0]"
   ]
  },
  {
   "cell_type": "code",
   "execution_count": 42,
   "id": "111d6442-09ee-42c5-8bd2-6076c64c21a9",
   "metadata": {},
   "outputs": [
    {
     "data": {
      "text/plain": [
       "0"
      ]
     },
     "execution_count": 42,
     "metadata": {},
     "output_type": "execute_result"
    }
   ],
   "source": [
    "my_tuple[0][0]"
   ]
  },
  {
   "cell_type": "code",
   "execution_count": 44,
   "id": "5ebb3dec-9ecf-49e7-b425-bb7661dd3468",
   "metadata": {},
   "outputs": [],
   "source": [
    "my_tuple[0][0]=1"
   ]
  },
  {
   "cell_type": "code",
   "execution_count": 46,
   "id": "cacae882-78f4-4751-8881-75f1d06f8f11",
   "metadata": {},
   "outputs": [
    {
     "data": {
      "text/plain": [
       "([1, 1, 2], 10, 'hello', 3.14)"
      ]
     },
     "execution_count": 46,
     "metadata": {},
     "output_type": "execute_result"
    }
   ],
   "source": [
    "my_tuple"
   ]
  },
  {
   "cell_type": "code",
   "execution_count": 52,
   "id": "8330b05c-ab41-4080-b68e-5a24b682b115",
   "metadata": {},
   "outputs": [],
   "source": [
    "t = (1, 2, 3,4,4,4,5, 3)\n",
    "\n",
    "\n"
   ]
  },
  {
   "cell_type": "code",
   "execution_count": 56,
   "id": "931ef9b3-eaaa-478c-bbe4-c6e5790a4113",
   "metadata": {},
   "outputs": [
    {
     "name": "stdout",
     "output_type": "stream",
     "text": [
      "3\n"
     ]
    }
   ],
   "source": [
    "print(t.count(4))    # 2\n",
    "#print(t.index(3))    # 3\n"
   ]
  },
  {
   "cell_type": "code",
   "execution_count": 58,
   "id": "ee935924-13ef-4d96-a38f-01a5ae87f6d5",
   "metadata": {},
   "outputs": [
    {
     "name": "stdout",
     "output_type": "stream",
     "text": [
      "2\n"
     ]
    }
   ],
   "source": [
    "print(t.index(3))"
   ]
  },
  {
   "cell_type": "code",
   "execution_count": 60,
   "id": "bc8504b4-fc20-40f5-b7bb-05c7eef15424",
   "metadata": {},
   "outputs": [
    {
     "data": {
      "text/plain": [
       "3"
      ]
     },
     "execution_count": 60,
     "metadata": {},
     "output_type": "execute_result"
    }
   ],
   "source": [
    "t[2]"
   ]
  },
  {
   "cell_type": "code",
   "execution_count": 62,
   "id": "abb2ed06-01a8-43a3-87f0-345a5810bd6c",
   "metadata": {},
   "outputs": [
    {
     "name": "stdout",
     "output_type": "stream",
     "text": [
      "3\n"
     ]
    }
   ],
   "source": [
    "print(t.index(4))"
   ]
  },
  {
   "cell_type": "code",
   "execution_count": 64,
   "id": "057263de-d857-4504-8caf-217449911e07",
   "metadata": {},
   "outputs": [
    {
     "data": {
      "text/plain": [
       "4"
      ]
     },
     "execution_count": 64,
     "metadata": {},
     "output_type": "execute_result"
    }
   ],
   "source": [
    "t[3]"
   ]
  },
  {
   "cell_type": "code",
   "execution_count": 66,
   "id": "fad42793-4712-4588-ac01-d7d1dece4c30",
   "metadata": {},
   "outputs": [
    {
     "data": {
      "text/plain": [
       "(1, 2, 3, 4)"
      ]
     },
     "execution_count": 66,
     "metadata": {},
     "output_type": "execute_result"
    }
   ],
   "source": [
    "(1, 2) + (3, 4)"
   ]
  },
  {
   "cell_type": "code",
   "execution_count": 68,
   "id": "7b4cb133-49ae-4999-9ff3-4b51d251df4c",
   "metadata": {},
   "outputs": [
    {
     "data": {
      "text/plain": [
       "(1, 1, 1)"
      ]
     },
     "execution_count": 68,
     "metadata": {},
     "output_type": "execute_result"
    }
   ],
   "source": [
    "(1,)*3"
   ]
  },
  {
   "cell_type": "code",
   "execution_count": 70,
   "id": "cc2508d5-6b56-4f6c-b4ff-f800cbea637a",
   "metadata": {},
   "outputs": [
    {
     "data": {
      "text/plain": [
       "3"
      ]
     },
     "execution_count": 70,
     "metadata": {},
     "output_type": "execute_result"
    }
   ],
   "source": [
    "(1)*3"
   ]
  },
  {
   "cell_type": "code",
   "execution_count": 72,
   "id": "430176e8-74b8-457c-96dd-10e067d131a4",
   "metadata": {},
   "outputs": [
    {
     "data": {
      "text/plain": [
       "True"
      ]
     },
     "execution_count": 72,
     "metadata": {},
     "output_type": "execute_result"
    }
   ],
   "source": [
    "2 in (1,2,3)"
   ]
  },
  {
   "cell_type": "code",
   "execution_count": 74,
   "id": "1601da65-7959-4c1b-b06a-edd904329642",
   "metadata": {},
   "outputs": [
    {
     "data": {
      "text/plain": [
       "False"
      ]
     },
     "execution_count": 74,
     "metadata": {},
     "output_type": "execute_result"
    }
   ],
   "source": [
    "2 not in (1,2,3)"
   ]
  },
  {
   "cell_type": "code",
   "execution_count": 76,
   "id": "f2d1e7f9-5213-4d2a-a9f5-b12b66d8e884",
   "metadata": {},
   "outputs": [
    {
     "data": {
      "text/plain": [
       "False"
      ]
     },
     "execution_count": 76,
     "metadata": {},
     "output_type": "execute_result"
    }
   ],
   "source": [
    "4 in (1,2,3)"
   ]
  },
  {
   "cell_type": "code",
   "execution_count": 78,
   "id": "5fd477f3-9b50-4fc7-997d-870880284ebf",
   "metadata": {},
   "outputs": [
    {
     "data": {
      "text/plain": [
       "True"
      ]
     },
     "execution_count": 78,
     "metadata": {},
     "output_type": "execute_result"
    }
   ],
   "source": [
    "4 not in (1,2,3)"
   ]
  },
  {
   "cell_type": "code",
   "execution_count": 80,
   "id": "a5f18442-9e64-4dc7-bf24-afb69002da7b",
   "metadata": {},
   "outputs": [],
   "source": [
    "# Packing\n",
    "person = (\"Alice\", 25, \"Engineer\")\n",
    "\n",
    "\n"
   ]
  },
  {
   "cell_type": "code",
   "execution_count": 82,
   "id": "2cff7158-be13-402d-a806-31905349567e",
   "metadata": {},
   "outputs": [],
   "source": [
    "# Unpacking\n",
    "name, age, job = person\n",
    "#print(name)  # Alice"
   ]
  },
  {
   "cell_type": "code",
   "execution_count": 84,
   "id": "16ee0d43-44b4-4ef8-933f-c3772d4130b9",
   "metadata": {},
   "outputs": [
    {
     "data": {
      "text/plain": [
       "'Alice'"
      ]
     },
     "execution_count": 84,
     "metadata": {},
     "output_type": "execute_result"
    }
   ],
   "source": [
    "name"
   ]
  },
  {
   "cell_type": "code",
   "execution_count": 86,
   "id": "9e4ab643-2243-42a0-bcf4-f4c3ab9102b2",
   "metadata": {},
   "outputs": [
    {
     "data": {
      "text/plain": [
       "25"
      ]
     },
     "execution_count": 86,
     "metadata": {},
     "output_type": "execute_result"
    }
   ],
   "source": [
    "age"
   ]
  },
  {
   "cell_type": "code",
   "execution_count": 88,
   "id": "bbfdbc86-c3e6-4ebb-bec4-9c4914b1ecab",
   "metadata": {},
   "outputs": [
    {
     "data": {
      "text/plain": [
       "'Engineer'"
      ]
     },
     "execution_count": 88,
     "metadata": {},
     "output_type": "execute_result"
    }
   ],
   "source": [
    "job"
   ]
  },
  {
   "cell_type": "code",
   "execution_count": 92,
   "id": "192e3d35-b901-4b5c-bd53-81fba67408fb",
   "metadata": {},
   "outputs": [],
   "source": [
    "list_sample=[1,2,3,4,5]"
   ]
  },
  {
   "cell_type": "code",
   "execution_count": 94,
   "id": "09dcefc7-0051-41a8-bd68-39b25ad23aa3",
   "metadata": {},
   "outputs": [],
   "source": [
    "#typecasting meanining conversion of one data structure into another "
   ]
  },
  {
   "cell_type": "code",
   "execution_count": 100,
   "id": "008dc438-22e8-4e19-b119-983180aeba37",
   "metadata": {},
   "outputs": [],
   "source": [
    "tup_sample=tuple(list_sample)"
   ]
  },
  {
   "cell_type": "code",
   "execution_count": 102,
   "id": "71a164ea-c453-4e7b-b210-3c603952ab8a",
   "metadata": {},
   "outputs": [
    {
     "data": {
      "text/plain": [
       "(1, 2, 3, 4, 5)"
      ]
     },
     "execution_count": 102,
     "metadata": {},
     "output_type": "execute_result"
    }
   ],
   "source": [
    "tup_sample"
   ]
  },
  {
   "cell_type": "code",
   "execution_count": 104,
   "id": "9b48d274-d3c2-49d6-a3f3-53a8a12c8cd0",
   "metadata": {},
   "outputs": [],
   "source": [
    "list_convert=list(tup_sample)"
   ]
  },
  {
   "cell_type": "code",
   "execution_count": 106,
   "id": "fd61eebd-1a5b-4d19-882d-0219a45fa4fe",
   "metadata": {},
   "outputs": [
    {
     "data": {
      "text/plain": [
       "[1, 2, 3, 4, 5]"
      ]
     },
     "execution_count": 106,
     "metadata": {},
     "output_type": "execute_result"
    }
   ],
   "source": [
    "list_convert"
   ]
  },
  {
   "cell_type": "code",
   "execution_count": 108,
   "id": "6d9f8ee2-fc14-4f42-ad63-2cde3fe182ba",
   "metadata": {},
   "outputs": [],
   "source": [
    "#Dictionary"
   ]
  },
  {
   "cell_type": "code",
   "execution_count": 110,
   "id": "497b86eb-d3ec-4f53-8718-1be19b110194",
   "metadata": {},
   "outputs": [
    {
     "data": {
      "text/plain": [
       "'\\nCharacteristics:\\n•\\tUnordered (Python 3.7+ maintains insertion order)\\n•\\tMutable (can be changed after creation)\\n•\\tKeys must be unique and immutable (strings, numbers, tuples)\\n•\\tValues can be of any type\\n'"
      ]
     },
     "execution_count": 110,
     "metadata": {},
     "output_type": "execute_result"
    }
   ],
   "source": [
    "'''\n",
    "Characteristics:\n",
    "•\tUnordered (Python 3.7+ maintains insertion order)\n",
    "•\tMutable (can be changed after creation)\n",
    "•\tKeys must be unique and immutable (strings, numbers, tuples)\n",
    "•\tValues can be of any type\n",
    "'''"
   ]
  },
  {
   "cell_type": "code",
   "execution_count": 1,
   "id": "ff15df07-bc00-487f-bc2b-f30f99e36fdb",
   "metadata": {},
   "outputs": [],
   "source": [
    "# Empty dictionary\n",
    "empty_dict = {}\n"
   ]
  },
  {
   "cell_type": "code",
   "execution_count": 3,
   "id": "4f787fdc-902d-4459-8311-5b698fcaeefe",
   "metadata": {},
   "outputs": [],
   "source": [
    "empty_dict = dict() "
   ]
  },
  {
   "cell_type": "code",
   "execution_count": 5,
   "id": "48667eba-debd-4b3b-8aa1-794a5822ae85",
   "metadata": {},
   "outputs": [
    {
     "data": {
      "text/plain": [
       "dict"
      ]
     },
     "execution_count": 5,
     "metadata": {},
     "output_type": "execute_result"
    }
   ],
   "source": [
    "type(empty_dict)"
   ]
  },
  {
   "cell_type": "code",
   "execution_count": 7,
   "id": "24e436b1-e6a0-48c5-923b-0645cabbc3ea",
   "metadata": {},
   "outputs": [],
   "source": [
    "# Dictionary with initial values\n",
    "student = {'name': 'John', 'age': 25, 'courses': ['Math', 'CompSci']}\n",
    "#student={\"key\":\"value\"}"
   ]
  },
  {
   "cell_type": "code",
   "execution_count": 9,
   "id": "a9eabcf3-922c-4e10-b965-b6c2bef42068",
   "metadata": {},
   "outputs": [
    {
     "data": {
      "text/plain": [
       "{'name': 'John', 'age': 25, 'courses': ['Math', 'CompSci']}"
      ]
     },
     "execution_count": 9,
     "metadata": {},
     "output_type": "execute_result"
    }
   ],
   "source": [
    "student"
   ]
  },
  {
   "cell_type": "code",
   "execution_count": 11,
   "id": "1b92d004-eb9f-4bdc-a7ca-b887389ebc29",
   "metadata": {},
   "outputs": [
    {
     "data": {
      "text/plain": [
       "dict_keys(['name', 'age', 'courses'])"
      ]
     },
     "execution_count": 11,
     "metadata": {},
     "output_type": "execute_result"
    }
   ],
   "source": [
    "student.keys()"
   ]
  },
  {
   "cell_type": "code",
   "execution_count": 27,
   "id": "13beb107-10ab-4f07-a563-d55bfd861fcd",
   "metadata": {},
   "outputs": [
    {
     "data": {
      "text/plain": [
       "'John'"
      ]
     },
     "execution_count": 27,
     "metadata": {},
     "output_type": "execute_result"
    }
   ],
   "source": [
    "student['name']"
   ]
  },
  {
   "cell_type": "code",
   "execution_count": 29,
   "id": "063577e2-5306-4efb-b55e-b6343b5929f3",
   "metadata": {},
   "outputs": [
    {
     "data": {
      "text/plain": [
       "25"
      ]
     },
     "execution_count": 29,
     "metadata": {},
     "output_type": "execute_result"
    }
   ],
   "source": [
    "student['age']"
   ]
  },
  {
   "cell_type": "code",
   "execution_count": 31,
   "id": "aaf20237-94d7-4aef-9a7c-d7a04c4f27a9",
   "metadata": {},
   "outputs": [
    {
     "data": {
      "text/plain": [
       "['Math', 'CompSci']"
      ]
     },
     "execution_count": 31,
     "metadata": {},
     "output_type": "execute_result"
    }
   ],
   "source": [
    "student['courses']"
   ]
  },
  {
   "cell_type": "code",
   "execution_count": 152,
   "id": "21bc71bd-3489-46ca-b104-352435fd0e18",
   "metadata": {},
   "outputs": [],
   "source": [
    "dict_keys=list(student.keys())"
   ]
  },
  {
   "cell_type": "code",
   "execution_count": 154,
   "id": "fd828533-0439-458c-ba19-c9991f2c65d0",
   "metadata": {},
   "outputs": [
    {
     "data": {
      "text/plain": [
       "['name', 'age', 'courses']"
      ]
     },
     "execution_count": 154,
     "metadata": {},
     "output_type": "execute_result"
    }
   ],
   "source": [
    "dict_keys"
   ]
  },
  {
   "cell_type": "code",
   "execution_count": 13,
   "id": "7fc13b8f-9641-44e1-a239-6bc360195ae6",
   "metadata": {},
   "outputs": [
    {
     "data": {
      "text/plain": [
       "dict_values(['John', 25, ['Math', 'CompSci']])"
      ]
     },
     "execution_count": 13,
     "metadata": {},
     "output_type": "execute_result"
    }
   ],
   "source": [
    "student.values()"
   ]
  },
  {
   "cell_type": "code",
   "execution_count": 15,
   "id": "c00bffea-20a1-40e4-9fac-5fcf95246e45",
   "metadata": {},
   "outputs": [],
   "source": [
    "dict_values=list(student.values())"
   ]
  },
  {
   "cell_type": "code",
   "execution_count": 17,
   "id": "3ad74448-923e-4ab9-9ce6-ab7ad7403cb3",
   "metadata": {},
   "outputs": [
    {
     "data": {
      "text/plain": [
       "['John', 25, ['Math', 'CompSci']]"
      ]
     },
     "execution_count": 17,
     "metadata": {},
     "output_type": "execute_result"
    }
   ],
   "source": [
    "dict_values"
   ]
  },
  {
   "cell_type": "code",
   "execution_count": 19,
   "id": "c72857e4-7fd4-40bc-9fd2-259be838d766",
   "metadata": {},
   "outputs": [],
   "source": [
    "dict_keys=tuple(student.keys())"
   ]
  },
  {
   "cell_type": "code",
   "execution_count": 21,
   "id": "8ab4e687-50f8-4b5d-b746-33bc716953c5",
   "metadata": {},
   "outputs": [
    {
     "data": {
      "text/plain": [
       "('name', 'age', 'courses')"
      ]
     },
     "execution_count": 21,
     "metadata": {},
     "output_type": "execute_result"
    }
   ],
   "source": [
    "dict_keys"
   ]
  },
  {
   "cell_type": "code",
   "execution_count": 23,
   "id": "9485090d-7207-420d-b895-ebbb14cdf463",
   "metadata": {},
   "outputs": [],
   "source": [
    "dict_values=tuple(student.values())"
   ]
  },
  {
   "cell_type": "code",
   "execution_count": 25,
   "id": "f8151517-3e25-4b91-9980-96a5d9f42182",
   "metadata": {},
   "outputs": [
    {
     "data": {
      "text/plain": [
       "('John', 25, ['Math', 'CompSci'])"
      ]
     },
     "execution_count": 25,
     "metadata": {},
     "output_type": "execute_result"
    }
   ],
   "source": [
    "dict_values"
   ]
  },
  {
   "cell_type": "code",
   "execution_count": 33,
   "id": "3b1c8ed5-d5f8-4398-975a-eaea5155b66b",
   "metadata": {},
   "outputs": [],
   "source": [
    "#Assign dictionary\n",
    "grades = dict(Alice=95, Bob=88, Charlie=92)"
   ]
  },
  {
   "cell_type": "code",
   "execution_count": 172,
   "id": "0a0c81f7-673a-4be7-89b3-9067d7cf16d3",
   "metadata": {},
   "outputs": [
    {
     "data": {
      "text/plain": [
       "{'Alice': 95, 'Bob': 88, 'Charlie': 92}"
      ]
     },
     "execution_count": 172,
     "metadata": {},
     "output_type": "execute_result"
    }
   ],
   "source": [
    "grades"
   ]
  },
  {
   "cell_type": "code",
   "execution_count": 35,
   "id": "ffd00995-be7e-4491-9706-2331fa8b3a31",
   "metadata": {},
   "outputs": [
    {
     "data": {
      "text/plain": [
       "dict_keys(['Alice', 'Bob', 'Charlie'])"
      ]
     },
     "execution_count": 35,
     "metadata": {},
     "output_type": "execute_result"
    }
   ],
   "source": [
    "grades.keys()"
   ]
  },
  {
   "cell_type": "code",
   "execution_count": 37,
   "id": "db4ea8a9-98c9-43e3-b360-8fc01a3f5f48",
   "metadata": {},
   "outputs": [
    {
     "data": {
      "text/plain": [
       "['Alice', 'Bob', 'Charlie']"
      ]
     },
     "execution_count": 37,
     "metadata": {},
     "output_type": "execute_result"
    }
   ],
   "source": [
    "list(grades.keys())"
   ]
  },
  {
   "cell_type": "code",
   "execution_count": 39,
   "id": "42ee3e43-aa6a-4346-9680-a74616b14751",
   "metadata": {},
   "outputs": [
    {
     "data": {
      "text/plain": [
       "(95, 88, 92)"
      ]
     },
     "execution_count": 39,
     "metadata": {},
     "output_type": "execute_result"
    }
   ],
   "source": [
    "tuple(grades.values())"
   ]
  },
  {
   "cell_type": "code",
   "execution_count": 182,
   "id": "4ec60a17-4abc-4a4c-a165-441095de5666",
   "metadata": {},
   "outputs": [
    {
     "data": {
      "text/plain": [
       "95"
      ]
     },
     "execution_count": 182,
     "metadata": {},
     "output_type": "execute_result"
    }
   ],
   "source": [
    "grades['Alice']"
   ]
  },
  {
   "cell_type": "code",
   "execution_count": 184,
   "id": "ce02f851-10b3-40da-b4f6-95789bd7e862",
   "metadata": {},
   "outputs": [],
   "source": [
    "grades['Alice']=97"
   ]
  },
  {
   "cell_type": "code",
   "execution_count": 186,
   "id": "a8e1f97c-045b-4ec8-aa05-884e660e375b",
   "metadata": {},
   "outputs": [
    {
     "data": {
      "text/plain": [
       "{'Alice': 97, 'Bob': 88, 'Charlie': 92}"
      ]
     },
     "execution_count": 186,
     "metadata": {},
     "output_type": "execute_result"
    }
   ],
   "source": [
    "grades"
   ]
  },
  {
   "cell_type": "code",
   "execution_count": 41,
   "id": "0bd384c6-2633-43d0-b5cf-06e9008815a6",
   "metadata": {},
   "outputs": [],
   "source": [
    "new_key=list(grades.keys())"
   ]
  },
  {
   "cell_type": "code",
   "execution_count": 43,
   "id": "a1eb6c6c-6362-41f9-94bb-6b3e15e6fc51",
   "metadata": {},
   "outputs": [
    {
     "data": {
      "text/plain": [
       "['Alice', 'Bob', 'Charlie']"
      ]
     },
     "execution_count": 43,
     "metadata": {},
     "output_type": "execute_result"
    }
   ],
   "source": [
    "new_key"
   ]
  },
  {
   "cell_type": "code",
   "execution_count": 45,
   "id": "09c75c31-94a1-4624-8323-ae1187c40f8a",
   "metadata": {},
   "outputs": [],
   "source": [
    "new_value=list(grades.values())"
   ]
  },
  {
   "cell_type": "code",
   "execution_count": 47,
   "id": "28bfd844-96ff-434e-b959-b3a39448951b",
   "metadata": {},
   "outputs": [
    {
     "data": {
      "text/plain": [
       "[95, 88, 92]"
      ]
     },
     "execution_count": 47,
     "metadata": {},
     "output_type": "execute_result"
    }
   ],
   "source": [
    "new_value"
   ]
  },
  {
   "cell_type": "code",
   "execution_count": 49,
   "id": "c61f7edc-decc-457e-ac56-fd7b2258ba9f",
   "metadata": {},
   "outputs": [],
   "source": [
    "new_dict=dict(zip(new_key,new_value))"
   ]
  },
  {
   "cell_type": "code",
   "execution_count": 51,
   "id": "550b0fcc-3020-42a5-b89f-777a569372c9",
   "metadata": {},
   "outputs": [
    {
     "data": {
      "text/plain": [
       "{'Alice': 95, 'Bob': 88, 'Charlie': 92}"
      ]
     },
     "execution_count": 51,
     "metadata": {},
     "output_type": "execute_result"
    }
   ],
   "source": [
    "new_dict"
   ]
  },
  {
   "cell_type": "code",
   "execution_count": 200,
   "id": "a0254520-a1e9-4253-a503-c0874207ecbc",
   "metadata": {},
   "outputs": [
    {
     "name": "stdout",
     "output_type": "stream",
     "text": [
      "<zip object at 0x0000014A5F9DFB80>\n"
     ]
    }
   ],
   "source": [
    "print(zip(new_key,new_value))"
   ]
  },
  {
   "cell_type": "code",
   "execution_count": 53,
   "id": "59c6460f-33e3-4ef2-a99a-fbf92f87f45c",
   "metadata": {},
   "outputs": [],
   "source": [
    "new_key=tuple(grades.keys())"
   ]
  },
  {
   "cell_type": "code",
   "execution_count": 55,
   "id": "cded9c2c-ef7b-44c3-a324-bb940508fea3",
   "metadata": {},
   "outputs": [
    {
     "data": {
      "text/plain": [
       "('Alice', 'Bob', 'Charlie')"
      ]
     },
     "execution_count": 55,
     "metadata": {},
     "output_type": "execute_result"
    }
   ],
   "source": [
    "new_key"
   ]
  },
  {
   "cell_type": "code",
   "execution_count": 57,
   "id": "0bedd6b7-f66b-4129-bfc5-b200c7b18097",
   "metadata": {},
   "outputs": [],
   "source": [
    "new_value=tuple(grades.values())\n"
   ]
  },
  {
   "cell_type": "code",
   "execution_count": 59,
   "id": "f052c165-6d74-4785-8a90-61d691f39b63",
   "metadata": {},
   "outputs": [
    {
     "data": {
      "text/plain": [
       "(95, 88, 92)"
      ]
     },
     "execution_count": 59,
     "metadata": {},
     "output_type": "execute_result"
    }
   ],
   "source": [
    "new_value"
   ]
  },
  {
   "cell_type": "code",
   "execution_count": 61,
   "id": "2c2820fb-4b74-40c9-9a07-a9a7acab9cce",
   "metadata": {},
   "outputs": [],
   "source": [
    "new_dict=dict(zip(new_key,new_value))"
   ]
  },
  {
   "cell_type": "code",
   "execution_count": 63,
   "id": "b65c7ab8-52bc-4ed6-922e-1228685862a3",
   "metadata": {},
   "outputs": [
    {
     "data": {
      "text/plain": [
       "{'Alice': 95, 'Bob': 88, 'Charlie': 92}"
      ]
     },
     "execution_count": 63,
     "metadata": {},
     "output_type": "execute_result"
    }
   ],
   "source": [
    "new_dict"
   ]
  },
  {
   "cell_type": "code",
   "execution_count": 65,
   "id": "776b3f0e-ef06-401c-b7b0-80c4ca01d676",
   "metadata": {},
   "outputs": [],
   "source": [
    "new_list=[\"batsman\",\"bowler\",\"fielder\"]"
   ]
  },
  {
   "cell_type": "code",
   "execution_count": 67,
   "id": "32eb4148-2e29-429b-8aaa-9c2b0a06d4a9",
   "metadata": {},
   "outputs": [],
   "source": [
    "new_tup=(\"Virat\",\"Bumrah\",\"jadeja\")"
   ]
  },
  {
   "cell_type": "code",
   "execution_count": 69,
   "id": "c175e608-ef44-4be5-8622-31e67ff64305",
   "metadata": {},
   "outputs": [],
   "source": [
    "new_dict=dict(zip(new_list,new_tup))"
   ]
  },
  {
   "cell_type": "code",
   "execution_count": 71,
   "id": "ed41c86f-d282-4348-80f5-90c4d71c1e45",
   "metadata": {},
   "outputs": [
    {
     "data": {
      "text/plain": [
       "{'batsman': 'Virat', 'bowler': 'Bumrah', 'fielder': 'jadeja'}"
      ]
     },
     "execution_count": 71,
     "metadata": {},
     "output_type": "execute_result"
    }
   ],
   "source": [
    "new_dict"
   ]
  },
  {
   "cell_type": "code",
   "execution_count": 73,
   "id": "4dff7774-51f6-454e-8a24-63973b09741c",
   "metadata": {},
   "outputs": [],
   "source": [
    "new_tup_keys=(\"Virat\",\"Bumrah\",\"jadeja\")"
   ]
  },
  {
   "cell_type": "code",
   "execution_count": 75,
   "id": "89804fca-a21a-45d1-9664-1160294c63eb",
   "metadata": {},
   "outputs": [],
   "source": [
    "new_list_values=[\"batsman\",\"batsman\",\"fielder\"]"
   ]
  },
  {
   "cell_type": "code",
   "execution_count": 77,
   "id": "2c7d4239-d70f-4cb5-89bf-d01207895044",
   "metadata": {},
   "outputs": [],
   "source": [
    "new_dict=dict(zip(new_tup_keys,new_list_values))"
   ]
  },
  {
   "cell_type": "code",
   "execution_count": 79,
   "id": "6220d3d1-291b-47ed-b6f4-3cf64e2937bd",
   "metadata": {},
   "outputs": [
    {
     "data": {
      "text/plain": [
       "{'Virat': 'batsman', 'Bumrah': 'batsman', 'jadeja': 'fielder'}"
      ]
     },
     "execution_count": 79,
     "metadata": {},
     "output_type": "execute_result"
    }
   ],
   "source": [
    "new_dict"
   ]
  },
  {
   "cell_type": "code",
   "execution_count": 81,
   "id": "10c0bfa2-7af5-4cf2-8fd9-ceefd4212b2a",
   "metadata": {},
   "outputs": [],
   "source": [
    "new_dict['Virat']=\"BestBatsman\""
   ]
  },
  {
   "cell_type": "code",
   "execution_count": 83,
   "id": "bf87a9e4-c295-4d9a-a85c-55635bb6adb9",
   "metadata": {},
   "outputs": [
    {
     "data": {
      "text/plain": [
       "{'Virat': 'BestBatsman', 'Bumrah': 'batsman', 'jadeja': 'fielder'}"
      ]
     },
     "execution_count": 83,
     "metadata": {},
     "output_type": "execute_result"
    }
   ],
   "source": [
    "new_dict"
   ]
  },
  {
   "cell_type": "code",
   "execution_count": 85,
   "id": "08c6145f-b110-4121-864a-ef64717ad112",
   "metadata": {},
   "outputs": [],
   "source": [
    "new_list=[\"batsman\",\"bowler\",\"fielder\"]"
   ]
  },
  {
   "cell_type": "code",
   "execution_count": 87,
   "id": "84550dff-92bb-4941-8a24-8afdb54ad0a7",
   "metadata": {},
   "outputs": [
    {
     "data": {
      "text/plain": [
       "['batsman', 'bowler', 'fielder']"
      ]
     },
     "execution_count": 87,
     "metadata": {},
     "output_type": "execute_result"
    }
   ],
   "source": [
    "new_list"
   ]
  },
  {
   "cell_type": "code",
   "execution_count": 89,
   "id": "2a7a4677-5b97-45c8-bddd-164b2ebb4a5e",
   "metadata": {},
   "outputs": [],
   "source": [
    "new_list_values=[\"Virat\",\"Bumrah\",\"jadeja\",\"acasd\"]"
   ]
  },
  {
   "cell_type": "code",
   "execution_count": 95,
   "id": "b03cc1d6-81df-481a-93ac-ec3be93e788c",
   "metadata": {},
   "outputs": [],
   "source": [
    "new_dict=dict(zip(new_list,new_list_values))"
   ]
  },
  {
   "cell_type": "code",
   "execution_count": 97,
   "id": "0370b1c0-3883-4088-8142-91393aacd85a",
   "metadata": {},
   "outputs": [
    {
     "data": {
      "text/plain": [
       "{'batsman': 'Virat', 'bowler': 'Bumrah', 'fielder': 'jadeja'}"
      ]
     },
     "execution_count": 97,
     "metadata": {},
     "output_type": "execute_result"
    }
   ],
   "source": [
    "new_dict"
   ]
  },
  {
   "cell_type": "code",
   "execution_count": 113,
   "id": "b1667c87-2f60-47a3-b3a1-9d1bd06f5e05",
   "metadata": {},
   "outputs": [],
   "source": [
    "new_list_keys=[\"batsman\",\"bowler\",\"fielder\",\"Allrounder\"]"
   ]
  },
  {
   "cell_type": "code",
   "execution_count": 115,
   "id": "924b2684-af2e-43c4-9e06-a2741b1c1514",
   "metadata": {},
   "outputs": [],
   "source": [
    "new_list_values=[\"Virat\",\"Bumrah\",\"jadeja\"]"
   ]
  },
  {
   "cell_type": "code",
   "execution_count": 117,
   "id": "4d607ea2-310d-4016-99ec-7975ae3c9cd0",
   "metadata": {},
   "outputs": [],
   "source": [
    "new_dict=dict(zip(new_list_keys,new_list_values))"
   ]
  },
  {
   "cell_type": "code",
   "execution_count": 119,
   "id": "812cfac9-feb3-4113-b985-93b1e2a30cbe",
   "metadata": {},
   "outputs": [
    {
     "data": {
      "text/plain": [
       "{'batsman': 'Virat', 'bowler': 'Bumrah', 'fielder': 'jadeja'}"
      ]
     },
     "execution_count": 119,
     "metadata": {},
     "output_type": "execute_result"
    }
   ],
   "source": [
    "new_dict"
   ]
  },
  {
   "cell_type": "code",
   "execution_count": 319,
   "id": "9b82236d-8af8-4ead-9d8f-d3ee4c79ec71",
   "metadata": {},
   "outputs": [],
   "source": [
    "dict_keys=[\"k1\",\"k2\"]"
   ]
  },
  {
   "cell_type": "code",
   "execution_count": null,
   "id": "a6c30777-7000-405f-83eb-a32f23fe6654",
   "metadata": {},
   "outputs": [],
   "source": []
  },
  {
   "cell_type": "code",
   "execution_count": 321,
   "id": "071938da-01bd-4fbe-a7e1-aaf0e305ad7c",
   "metadata": {},
   "outputs": [],
   "source": [
    "dict_values=[1,1]"
   ]
  },
  {
   "cell_type": "code",
   "execution_count": 323,
   "id": "aa189a7c-5ede-47bd-8c58-afab25f5424d",
   "metadata": {},
   "outputs": [
    {
     "data": {
      "text/plain": [
       "{'k1': 1, 'k2': 1}"
      ]
     },
     "execution_count": 323,
     "metadata": {},
     "output_type": "execute_result"
    }
   ],
   "source": [
    "dict(zip(dict_keys,dict_values))"
   ]
  },
  {
   "cell_type": "code",
   "execution_count": 121,
   "id": "0a9519a5-3c57-4e43-938d-99b86174da4e",
   "metadata": {},
   "outputs": [],
   "source": [
    "student = {'name': 'John', 'age': 25, 'courses': ['Math', 'CompSci']}"
   ]
  },
  {
   "cell_type": "code",
   "execution_count": 125,
   "id": "852724f8-f5c1-4282-9078-62ffb9126b56",
   "metadata": {},
   "outputs": [
    {
     "data": {
      "text/plain": [
       "25"
      ]
     },
     "execution_count": 125,
     "metadata": {},
     "output_type": "execute_result"
    }
   ],
   "source": [
    "student[\"age\"]"
   ]
  },
  {
   "cell_type": "code",
   "execution_count": 123,
   "id": "3ac1732b-ce4c-477e-8df1-a7a3eecf699e",
   "metadata": {},
   "outputs": [
    {
     "data": {
      "text/plain": [
       "25"
      ]
     },
     "execution_count": 123,
     "metadata": {},
     "output_type": "execute_result"
    }
   ],
   "source": [
    "student.get('age') #student[\"age\"]"
   ]
  },
  {
   "cell_type": "code",
   "execution_count": 329,
   "id": "37839c0c-ecb4-4c32-bf16-0d4fbf314af2",
   "metadata": {},
   "outputs": [
    {
     "data": {
      "text/plain": [
       "25"
      ]
     },
     "execution_count": 329,
     "metadata": {},
     "output_type": "execute_result"
    }
   ],
   "source": [
    "student['age']"
   ]
  },
  {
   "cell_type": "code",
   "execution_count": 127,
   "id": "78abc3b2-2c95-42e0-9b0e-fa9d48096e87",
   "metadata": {},
   "outputs": [
    {
     "name": "stdout",
     "output_type": "stream",
     "text": [
      "{'name': 'John', 'age': 25, 'courses': ['Math', 'CompSci'], 'phone': '555-5555'}\n"
     ]
    }
   ],
   "source": [
    "student['phone'] = '555-5555'\n",
    "print(student)\n"
   ]
  },
  {
   "cell_type": "code",
   "execution_count": 129,
   "id": "1d86f83d-3f7c-43a9-856f-decf1b5dd0b7",
   "metadata": {},
   "outputs": [
    {
     "name": "stdout",
     "output_type": "stream",
     "text": [
      "{'name': 'John', 'age': 25, 'courses': ['Math', 'CompSci'], 'phone': '555-5555', 'reg_num': '0901314110'}\n"
     ]
    }
   ],
   "source": [
    "student['reg_num'] = '0901314110'\n",
    "print(student)"
   ]
  },
  {
   "cell_type": "code",
   "execution_count": 131,
   "id": "58068dd2-8a21-4e00-acf9-a0e97df92c95",
   "metadata": {},
   "outputs": [
    {
     "name": "stdout",
     "output_type": "stream",
     "text": [
      "{'name': 'Jane', 'age': 26, 'courses': ['Math', 'CompSci'], 'phone': '555-1234', 'reg_num': '0901314110'}\n"
     ]
    }
   ],
   "source": [
    "# Updating multiple values at once\n",
    "student.update({'name': 'Jane', 'age': 26, 'phone': '555-1234'})\n",
    "print(student)\n"
   ]
  },
  {
   "cell_type": "code",
   "execution_count": 143,
   "id": "f0f45685-7fa1-4996-bf4f-739a67fe6def",
   "metadata": {},
   "outputs": [],
   "source": [
    "from collections import defaultdict\n",
    "\n",
    "# Default dictionary with list as default factory\n",
    "dd_dict = defaultdict(list)\n"
   ]
  },
  {
   "cell_type": "code",
   "execution_count": 145,
   "id": "b71e9cff-6645-4b23-a7cf-b81f9064d2d1",
   "metadata": {},
   "outputs": [
    {
     "data": {
      "text/plain": [
       "collections.defaultdict"
      ]
     },
     "execution_count": 145,
     "metadata": {},
     "output_type": "execute_result"
    }
   ],
   "source": [
    "type(dd_dict)"
   ]
  },
  {
   "cell_type": "code",
   "execution_count": 149,
   "id": "c3e75cc5-dda0-4f90-8f45-263956b1485a",
   "metadata": {},
   "outputs": [],
   "source": [
    "dd_dict['fruits'].append('apple')"
   ]
  },
  {
   "cell_type": "code",
   "execution_count": 151,
   "id": "abca4260-609a-4017-8dce-77295f206cab",
   "metadata": {},
   "outputs": [
    {
     "data": {
      "text/plain": [
       "defaultdict(list, {'fruits': ['apple']})"
      ]
     },
     "execution_count": 151,
     "metadata": {},
     "output_type": "execute_result"
    }
   ],
   "source": [
    "dd_dict"
   ]
  },
  {
   "cell_type": "code",
   "execution_count": 155,
   "id": "82285c58-aea4-4e35-8382-5273828793bf",
   "metadata": {},
   "outputs": [],
   "source": [
    "dd_dict['fruits'].append('banana')"
   ]
  },
  {
   "cell_type": "code",
   "execution_count": 157,
   "id": "d5d504f0-724c-4ed6-b56c-dd545d587ce6",
   "metadata": {},
   "outputs": [
    {
     "data": {
      "text/plain": [
       "defaultdict(list, {'fruits': ['apple', 'banana']})"
      ]
     },
     "execution_count": 157,
     "metadata": {},
     "output_type": "execute_result"
    }
   ],
   "source": [
    "dd_dict"
   ]
  },
  {
   "cell_type": "code",
   "execution_count": 159,
   "id": "43aa91d2-c608-454e-80c7-bd5e107281fb",
   "metadata": {},
   "outputs": [
    {
     "data": {
      "text/plain": [
       "{'name': 'Jane',\n",
       " 'age': 26,\n",
       " 'courses': ['Math', 'CompSci'],\n",
       " 'phone': '555-1234',\n",
       " 'reg_num': '0901314110'}"
      ]
     },
     "execution_count": 159,
     "metadata": {},
     "output_type": "execute_result"
    }
   ],
   "source": [
    "student"
   ]
  },
  {
   "cell_type": "code",
   "execution_count": 161,
   "id": "f891e227-44e2-4844-aa22-174775b4d476",
   "metadata": {},
   "outputs": [
    {
     "data": {
      "text/plain": [
       "dict_keys(['name', 'age', 'courses', 'phone', 'reg_num'])"
      ]
     },
     "execution_count": 161,
     "metadata": {},
     "output_type": "execute_result"
    }
   ],
   "source": [
    "student.keys()"
   ]
  },
  {
   "cell_type": "code",
   "execution_count": 163,
   "id": "fa9cfb18-6b6f-4a29-afbb-1c42b3ea89b0",
   "metadata": {},
   "outputs": [
    {
     "data": {
      "text/plain": [
       "dict_values(['Jane', 26, ['Math', 'CompSci'], '555-1234', '0901314110'])"
      ]
     },
     "execution_count": 163,
     "metadata": {},
     "output_type": "execute_result"
    }
   ],
   "source": [
    "student.values()"
   ]
  },
  {
   "cell_type": "code",
   "execution_count": 165,
   "id": "2f57661c-03c8-4221-b133-68cce79aef4d",
   "metadata": {},
   "outputs": [
    {
     "data": {
      "text/plain": [
       "dict_items([('name', 'Jane'), ('age', 26), ('courses', ['Math', 'CompSci']), ('phone', '555-1234'), ('reg_num', '0901314110')])"
      ]
     },
     "execution_count": 165,
     "metadata": {},
     "output_type": "execute_result"
    }
   ],
   "source": [
    "student.items()"
   ]
  },
  {
   "cell_type": "code",
   "execution_count": 167,
   "id": "ae76a3b9-69b8-49fa-a80d-9cc751454f55",
   "metadata": {},
   "outputs": [
    {
     "data": {
      "text/plain": [
       "list"
      ]
     },
     "execution_count": 167,
     "metadata": {},
     "output_type": "execute_result"
    }
   ],
   "source": [
    "type([('name', 'Jane'), ('age', 26), ('courses', ['Math', 'CompSci']), ('phone', '555-1234'), ('reg_num', '0901314110')])"
   ]
  },
  {
   "cell_type": "code",
   "execution_count": 169,
   "id": "80589567-943a-4e7a-b197-dd5928f2f586",
   "metadata": {},
   "outputs": [
    {
     "data": {
      "text/plain": [
       "5"
      ]
     },
     "execution_count": 169,
     "metadata": {},
     "output_type": "execute_result"
    }
   ],
   "source": [
    "len(student)"
   ]
  },
  {
   "cell_type": "code",
   "execution_count": 175,
   "id": "f08ed531-89bb-44ee-b9e4-b33ca92f6882",
   "metadata": {},
   "outputs": [
    {
     "data": {
      "text/plain": [
       "True"
      ]
     },
     "execution_count": 175,
     "metadata": {},
     "output_type": "execute_result"
    }
   ],
   "source": [
    "\"name\" in student"
   ]
  },
  {
   "cell_type": "code",
   "execution_count": 177,
   "id": "2c99644f-f3f6-4a85-ad7e-4dc8c907a74f",
   "metadata": {},
   "outputs": [
    {
     "data": {
      "text/plain": [
       "True"
      ]
     },
     "execution_count": 177,
     "metadata": {},
     "output_type": "execute_result"
    }
   ],
   "source": [
    "\"name\" in student.keys()"
   ]
  },
  {
   "cell_type": "code",
   "execution_count": 184,
   "id": "bb37fed5-e8eb-423a-816f-f73930482e7f",
   "metadata": {},
   "outputs": [
    {
     "data": {
      "text/plain": [
       "True"
      ]
     },
     "execution_count": 184,
     "metadata": {},
     "output_type": "execute_result"
    }
   ],
   "source": [
    "(\"name\",\"Jane\") in student.items()"
   ]
  },
  {
   "cell_type": "code",
   "execution_count": 186,
   "id": "c0ef1230-86bc-43e7-90ca-a781e991581f",
   "metadata": {},
   "outputs": [
    {
     "data": {
      "text/plain": [
       "False"
      ]
     },
     "execution_count": 186,
     "metadata": {},
     "output_type": "execute_result"
    }
   ],
   "source": [
    "\"Jane\" in student"
   ]
  },
  {
   "cell_type": "code",
   "execution_count": 188,
   "id": "6a790d78-528f-4a77-8eb1-9d004d8e9f0d",
   "metadata": {},
   "outputs": [
    {
     "data": {
      "text/plain": [
       "True"
      ]
     },
     "execution_count": 188,
     "metadata": {},
     "output_type": "execute_result"
    }
   ],
   "source": [
    "\"Jane\" in student.values()"
   ]
  },
  {
   "cell_type": "code",
   "execution_count": 190,
   "id": "a9af9052-412b-4ff0-9b1d-b55e98c5fc80",
   "metadata": {},
   "outputs": [],
   "source": [
    "#Merging of Dictionaries"
   ]
  },
  {
   "cell_type": "code",
   "execution_count": 200,
   "id": "d155d088-463d-4d72-a5f2-23e8cffb5e01",
   "metadata": {},
   "outputs": [],
   "source": [
    "dict1 = {'a': 1, 'b': 4}\n",
    "dict2 = {'b': 3, 'c': 4}\n"
   ]
  },
  {
   "cell_type": "code",
   "execution_count": 202,
   "id": "607b26b8-16ad-48ca-adcc-b1ed062cf081",
   "metadata": {},
   "outputs": [],
   "source": [
    "merged_dict={**dict1,**dict2}"
   ]
  },
  {
   "cell_type": "code",
   "execution_count": 204,
   "id": "4ae90745-a3ac-4735-a2f0-c018c95729dc",
   "metadata": {},
   "outputs": [
    {
     "data": {
      "text/plain": [
       "{'a': 1, 'b': 3, 'c': 4}"
      ]
     },
     "execution_count": 204,
     "metadata": {},
     "output_type": "execute_result"
    }
   ],
   "source": [
    "merged_dict"
   ]
  },
  {
   "cell_type": "code",
   "execution_count": 206,
   "id": "2a370501-c0bf-4e84-8fb7-1d233545c1b7",
   "metadata": {},
   "outputs": [],
   "source": [
    "merged = dict1 | dict2"
   ]
  },
  {
   "cell_type": "code",
   "execution_count": 208,
   "id": "6aa8779b-f6ed-4074-b726-f98ba18f2c5c",
   "metadata": {},
   "outputs": [
    {
     "data": {
      "text/plain": [
       "{'a': 1, 'b': 3, 'c': 4}"
      ]
     },
     "execution_count": 208,
     "metadata": {},
     "output_type": "execute_result"
    }
   ],
   "source": [
    "merged"
   ]
  },
  {
   "cell_type": "code",
   "execution_count": 248,
   "id": "6528b27e-f4aa-4a03-a62a-d5b6d4ca9a6c",
   "metadata": {},
   "outputs": [],
   "source": [
    "student = {\n",
    "    'name': 'Alice',\n",
    "    'grades': [85, 92, 88, 95],\n",
    "    'courses': ['Math', 'Physics', 'Chemistry']\n",
    "}\n"
   ]
  },
  {
   "cell_type": "code",
   "execution_count": 212,
   "id": "546f6b11-57df-4f57-8f74-e04341e3ea28",
   "metadata": {},
   "outputs": [
    {
     "data": {
      "text/plain": [
       "['Math', 'Physics', 'Chemistry']"
      ]
     },
     "execution_count": 212,
     "metadata": {},
     "output_type": "execute_result"
    }
   ],
   "source": [
    "student[\"courses\"]"
   ]
  },
  {
   "cell_type": "code",
   "execution_count": 214,
   "id": "87c260af-e057-43be-9174-2db8a522efc7",
   "metadata": {},
   "outputs": [
    {
     "data": {
      "text/plain": [
       "'Math'"
      ]
     },
     "execution_count": 214,
     "metadata": {},
     "output_type": "execute_result"
    }
   ],
   "source": [
    "student[\"courses\"][0]"
   ]
  },
  {
   "cell_type": "code",
   "execution_count": 216,
   "id": "dbcb9c3c-cb97-4a49-b129-903d68a6663a",
   "metadata": {},
   "outputs": [],
   "source": [
    "student['grades'].append(90)"
   ]
  },
  {
   "cell_type": "code",
   "execution_count": 218,
   "id": "5b982788-b178-417b-8b61-2e56ea1f75b9",
   "metadata": {},
   "outputs": [
    {
     "data": {
      "text/plain": [
       "{'name': 'Alice',\n",
       " 'grades': [85, 92, 88, 95, 90],\n",
       " 'courses': ['Math', 'Physics', 'Chemistry']}"
      ]
     },
     "execution_count": 218,
     "metadata": {},
     "output_type": "execute_result"
    }
   ],
   "source": [
    "student"
   ]
  },
  {
   "cell_type": "code",
   "execution_count": 220,
   "id": "114f1e3e-a603-486d-85da-0beb8352ffc2",
   "metadata": {},
   "outputs": [],
   "source": [
    "student['grades'].remove(92)"
   ]
  },
  {
   "cell_type": "code",
   "execution_count": 222,
   "id": "84eb9f07-e9c2-402a-b710-9b5a5be71f56",
   "metadata": {},
   "outputs": [
    {
     "data": {
      "text/plain": [
       "{'name': 'Alice',\n",
       " 'grades': [85, 88, 95, 90],\n",
       " 'courses': ['Math', 'Physics', 'Chemistry']}"
      ]
     },
     "execution_count": 222,
     "metadata": {},
     "output_type": "execute_result"
    }
   ],
   "source": [
    "student"
   ]
  },
  {
   "cell_type": "code",
   "execution_count": 224,
   "id": "5ff75d0f-470b-4ed1-a022-62f43d7657f7",
   "metadata": {},
   "outputs": [
    {
     "data": {
      "text/plain": [
       "90"
      ]
     },
     "execution_count": 224,
     "metadata": {},
     "output_type": "execute_result"
    }
   ],
   "source": [
    "student['grades'].pop()"
   ]
  },
  {
   "cell_type": "code",
   "execution_count": 226,
   "id": "687f521b-328a-43c1-9dc1-ce3920e8e293",
   "metadata": {},
   "outputs": [
    {
     "data": {
      "text/plain": [
       "{'name': 'Alice',\n",
       " 'grades': [85, 88, 95],\n",
       " 'courses': ['Math', 'Physics', 'Chemistry']}"
      ]
     },
     "execution_count": 226,
     "metadata": {},
     "output_type": "execute_result"
    }
   ],
   "source": [
    "student"
   ]
  },
  {
   "cell_type": "code",
   "execution_count": 228,
   "id": "3d908e22-3be1-4101-96c3-ab4d2f45e3f8",
   "metadata": {},
   "outputs": [],
   "source": [
    "student['age']=30"
   ]
  },
  {
   "cell_type": "code",
   "execution_count": 230,
   "id": "a3fb47aa-500a-4351-aaf1-21721352a337",
   "metadata": {},
   "outputs": [
    {
     "data": {
      "text/plain": [
       "{'name': 'Alice',\n",
       " 'grades': [85, 88, 95],\n",
       " 'courses': ['Math', 'Physics', 'Chemistry'],\n",
       " 'age': 30}"
      ]
     },
     "execution_count": 230,
     "metadata": {},
     "output_type": "execute_result"
    }
   ],
   "source": [
    "student"
   ]
  },
  {
   "cell_type": "code",
   "execution_count": 232,
   "id": "314da390-58dc-47c6-9b86-167c45111b91",
   "metadata": {},
   "outputs": [],
   "source": [
    "del student['grades']"
   ]
  },
  {
   "cell_type": "code",
   "execution_count": 234,
   "id": "8b998fb1-66e7-40fa-8aab-125a7b1b20c5",
   "metadata": {},
   "outputs": [
    {
     "data": {
      "text/plain": [
       "{'name': 'Alice', 'courses': ['Math', 'Physics', 'Chemistry'], 'age': 30}"
      ]
     },
     "execution_count": 234,
     "metadata": {},
     "output_type": "execute_result"
    }
   ],
   "source": [
    "student"
   ]
  },
  {
   "cell_type": "code",
   "execution_count": 236,
   "id": "491135d0-b7d3-49d1-bd86-2fa0ecabf272",
   "metadata": {},
   "outputs": [
    {
     "data": {
      "text/plain": [
       "'Alice'"
      ]
     },
     "execution_count": 236,
     "metadata": {},
     "output_type": "execute_result"
    }
   ],
   "source": [
    "student.pop('name')"
   ]
  },
  {
   "cell_type": "code",
   "execution_count": 238,
   "id": "cd98fc64-40f0-4587-b797-1d2ee6f8211a",
   "metadata": {},
   "outputs": [
    {
     "data": {
      "text/plain": [
       "{'courses': ['Math', 'Physics', 'Chemistry'], 'age': 30}"
      ]
     },
     "execution_count": 238,
     "metadata": {},
     "output_type": "execute_result"
    }
   ],
   "source": [
    "student"
   ]
  },
  {
   "cell_type": "code",
   "execution_count": 240,
   "id": "8e2b521f-b671-49c0-92f0-a608fc50b83e",
   "metadata": {},
   "outputs": [
    {
     "data": {
      "text/plain": [
       "['Math', 'Physics', 'Chemistry']"
      ]
     },
     "execution_count": 240,
     "metadata": {},
     "output_type": "execute_result"
    }
   ],
   "source": [
    "student.pop('courses')"
   ]
  },
  {
   "cell_type": "code",
   "execution_count": 242,
   "id": "ddadc641-282f-4634-8a1b-651bc7cc622a",
   "metadata": {},
   "outputs": [
    {
     "data": {
      "text/plain": [
       "{'age': 30}"
      ]
     },
     "execution_count": 242,
     "metadata": {},
     "output_type": "execute_result"
    }
   ],
   "source": [
    "student"
   ]
  },
  {
   "cell_type": "code",
   "execution_count": 244,
   "id": "3465d68a-d27d-42a3-95a9-c8e740254f65",
   "metadata": {},
   "outputs": [],
   "source": [
    "student.clear()"
   ]
  },
  {
   "cell_type": "code",
   "execution_count": 246,
   "id": "a5fdfe2e-0ca6-4e93-b54d-a17ad8c39e7e",
   "metadata": {},
   "outputs": [
    {
     "data": {
      "text/plain": [
       "{}"
      ]
     },
     "execution_count": 246,
     "metadata": {},
     "output_type": "execute_result"
    }
   ],
   "source": [
    "student"
   ]
  },
  {
   "cell_type": "code",
   "execution_count": 250,
   "id": "d2e4db0f-d2ae-4831-8c42-5d1d24a7e133",
   "metadata": {},
   "outputs": [],
   "source": [
    "del student"
   ]
  },
  {
   "cell_type": "code",
   "execution_count": 252,
   "id": "a0341011-ba23-4b16-b71d-20770389aa3e",
   "metadata": {},
   "outputs": [
    {
     "ename": "NameError",
     "evalue": "name 'student' is not defined",
     "output_type": "error",
     "traceback": [
      "\u001b[1;31m---------------------------------------------------------------------------\u001b[0m",
      "\u001b[1;31mNameError\u001b[0m                                 Traceback (most recent call last)",
      "Cell \u001b[1;32mIn[252], line 1\u001b[0m\n\u001b[1;32m----> 1\u001b[0m student\n",
      "\u001b[1;31mNameError\u001b[0m: name 'student' is not defined"
     ]
    }
   ],
   "source": [
    "student"
   ]
  },
  {
   "cell_type": "code",
   "execution_count": 254,
   "id": "cada971c-1e30-4f05-b172-0a8ac4863e08",
   "metadata": {},
   "outputs": [],
   "source": [
    "employees = {\n",
    "    'E001': ('John', 'Doe', 28, 'Developer'),\n",
    "    'E002': ('Jane', 'Smith', 32, 'Manager'),\n",
    "    'E003': ('Bob', 'Johnson', 45, 'Director')\n",
    "}\n",
    "\n"
   ]
  },
  {
   "cell_type": "code",
   "execution_count": 256,
   "id": "cb3fb9cb-caf5-4b5b-940d-d02c71ddfb52",
   "metadata": {},
   "outputs": [
    {
     "data": {
      "text/plain": [
       "{'E001': ('John', 'Doe', 28, 'Developer'),\n",
       " 'E002': ('Jane', 'Smith', 32, 'Manager'),\n",
       " 'E003': ('Bob', 'Johnson', 45, 'Director')}"
      ]
     },
     "execution_count": 256,
     "metadata": {},
     "output_type": "execute_result"
    }
   ],
   "source": [
    "employees"
   ]
  },
  {
   "cell_type": "code",
   "execution_count": 258,
   "id": "8d95803d-2495-494d-94c4-cc7cc9053354",
   "metadata": {},
   "outputs": [],
   "source": [
    "f_name,l_name,age,job_title=employees.get('E002')"
   ]
  },
  {
   "cell_type": "code",
   "execution_count": 260,
   "id": "7e488d83-fc6a-455c-a6a7-bac065732e22",
   "metadata": {},
   "outputs": [
    {
     "data": {
      "text/plain": [
       "'Jane'"
      ]
     },
     "execution_count": 260,
     "metadata": {},
     "output_type": "execute_result"
    }
   ],
   "source": [
    "f_name"
   ]
  },
  {
   "cell_type": "code",
   "execution_count": 262,
   "id": "53211711-66ac-4a25-b913-431a0b9d0ae7",
   "metadata": {},
   "outputs": [
    {
     "data": {
      "text/plain": [
       "'Smith'"
      ]
     },
     "execution_count": 262,
     "metadata": {},
     "output_type": "execute_result"
    }
   ],
   "source": [
    "l_name"
   ]
  },
  {
   "cell_type": "code",
   "execution_count": 264,
   "id": "5f690263-3230-4b4e-91b1-89a2c1d64597",
   "metadata": {},
   "outputs": [
    {
     "data": {
      "text/plain": [
       "32"
      ]
     },
     "execution_count": 264,
     "metadata": {},
     "output_type": "execute_result"
    }
   ],
   "source": [
    "age"
   ]
  },
  {
   "cell_type": "code",
   "execution_count": 266,
   "id": "568dd1ea-e54d-48b0-b97b-ac46b1da3147",
   "metadata": {},
   "outputs": [
    {
     "data": {
      "text/plain": [
       "'Manager'"
      ]
     },
     "execution_count": 266,
     "metadata": {},
     "output_type": "execute_result"
    }
   ],
   "source": [
    "job_title"
   ]
  },
  {
   "cell_type": "code",
   "execution_count": 320,
   "id": "6cbc2603-8dda-476f-b630-8cc74ec77945",
   "metadata": {},
   "outputs": [],
   "source": [
    "coordinates = {\n",
    "    (35.6895, 139.6917): 'Tokyo',\n",
    "    (40.7128, -74.0060): 'New York',\n",
    "    (51.5074, -0.1278): 'London'\n",
    "}\n",
    "\n"
   ]
  },
  {
   "cell_type": "code",
   "execution_count": 326,
   "id": "140c0b8e-d594-4073-8e02-18ae52f64c7e",
   "metadata": {},
   "outputs": [
    {
     "data": {
      "text/plain": [
       "'New York'"
      ]
     },
     "execution_count": 326,
     "metadata": {},
     "output_type": "execute_result"
    }
   ],
   "source": [
    "coordinates[(40.7128, -74.0060)]"
   ]
  },
  {
   "cell_type": "code",
   "execution_count": 328,
   "id": "6bdeef67-8cb2-4d77-a90a-280a531b4e71",
   "metadata": {},
   "outputs": [
    {
     "data": {
      "text/plain": [
       "dict_keys([(35.6895, 139.6917), (40.7128, -74.006), (51.5074, -0.1278)])"
      ]
     },
     "execution_count": 328,
     "metadata": {},
     "output_type": "execute_result"
    }
   ],
   "source": [
    "coordinates.keys()"
   ]
  },
  {
   "cell_type": "code",
   "execution_count": 290,
   "id": "a565769d-71ec-4a76-9cd3-00d190a4d0f7",
   "metadata": {},
   "outputs": [],
   "source": [
    "list_keys=list(coordinates.keys())"
   ]
  },
  {
   "cell_type": "code",
   "execution_count": 292,
   "id": "4fdd87d0-bce7-4512-9480-1ee2d70a98ad",
   "metadata": {},
   "outputs": [
    {
     "data": {
      "text/plain": [
       "list"
      ]
     },
     "execution_count": 292,
     "metadata": {},
     "output_type": "execute_result"
    }
   ],
   "source": [
    "type(list_keys)"
   ]
  },
  {
   "cell_type": "code",
   "execution_count": 296,
   "id": "5e9484a0-b9d8-4d95-be8f-d09abfeae63e",
   "metadata": {},
   "outputs": [
    {
     "data": {
      "text/plain": [
       "[(35.6895, 139.6917), (40.7128, -74.006), (51.5074, -0.1278)]"
      ]
     },
     "execution_count": 296,
     "metadata": {},
     "output_type": "execute_result"
    }
   ],
   "source": [
    "list_keys"
   ]
  },
  {
   "cell_type": "code",
   "execution_count": 298,
   "id": "2fccb1f4-cb45-4233-b62c-3b1e759b0592",
   "metadata": {},
   "outputs": [
    {
     "data": {
      "text/plain": [
       "(35.6895, 139.6917)"
      ]
     },
     "execution_count": 298,
     "metadata": {},
     "output_type": "execute_result"
    }
   ],
   "source": [
    "list_keys[0]"
   ]
  },
  {
   "cell_type": "code",
   "execution_count": 300,
   "id": "dd3d6691-9e7d-4098-b976-0c549f15735b",
   "metadata": {},
   "outputs": [],
   "source": [
    "k1,k2=list_keys[0]"
   ]
  },
  {
   "cell_type": "code",
   "execution_count": 304,
   "id": "0e57224b-e55d-48ef-a0d5-9bda6a16f0c2",
   "metadata": {},
   "outputs": [
    {
     "data": {
      "text/plain": [
       "35.6895"
      ]
     },
     "execution_count": 304,
     "metadata": {},
     "output_type": "execute_result"
    }
   ],
   "source": [
    "k1"
   ]
  },
  {
   "cell_type": "code",
   "execution_count": 306,
   "id": "01137766-4395-41b9-9ca5-a874b2d4bac1",
   "metadata": {},
   "outputs": [
    {
     "data": {
      "text/plain": [
       "139.6917"
      ]
     },
     "execution_count": 306,
     "metadata": {},
     "output_type": "execute_result"
    }
   ],
   "source": [
    "k2"
   ]
  },
  {
   "cell_type": "code",
   "execution_count": 330,
   "id": "0f167a8c-bbbb-43dd-80d1-76d29af8c5c9",
   "metadata": {},
   "outputs": [],
   "source": [
    "list_keys=list(coordinates.keys())[0]"
   ]
  },
  {
   "cell_type": "code",
   "execution_count": 310,
   "id": "9144a58b-314b-4f97-a589-6bf9c160335a",
   "metadata": {},
   "outputs": [
    {
     "data": {
      "text/plain": [
       "(35.6895, 139.6917)"
      ]
     },
     "execution_count": 310,
     "metadata": {},
     "output_type": "execute_result"
    }
   ],
   "source": [
    "list_keys"
   ]
  },
  {
   "cell_type": "code",
   "execution_count": 332,
   "id": "a052d828-e56e-4769-a0ef-eb8fe2323247",
   "metadata": {},
   "outputs": [],
   "source": [
    "k1,k2=list(coordinates.keys())[0]"
   ]
  },
  {
   "cell_type": "code",
   "execution_count": 334,
   "id": "8fcfe8d9-6d71-4d1d-9f82-9e78d0e1bfb0",
   "metadata": {},
   "outputs": [
    {
     "data": {
      "text/plain": [
       "35.6895"
      ]
     },
     "execution_count": 334,
     "metadata": {},
     "output_type": "execute_result"
    }
   ],
   "source": [
    "k1"
   ]
  },
  {
   "cell_type": "code",
   "execution_count": 336,
   "id": "6663fbef-6f0c-4925-a21f-d168724f8e83",
   "metadata": {},
   "outputs": [
    {
     "data": {
      "text/plain": [
       "139.6917"
      ]
     },
     "execution_count": 336,
     "metadata": {},
     "output_type": "execute_result"
    }
   ],
   "source": [
    "k2"
   ]
  },
  {
   "cell_type": "code",
   "execution_count": 1,
   "id": "45f4b9d8-5456-4295-8031-bf88cb0e5ce7",
   "metadata": {},
   "outputs": [],
   "source": [
    "#Recap"
   ]
  },
  {
   "cell_type": "code",
   "execution_count": 3,
   "id": "bf3d4b6e-ed25-4193-ae30-15b5daccefe8",
   "metadata": {},
   "outputs": [],
   "source": [
    "s = \"hello\""
   ]
  },
  {
   "cell_type": "code",
   "execution_count": 5,
   "id": "8ddabfdd-379f-45c6-b2ab-28f560830b37",
   "metadata": {},
   "outputs": [
    {
     "data": {
      "text/plain": [
       "'olleh'"
      ]
     },
     "execution_count": 5,
     "metadata": {},
     "output_type": "execute_result"
    }
   ],
   "source": [
    "s[::-1]"
   ]
  },
  {
   "cell_type": "code",
   "execution_count": 7,
   "id": "ae32a3e4-18b0-48b8-95d6-993415e2e850",
   "metadata": {},
   "outputs": [],
   "source": [
    "#check if my string is palindrome meaning Ex str1=\"aba\" str2=\"aba\""
   ]
  },
  {
   "cell_type": "code",
   "execution_count": 24,
   "id": "8b74ad38-2b2f-4527-86fd-8fdf5a57f793",
   "metadata": {},
   "outputs": [],
   "source": [
    "s_data=\"Mam\""
   ]
  },
  {
   "cell_type": "code",
   "execution_count": 32,
   "id": "ed864518-f676-4c0f-94b6-e40c4de907ef",
   "metadata": {},
   "outputs": [],
   "source": [
    "s_rev=s_data.lower()"
   ]
  },
  {
   "cell_type": "code",
   "execution_count": 34,
   "id": "25e02226-5c36-4a28-bf1b-bfe5c037cf90",
   "metadata": {},
   "outputs": [],
   "source": [
    "s_rev_res=s_rev[::-1]"
   ]
  },
  {
   "cell_type": "code",
   "execution_count": 36,
   "id": "4f660723-2385-43d6-82f8-b98c7c497a02",
   "metadata": {},
   "outputs": [
    {
     "data": {
      "text/plain": [
       "'mam'"
      ]
     },
     "execution_count": 36,
     "metadata": {},
     "output_type": "execute_result"
    }
   ],
   "source": [
    "s_rev_res"
   ]
  },
  {
   "cell_type": "code",
   "execution_count": 40,
   "id": "2e2d3baa-8965-4686-af94-7d6b615ce8b5",
   "metadata": {},
   "outputs": [
    {
     "data": {
      "text/plain": [
       "True"
      ]
     },
     "execution_count": 40,
     "metadata": {},
     "output_type": "execute_result"
    }
   ],
   "source": [
    "s_data.lower()==s_rev_res"
   ]
  },
  {
   "cell_type": "code",
   "execution_count": 42,
   "id": "efe987fe-eda5-4105-a972-b69803199bae",
   "metadata": {},
   "outputs": [],
   "source": [
    "list1 = [1, 2]\n",
    "list2 = [\"a\", \"b\"]\n"
   ]
  },
  {
   "cell_type": "code",
   "execution_count": 44,
   "id": "6aa54961-8cf6-494d-a9cc-77689c58b5e5",
   "metadata": {},
   "outputs": [],
   "source": [
    "merged = list(zip(list1, list2))"
   ]
  },
  {
   "cell_type": "code",
   "execution_count": 46,
   "id": "3f78bfae-fbdf-4301-b89b-029ef241f9fc",
   "metadata": {},
   "outputs": [
    {
     "data": {
      "text/plain": [
       "[(1, 'a'), (2, 'b')]"
      ]
     },
     "execution_count": 46,
     "metadata": {},
     "output_type": "execute_result"
    }
   ],
   "source": [
    "merged"
   ]
  },
  {
   "cell_type": "code",
   "execution_count": 182,
   "id": "3eeced8f-25a1-4a2c-af05-25327d1cc42f",
   "metadata": {},
   "outputs": [],
   "source": [
    "list1 = [1, 2, 3]\n",
    "list2 = [3, 4, 5]\n"
   ]
  },
  {
   "cell_type": "code",
   "execution_count": 192,
   "id": "5862c55b-a87e-4682-80cb-1b14fc26bb13",
   "metadata": {},
   "outputs": [
    {
     "data": {
      "text/plain": [
       "{1, 2, 3, 4, 5}"
      ]
     },
     "execution_count": 192,
     "metadata": {},
     "output_type": "execute_result"
    }
   ],
   "source": [
    "set(list1+list2)"
   ]
  },
  {
   "cell_type": "code",
   "execution_count": 194,
   "id": "232d280c-cdd2-4eb4-b767-86d2d214acca",
   "metadata": {},
   "outputs": [],
   "source": [
    "data={1, 2, 3, 4, 5}"
   ]
  },
  {
   "cell_type": "code",
   "execution_count": 196,
   "id": "80396132-429e-4e9c-bfc9-ac94cafc24f3",
   "metadata": {},
   "outputs": [
    {
     "data": {
      "text/plain": [
       "[1, 2, 3, 4, 5]"
      ]
     },
     "execution_count": 196,
     "metadata": {},
     "output_type": "execute_result"
    }
   ],
   "source": [
    "list(data)"
   ]
  },
  {
   "cell_type": "code",
   "execution_count": 184,
   "id": "640215cb-7589-4e77-b10d-7754db561755",
   "metadata": {},
   "outputs": [],
   "source": [
    "merged=list(set(list1+list2))"
   ]
  },
  {
   "cell_type": "code",
   "execution_count": 186,
   "id": "2e436981-e2f8-4185-830b-b0d305596337",
   "metadata": {},
   "outputs": [
    {
     "data": {
      "text/plain": [
       "[1, 2, 3, 4, 5]"
      ]
     },
     "execution_count": 186,
     "metadata": {},
     "output_type": "execute_result"
    }
   ],
   "source": [
    "merged"
   ]
  },
  {
   "cell_type": "code",
   "execution_count": 188,
   "id": "6d2dde52-561b-4d70-8027-432938a0a659",
   "metadata": {},
   "outputs": [],
   "source": [
    "list1 = [1, 2, 3]\n",
    "list2 = [3, 4, 5]"
   ]
  },
  {
   "cell_type": "code",
   "execution_count": 48,
   "id": "8f668a49-36ab-44e2-970e-5d798fd9d806",
   "metadata": {},
   "outputs": [],
   "source": [
    "merged = list(zip(list2, list1))"
   ]
  },
  {
   "cell_type": "code",
   "execution_count": 50,
   "id": "98512f46-cfd9-41e9-99d6-163aac1318c0",
   "metadata": {},
   "outputs": [
    {
     "data": {
      "text/plain": [
       "[('a', 1), ('b', 2)]"
      ]
     },
     "execution_count": 50,
     "metadata": {},
     "output_type": "execute_result"
    }
   ],
   "source": [
    "merged"
   ]
  },
  {
   "cell_type": "code",
   "execution_count": 52,
   "id": "d5d7e8b5-35c6-49fa-9c12-24f9e3deaf2c",
   "metadata": {},
   "outputs": [],
   "source": [
    "l1=[1,2]"
   ]
  },
  {
   "cell_type": "code",
   "execution_count": 54,
   "id": "e4f6352b-fe85-40ab-90f1-6d540b26dacb",
   "metadata": {},
   "outputs": [],
   "source": [
    "l1_rev=l1[::-1]"
   ]
  },
  {
   "cell_type": "code",
   "execution_count": 56,
   "id": "1d79b19e-f1fe-4154-9922-111e7e484f5c",
   "metadata": {},
   "outputs": [
    {
     "data": {
      "text/plain": [
       "[2, 1]"
      ]
     },
     "execution_count": 56,
     "metadata": {},
     "output_type": "execute_result"
    }
   ],
   "source": [
    "l1_rev"
   ]
  },
  {
   "cell_type": "code",
   "execution_count": 60,
   "id": "7879420b-fc31-41e5-8cbf-6d36babe33a8",
   "metadata": {},
   "outputs": [],
   "source": [
    "dict1 = {\"a\": 1, \"b\": 2}\n",
    "dict2 = {\"c\": 3, \"d\": 4}\n"
   ]
  },
  {
   "cell_type": "code",
   "execution_count": 62,
   "id": "2d0aa784-885a-4fb9-b9a3-d6918df7aacd",
   "metadata": {},
   "outputs": [],
   "source": [
    "combined = {**dict1, **dict2} "
   ]
  },
  {
   "cell_type": "code",
   "execution_count": 64,
   "id": "c41b189a-6dc7-47d8-85fd-91d68bbbf7fe",
   "metadata": {},
   "outputs": [
    {
     "data": {
      "text/plain": [
       "{'a': 1, 'b': 2, 'c': 3, 'd': 4}"
      ]
     },
     "execution_count": 64,
     "metadata": {},
     "output_type": "execute_result"
    }
   ],
   "source": [
    "combined"
   ]
  },
  {
   "cell_type": "code",
   "execution_count": 74,
   "id": "a23bb62b-2d92-48e8-969d-2b8f74fcde41",
   "metadata": {},
   "outputs": [],
   "source": [
    "scores = {\"Alice\": 90, \"Bob\": 105, \"Charlie\": 95}"
   ]
  },
  {
   "cell_type": "code",
   "execution_count": 76,
   "id": "861b1591-e5ec-4066-8452-0303368d9034",
   "metadata": {},
   "outputs": [],
   "source": [
    "max_key=max(scores,key=scores.get)"
   ]
  },
  {
   "cell_type": "code",
   "execution_count": 78,
   "id": "b65f418e-6dc3-4625-9f3c-c8315d2aed18",
   "metadata": {},
   "outputs": [
    {
     "data": {
      "text/plain": [
       "'Bob'"
      ]
     },
     "execution_count": 78,
     "metadata": {},
     "output_type": "execute_result"
    }
   ],
   "source": [
    "max_key"
   ]
  },
  {
   "cell_type": "code",
   "execution_count": 106,
   "id": "1ba7363b-e754-4167-bf36-6b0347e26cf9",
   "metadata": {},
   "outputs": [],
   "source": [
    "list_1=[1,2,3,4,5,6]"
   ]
  },
  {
   "cell_type": "code",
   "execution_count": 108,
   "id": "107e689a-d101-4e71-b1fd-2d8c6b9acc8b",
   "metadata": {},
   "outputs": [],
   "source": [
    "list_2=(set(list_1))"
   ]
  },
  {
   "cell_type": "code",
   "execution_count": 110,
   "id": "a472d9a3-211c-4c5b-a07f-d6ee8b45bc7f",
   "metadata": {},
   "outputs": [
    {
     "data": {
      "text/plain": [
       "set"
      ]
     },
     "execution_count": 110,
     "metadata": {},
     "output_type": "execute_result"
    }
   ],
   "source": [
    "type(list_2)"
   ]
  },
  {
   "cell_type": "code",
   "execution_count": 112,
   "id": "5ec0d9b3-4c40-496c-8a5a-d3bc69facbb8",
   "metadata": {},
   "outputs": [
    {
     "data": {
      "text/plain": [
       "True"
      ]
     },
     "execution_count": 112,
     "metadata": {},
     "output_type": "execute_result"
    }
   ],
   "source": [
    "len(list_1)==len(list_2)"
   ]
  },
  {
   "cell_type": "code",
   "execution_count": 114,
   "id": "1fffe660-95b2-4ef6-b056-353c41525e18",
   "metadata": {},
   "outputs": [],
   "source": [
    "tuple_list = [(\"a\", 1), (\"b\", 2)]"
   ]
  },
  {
   "cell_type": "code",
   "execution_count": 120,
   "id": "0beb6f71-ba4a-428c-90b6-2f52ae63de86",
   "metadata": {},
   "outputs": [],
   "source": [
    "dict_tup=dict(tuple_list)"
   ]
  },
  {
   "cell_type": "code",
   "execution_count": 122,
   "id": "b323c13a-7ddc-4d74-91d4-183f08e2f33d",
   "metadata": {},
   "outputs": [
    {
     "data": {
      "text/plain": [
       "{'a': 1, 'b': 2}"
      ]
     },
     "execution_count": 122,
     "metadata": {},
     "output_type": "execute_result"
    }
   ],
   "source": [
    "dict_tup"
   ]
  },
  {
   "cell_type": "code",
   "execution_count": 124,
   "id": "ed731a32-2495-47fd-9013-52ddcfdf9ddc",
   "metadata": {},
   "outputs": [],
   "source": [
    "#Explain the difference between `list.sort()` and `sorted(list)`."
   ]
  },
  {
   "cell_type": "code",
   "execution_count": 126,
   "id": "31fd258c-b6c1-413a-9cc5-f134ae74d939",
   "metadata": {},
   "outputs": [],
   "source": [
    "lst = [3, 1, 2]"
   ]
  },
  {
   "cell_type": "code",
   "execution_count": 136,
   "id": "bf87f401-0f5e-4c36-a612-461e6de27a55",
   "metadata": {},
   "outputs": [],
   "source": [
    "lst.sort()"
   ]
  },
  {
   "cell_type": "code",
   "execution_count": 138,
   "id": "690a4920-d199-4ecc-b850-65bf9d47ef3a",
   "metadata": {},
   "outputs": [
    {
     "name": "stdout",
     "output_type": "stream",
     "text": [
      "[1, 2, 3]\n"
     ]
    }
   ],
   "source": [
    "print(lst)"
   ]
  },
  {
   "cell_type": "code",
   "execution_count": 140,
   "id": "7ee69bc2-bf02-4e05-ae3a-da0c7b69548f",
   "metadata": {},
   "outputs": [
    {
     "data": {
      "text/plain": [
       "[1, 2, 3]"
      ]
     },
     "execution_count": 140,
     "metadata": {},
     "output_type": "execute_result"
    }
   ],
   "source": [
    "lst"
   ]
  },
  {
   "cell_type": "code",
   "execution_count": 142,
   "id": "759ba7b6-c9c0-4315-9896-3c999a0ca394",
   "metadata": {},
   "outputs": [],
   "source": [
    "lst = [3, 1, 2]\n",
    "new_lst = sorted(lst)"
   ]
  },
  {
   "cell_type": "code",
   "execution_count": 144,
   "id": "6f22afc4-3f60-4e1a-9d45-abbcdbf182d1",
   "metadata": {},
   "outputs": [
    {
     "data": {
      "text/plain": [
       "[1, 2, 3]"
      ]
     },
     "execution_count": 144,
     "metadata": {},
     "output_type": "execute_result"
    }
   ],
   "source": [
    "new_lst"
   ]
  },
  {
   "cell_type": "code",
   "execution_count": 146,
   "id": "bcd10e3c-0545-4340-9d70-9ed35d9ca488",
   "metadata": {},
   "outputs": [
    {
     "data": {
      "text/plain": [
       "[3, 1, 2]"
      ]
     },
     "execution_count": 146,
     "metadata": {},
     "output_type": "execute_result"
    }
   ],
   "source": [
    "lst"
   ]
  },
  {
   "cell_type": "code",
   "execution_count": 148,
   "id": "5f5fa002-6c76-48b3-bf97-988b9bbad38c",
   "metadata": {},
   "outputs": [
    {
     "name": "stdout",
     "output_type": "stream",
     "text": [
      "False\n"
     ]
    }
   ],
   "source": [
    "print(\"hello\".upper().islower())  "
   ]
  },
  {
   "cell_type": "code",
   "execution_count": 150,
   "id": "be3d7c63-5e5d-4286-929d-c05293503975",
   "metadata": {},
   "outputs": [
    {
     "name": "stdout",
     "output_type": "stream",
     "text": [
      "True\n"
     ]
    }
   ],
   "source": [
    "print(\"hello\".lower().islower()) "
   ]
  },
  {
   "cell_type": "code",
   "execution_count": 152,
   "id": "2f981978-d4c0-4401-b952-999b67d0c951",
   "metadata": {},
   "outputs": [],
   "source": [
    "list_sample=[1,2,3,4,5]"
   ]
  },
  {
   "cell_type": "code",
   "execution_count": 154,
   "id": "4eca3070-ad78-4054-92ff-a71134912032",
   "metadata": {},
   "outputs": [
    {
     "data": {
      "text/plain": [
       "[5, 4, 3, 2, 1]"
      ]
     },
     "execution_count": 154,
     "metadata": {},
     "output_type": "execute_result"
    }
   ],
   "source": [
    "list_sample[::-1]"
   ]
  },
  {
   "cell_type": "code",
   "execution_count": 156,
   "id": "918d1f74-b6cf-49ba-85f7-da531d245ce3",
   "metadata": {},
   "outputs": [],
   "source": [
    "list_sample.reverse()"
   ]
  },
  {
   "cell_type": "code",
   "execution_count": 158,
   "id": "f873ff1e-07d7-4f71-9007-f59b7c643d71",
   "metadata": {},
   "outputs": [
    {
     "data": {
      "text/plain": [
       "[5, 4, 3, 2, 1]"
      ]
     },
     "execution_count": 158,
     "metadata": {},
     "output_type": "execute_result"
    }
   ],
   "source": [
    "list_sample"
   ]
  },
  {
   "cell_type": "code",
   "execution_count": 160,
   "id": "8e6cc394-9b3e-4a46-afa3-f891073279e0",
   "metadata": {},
   "outputs": [],
   "source": [
    "str_data=\"Good Morning Batch 21\""
   ]
  },
  {
   "cell_type": "code",
   "execution_count": 164,
   "id": "a3275fa7-8a93-4d2b-91e7-a8bcba21d3ae",
   "metadata": {},
   "outputs": [],
   "source": [
    "#list(str_data)"
   ]
  },
  {
   "cell_type": "code",
   "execution_count": 172,
   "id": "30aec6e6-5e66-4d91-b120-8707d9393c88",
   "metadata": {},
   "outputs": [],
   "source": [
    "str_data_list_rev=str_data.split()[::-1]"
   ]
  },
  {
   "cell_type": "code",
   "execution_count": 180,
   "id": "fd92f0ed-8fea-40e4-a7cb-515fde7589f4",
   "metadata": {},
   "outputs": [
    {
     "data": {
      "text/plain": [
       "'21 Batch Morning Good'"
      ]
     },
     "execution_count": 180,
     "metadata": {},
     "output_type": "execute_result"
    }
   ],
   "source": [
    "\" \".join(str_data_list_rev)"
   ]
  },
  {
   "cell_type": "code",
   "execution_count": 200,
   "id": "a3d42058-9ea9-4573-a771-9541c0b9bccc",
   "metadata": {},
   "outputs": [],
   "source": [
    "str_data=\"aaaabbbcccdddeeefff\""
   ]
  },
  {
   "cell_type": "code",
   "execution_count": 206,
   "id": "374bd31e-f14d-4f97-909f-cd7e9547c5be",
   "metadata": {},
   "outputs": [],
   "source": [
    "str_data_split=list(str_data)"
   ]
  },
  {
   "cell_type": "code",
   "execution_count": 208,
   "id": "58fab60f-1e86-426e-bc54-d71fb7b038d6",
   "metadata": {},
   "outputs": [
    {
     "data": {
      "text/plain": [
       "['a',\n",
       " 'a',\n",
       " 'a',\n",
       " 'a',\n",
       " 'b',\n",
       " 'b',\n",
       " 'b',\n",
       " 'c',\n",
       " 'c',\n",
       " 'c',\n",
       " 'd',\n",
       " 'd',\n",
       " 'd',\n",
       " 'e',\n",
       " 'e',\n",
       " 'e',\n",
       " 'f',\n",
       " 'f',\n",
       " 'f']"
      ]
     },
     "execution_count": 208,
     "metadata": {},
     "output_type": "execute_result"
    }
   ],
   "source": [
    "str_data_split"
   ]
  },
  {
   "cell_type": "code",
   "execution_count": 210,
   "id": "23db723a-187f-4d05-bfc3-d31604522ba1",
   "metadata": {},
   "outputs": [
    {
     "data": {
      "text/plain": [
       "{'a', 'b', 'c', 'd', 'e', 'f'}"
      ]
     },
     "execution_count": 210,
     "metadata": {},
     "output_type": "execute_result"
    }
   ],
   "source": [
    "set(str_data_split)"
   ]
  },
  {
   "cell_type": "code",
   "execution_count": 212,
   "id": "9e42ee7c-8964-4c75-8552-1f66f95e8976",
   "metadata": {},
   "outputs": [],
   "source": [
    "students = {\"Alice\": 90, \"Bob\": 85, \"Charlie\": 95}"
   ]
  },
  {
   "cell_type": "code",
   "execution_count": 218,
   "id": "0cb17bb4-7efe-49d6-8bbc-43bd75304fa5",
   "metadata": {},
   "outputs": [],
   "source": [
    "total_marks=sum(students.values())"
   ]
  },
  {
   "cell_type": "code",
   "execution_count": 220,
   "id": "63776cac-d226-4d74-a725-56e6ec07e839",
   "metadata": {},
   "outputs": [
    {
     "data": {
      "text/plain": [
       "270"
      ]
     },
     "execution_count": 220,
     "metadata": {},
     "output_type": "execute_result"
    }
   ],
   "source": [
    "total_marks"
   ]
  },
  {
   "cell_type": "code",
   "execution_count": 224,
   "id": "05bf930b-cfd3-40e6-946a-a6bead6278ff",
   "metadata": {},
   "outputs": [],
   "source": [
    "student_len=len(students)"
   ]
  },
  {
   "cell_type": "code",
   "execution_count": 226,
   "id": "adb8adf0-21cd-4f62-b06b-049ec3fe1f48",
   "metadata": {},
   "outputs": [
    {
     "data": {
      "text/plain": [
       "90.0"
      ]
     },
     "execution_count": 226,
     "metadata": {},
     "output_type": "execute_result"
    }
   ],
   "source": [
    "total_marks/student_len"
   ]
  },
  {
   "cell_type": "code",
   "execution_count": 228,
   "id": "68a56cf2-5167-4ad6-8547-bf2ceeb7af9a",
   "metadata": {},
   "outputs": [],
   "source": [
    "avg=sum(students.values())/len(students)"
   ]
  },
  {
   "cell_type": "code",
   "execution_count": 230,
   "id": "f1743001-0902-48b2-9da8-4ab456fcaa29",
   "metadata": {},
   "outputs": [
    {
     "data": {
      "text/plain": [
       "90.0"
      ]
     },
     "execution_count": 230,
     "metadata": {},
     "output_type": "execute_result"
    }
   ],
   "source": [
    "avg"
   ]
  },
  {
   "cell_type": "code",
   "execution_count": null,
   "id": "261d1257-b42f-430e-8c81-1e1bcea3dbb3",
   "metadata": {},
   "outputs": [],
   "source": []
  }
 ],
 "metadata": {
  "kernelspec": {
   "display_name": "Python [conda env:base] *",
   "language": "python",
   "name": "conda-base-py"
  },
  "language_info": {
   "codemirror_mode": {
    "name": "ipython",
    "version": 3
   },
   "file_extension": ".py",
   "mimetype": "text/x-python",
   "name": "python",
   "nbconvert_exporter": "python",
   "pygments_lexer": "ipython3",
   "version": "3.12.7"
  }
 },
 "nbformat": 4,
 "nbformat_minor": 5
}
