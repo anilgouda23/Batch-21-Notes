{
 "cells": [
  {
   "cell_type": "code",
   "execution_count": 1,
   "id": "e18b0462-9f96-4817-a01c-88b73d3a26cf",
   "metadata": {},
   "outputs": [],
   "source": [
    "a,b=1,2"
   ]
  },
  {
   "cell_type": "code",
   "execution_count": 2,
   "id": "452911fa-79a6-4ae6-93e1-2ab0110f8fa1",
   "metadata": {},
   "outputs": [
    {
     "data": {
      "text/plain": [
       "1"
      ]
     },
     "execution_count": 2,
     "metadata": {},
     "output_type": "execute_result"
    }
   ],
   "source": [
    "a"
   ]
  },
  {
   "cell_type": "code",
   "execution_count": 3,
   "id": "5aa66064-19e4-44b0-a3ef-02025abee9e7",
   "metadata": {},
   "outputs": [
    {
     "data": {
      "text/plain": [
       "2"
      ]
     },
     "execution_count": 3,
     "metadata": {},
     "output_type": "execute_result"
    }
   ],
   "source": [
    "b"
   ]
  },
  {
   "cell_type": "code",
   "execution_count": 4,
   "id": "54d7b97f-47d8-496d-a2a8-9d2eda6e050e",
   "metadata": {},
   "outputs": [],
   "source": [
    "a,b,*c=1,2,3,4,5,6,7,8"
   ]
  },
  {
   "cell_type": "code",
   "execution_count": 5,
   "id": "f378bd88-ccb6-431a-a1e4-2405c61aa1aa",
   "metadata": {},
   "outputs": [
    {
     "data": {
      "text/plain": [
       "1"
      ]
     },
     "execution_count": 5,
     "metadata": {},
     "output_type": "execute_result"
    }
   ],
   "source": [
    "a"
   ]
  },
  {
   "cell_type": "code",
   "execution_count": 6,
   "id": "fab49df8-a362-4995-b08a-12576fd76277",
   "metadata": {},
   "outputs": [
    {
     "data": {
      "text/plain": [
       "2"
      ]
     },
     "execution_count": 6,
     "metadata": {},
     "output_type": "execute_result"
    }
   ],
   "source": [
    "b"
   ]
  },
  {
   "cell_type": "code",
   "execution_count": 7,
   "id": "277b2aaa-8620-4be9-9275-429741936d68",
   "metadata": {},
   "outputs": [
    {
     "data": {
      "text/plain": [
       "[3, 4, 5, 6, 7, 8]"
      ]
     },
     "execution_count": 7,
     "metadata": {},
     "output_type": "execute_result"
    }
   ],
   "source": [
    "c"
   ]
  },
  {
   "cell_type": "code",
   "execution_count": 8,
   "id": "211f9860-adcc-476d-8df6-b68d3e7ae4c0",
   "metadata": {},
   "outputs": [],
   "source": [
    "numbers = [10, -3, 4, -2, 5]"
   ]
  },
  {
   "cell_type": "code",
   "execution_count": 10,
   "id": "0c5b29fc-e5fa-4927-b8f4-bf512b159fd5",
   "metadata": {},
   "outputs": [],
   "source": [
    "total_sum=0\n",
    "for each_num in numbers:\n",
    "    if each_num<0:\n",
    "        continue\n",
    "    total_sum+=each_num\n",
    "    "
   ]
  },
  {
   "cell_type": "code",
   "execution_count": 11,
   "id": "6e33e9f2-c3dd-4c80-a1fa-870f6c75c19c",
   "metadata": {},
   "outputs": [
    {
     "data": {
      "text/plain": [
       "19"
      ]
     },
     "execution_count": 11,
     "metadata": {},
     "output_type": "execute_result"
    }
   ],
   "source": [
    "total_sum"
   ]
  },
  {
   "cell_type": "code",
   "execution_count": 12,
   "id": "0fd1c72b-e94a-42b6-aa6d-fdf9061282e3",
   "metadata": {},
   "outputs": [],
   "source": [
    "total_sum=0\n",
    "for each_num in numbers:\n",
    "    if each_num>0:\n",
    "        continue\n",
    "    total_sum+=each_num\n",
    "    "
   ]
  },
  {
   "cell_type": "code",
   "execution_count": 13,
   "id": "be1a35f8-94b7-4a12-9e0c-a1541af1be6e",
   "metadata": {},
   "outputs": [
    {
     "data": {
      "text/plain": [
       "-5"
      ]
     },
     "execution_count": 13,
     "metadata": {},
     "output_type": "execute_result"
    }
   ],
   "source": [
    "total_sum"
   ]
  },
  {
   "cell_type": "code",
   "execution_count": 15,
   "id": "f2e3dbd1-d01d-4a72-a739-8ef28d8146ea",
   "metadata": {},
   "outputs": [],
   "source": [
    "#list comprehension one liner represenation of my code block"
   ]
  },
  {
   "cell_type": "code",
   "execution_count": 16,
   "id": "9ad91414-de80-4f2f-b0af-54da992263bf",
   "metadata": {},
   "outputs": [],
   "source": [
    "my_list=[1,2,3,4,5,6,7,8,9]"
   ]
  },
  {
   "cell_type": "code",
   "execution_count": 17,
   "id": "20f1269b-5a35-4915-b8d2-3bcec1031610",
   "metadata": {},
   "outputs": [
    {
     "name": "stdout",
     "output_type": "stream",
     "text": [
      "2\n",
      "4\n",
      "6\n",
      "8\n"
     ]
    }
   ],
   "source": [
    "for each_val in my_list:\n",
    "    if each_val % 2 == 0:\n",
    "        print(each_val)"
   ]
  },
  {
   "cell_type": "code",
   "execution_count": 18,
   "id": "20bc1b0b-ea91-4057-9386-e7bb6f5f366d",
   "metadata": {},
   "outputs": [],
   "source": [
    "res=[each_val for each_val in my_list if each_val % 2 ==0]fruits = [\"apple\", \"banana\", \"cherry\"]"
   ]
  },
  {
   "cell_type": "code",
   "execution_count": 19,
   "id": "188c5394-0b05-4f22-af5c-50e673658b3a",
   "metadata": {},
   "outputs": [
    {
     "data": {
      "text/plain": [
       "[2, 4, 6, 8]"
      ]
     },
     "execution_count": 19,
     "metadata": {},
     "output_type": "execute_result"
    }
   ],
   "source": [
    "res"
   ]
  },
  {
   "cell_type": "code",
   "execution_count": 20,
   "id": "d5c6b4b9-4d27-44b7-aadb-7a74bec7ec4a",
   "metadata": {},
   "outputs": [],
   "source": [
    "fruits = [\"apple\", \"banana\", \"cherry\"]"
   ]
  },
  {
   "cell_type": "code",
   "execution_count": 21,
   "id": "e8ed5d35-1cc2-43dd-9246-f568b53878b2",
   "metadata": {},
   "outputs": [
    {
     "name": "stdout",
     "output_type": "stream",
     "text": [
      "APPLE\n",
      "BANANA\n",
      "CHERRY\n"
     ]
    }
   ],
   "source": [
    "for each_fruit in fruits:\n",
    "    print(each_fruit.upper())"
   ]
  },
  {
   "cell_type": "code",
   "execution_count": 22,
   "id": "28993e36-699a-4750-bc29-3e99d7565d87",
   "metadata": {},
   "outputs": [],
   "source": [
    "res=[each_fruit.upper() for each_fruit in fruits]"
   ]
  },
  {
   "cell_type": "code",
   "execution_count": 23,
   "id": "9f659a13-3b4c-42a6-8526-5b4a09fd6e55",
   "metadata": {},
   "outputs": [
    {
     "data": {
      "text/plain": [
       "['APPLE', 'BANANA', 'CHERRY']"
      ]
     },
     "execution_count": 23,
     "metadata": {},
     "output_type": "execute_result"
    }
   ],
   "source": [
    "res"
   ]
  },
  {
   "cell_type": "code",
   "execution_count": null,
   "id": "a725ce22-cab2-4c8e-9499-7540dde8ca80",
   "metadata": {},
   "outputs": [],
   "source": []
  },
  {
   "cell_type": "code",
   "execution_count": 25,
   "id": "9c5f8dd7-f78b-41c1-bf7c-c8a0d1e388a0",
   "metadata": {},
   "outputs": [],
   "source": [
    "# Iterating through dictionary "
   ]
  },
  {
   "cell_type": "code",
   "execution_count": 26,
   "id": "4cf7fc37-a163-49cd-a90e-ad6b86d86015",
   "metadata": {},
   "outputs": [],
   "source": [
    "person = {\"name\": \"Alice\", \"age\": 25, \"city\": \"New York\"}"
   ]
  },
  {
   "cell_type": "code",
   "execution_count": 27,
   "id": "a8568dfd-b9b0-45ec-a900-dec6ada7eae0",
   "metadata": {},
   "outputs": [
    {
     "name": "stdout",
     "output_type": "stream",
     "text": [
      "name Alice\n",
      "age 25\n",
      "city New York\n"
     ]
    }
   ],
   "source": [
    "for key,value in person.items():\n",
    "    print(key,value)"
   ]
  },
  {
   "cell_type": "code",
   "execution_count": 31,
   "id": "281e48d8-6704-49db-aa36-215d26107f41",
   "metadata": {},
   "outputs": [
    {
     "name": "stdout",
     "output_type": "stream",
     "text": [
      "25\n"
     ]
    }
   ],
   "source": [
    "for key,value in person.items():\n",
    "    #print(key,value)\n",
    "    if key == \"age\":\n",
    "        print(person[key])"
   ]
  },
  {
   "cell_type": "code",
   "execution_count": 32,
   "id": "7ad52672-c5e1-43a4-b994-5bb79fe8624d",
   "metadata": {},
   "outputs": [],
   "source": [
    "num=[1,2,3,4,5,6,7]\n",
    "dict_num={}"
   ]
  },
  {
   "cell_type": "code",
   "execution_count": 33,
   "id": "ba2f0775-1f7b-4784-a3f7-d58734395f54",
   "metadata": {},
   "outputs": [],
   "source": [
    "#key:1 value:1 key:2 value:4{1:1,2:4,3:9....}"
   ]
  },
  {
   "cell_type": "code",
   "execution_count": 34,
   "id": "5b5b2816-42c4-4b3a-a1e2-975c18e69e09",
   "metadata": {},
   "outputs": [],
   "source": [
    "for each_num in num:\n",
    "    dict_num[each_num]=each_num * each_num\n",
    "    "
   ]
  },
  {
   "cell_type": "code",
   "execution_count": 35,
   "id": "95689dcb-1286-48f3-b0bb-460a422234f6",
   "metadata": {},
   "outputs": [
    {
     "data": {
      "text/plain": [
       "{1: 1, 2: 4, 3: 9, 4: 16, 5: 25, 6: 36, 7: 49}"
      ]
     },
     "execution_count": 35,
     "metadata": {},
     "output_type": "execute_result"
    }
   ],
   "source": [
    "dict_num"
   ]
  },
  {
   "cell_type": "code",
   "execution_count": 36,
   "id": "0dbf1f49-34ba-48ea-8c8d-9cc7213c336b",
   "metadata": {},
   "outputs": [],
   "source": [
    "sqr_num={each_num:each_num **2 for each_num in num}"
   ]
  },
  {
   "cell_type": "code",
   "execution_count": 37,
   "id": "184dfbf8-968b-4ce7-9917-fdb99f6328a6",
   "metadata": {},
   "outputs": [
    {
     "data": {
      "text/plain": [
       "{1: 1, 2: 4, 3: 9, 4: 16, 5: 25, 6: 36, 7: 49}"
      ]
     },
     "execution_count": 37,
     "metadata": {},
     "output_type": "execute_result"
    }
   ],
   "source": [
    "sqr_num"
   ]
  },
  {
   "cell_type": "code",
   "execution_count": 40,
   "id": "419ce729-d211-4ccc-a813-b3de2f4eb73c",
   "metadata": {},
   "outputs": [],
   "source": [
    "num=[1,2,3,4,5,6,7,8,9]\n",
    "squared_dict={}"
   ]
  },
  {
   "cell_type": "code",
   "execution_count": 41,
   "id": "81017813-522f-4f0d-afe4-74df9c3af9f3",
   "metadata": {},
   "outputs": [],
   "source": [
    "for each_num in num:\n",
    "    if each_num % 2 == 0:\n",
    "        \n",
    "        squared_dict[each_num]=each_num * each_num\n",
    "    "
   ]
  },
  {
   "cell_type": "code",
   "execution_count": 42,
   "id": "1ff26451-a39b-4986-b4a8-e849d80a6970",
   "metadata": {},
   "outputs": [
    {
     "data": {
      "text/plain": [
       "{2: 4, 4: 16, 6: 36, 8: 64}"
      ]
     },
     "execution_count": 42,
     "metadata": {},
     "output_type": "execute_result"
    }
   ],
   "source": [
    "squared_dict"
   ]
  },
  {
   "cell_type": "code",
   "execution_count": 43,
   "id": "0888e719-8eb1-448d-aac8-0080c7b698ae",
   "metadata": {},
   "outputs": [],
   "source": [
    "#dictionar comprehension"
   ]
  },
  {
   "cell_type": "code",
   "execution_count": 44,
   "id": "10e90f73-e97c-479a-ad5f-51b6263fe020",
   "metadata": {},
   "outputs": [],
   "source": [
    "num=[1,2,3,4,5,6,7,8,9]\n",
    "squared_dict={}\n",
    "\n",
    "squared_dict={each_num:each_num **2 for each_num in num if each_num % 2 == 0}"
   ]
  },
  {
   "cell_type": "code",
   "execution_count": 45,
   "id": "d5f052a6-a8df-4960-8ae9-adc4618d9380",
   "metadata": {},
   "outputs": [
    {
     "data": {
      "text/plain": [
       "{2: 4, 4: 16, 6: 36, 8: 64}"
      ]
     },
     "execution_count": 45,
     "metadata": {},
     "output_type": "execute_result"
    }
   ],
   "source": [
    "squared_dict"
   ]
  },
  {
   "cell_type": "code",
   "execution_count": 46,
   "id": "098958c9-84b5-4970-a387-df9fdfbf5173",
   "metadata": {},
   "outputs": [],
   "source": [
    "num=[1,2,3,4,5,6,7,8,9]\n",
    "squared_dict={}\n",
    "\n",
    "squared_dict={each_num:each_num **2 for each_num in num if each_num % 2 != 0}"
   ]
  },
  {
   "cell_type": "code",
   "execution_count": 47,
   "id": "b9940ae6-3978-4ecc-89c8-f53af368168d",
   "metadata": {},
   "outputs": [
    {
     "data": {
      "text/plain": [
       "{1: 1, 3: 9, 5: 25, 7: 49, 9: 81}"
      ]
     },
     "execution_count": 47,
     "metadata": {},
     "output_type": "execute_result"
    }
   ],
   "source": [
    "squared_dict"
   ]
  },
  {
   "cell_type": "code",
   "execution_count": 48,
   "id": "a4b59e9d-79a0-4931-8fa4-d5d444e03f67",
   "metadata": {},
   "outputs": [],
   "source": [
    "points = [(1, 2), (3, 4), (5, 6)]"
   ]
  },
  {
   "cell_type": "code",
   "execution_count": 49,
   "id": "3db7c789-4adb-409f-b758-c7d4e508f7a4",
   "metadata": {},
   "outputs": [],
   "source": [
    "x,y=(1, 2)"
   ]
  },
  {
   "cell_type": "code",
   "execution_count": 50,
   "id": "529ed42c-bd58-4a2a-a4dd-a4b8c22960b3",
   "metadata": {},
   "outputs": [
    {
     "data": {
      "text/plain": [
       "1"
      ]
     },
     "execution_count": 50,
     "metadata": {},
     "output_type": "execute_result"
    }
   ],
   "source": [
    "x"
   ]
  },
  {
   "cell_type": "code",
   "execution_count": 51,
   "id": "837cc9a6-f97e-4771-a9be-834f818b2a84",
   "metadata": {},
   "outputs": [
    {
     "data": {
      "text/plain": [
       "2"
      ]
     },
     "execution_count": 51,
     "metadata": {},
     "output_type": "execute_result"
    }
   ],
   "source": [
    "y"
   ]
  },
  {
   "cell_type": "code",
   "execution_count": 52,
   "id": "7f2eb6b3-ce20-4031-b320-8e41cea4f14a",
   "metadata": {},
   "outputs": [],
   "source": [
    "points = [(1, 2), (3, 4), (5, 6)]"
   ]
  },
  {
   "cell_type": "code",
   "execution_count": 53,
   "id": "4ab74c98-5186-40a1-97b8-1e7da5cd2cc3",
   "metadata": {},
   "outputs": [
    {
     "name": "stdout",
     "output_type": "stream",
     "text": [
      "1 2\n",
      "3 4\n",
      "5 6\n"
     ]
    }
   ],
   "source": [
    "for x,y in points:\n",
    "    print(x,y)"
   ]
  },
  {
   "cell_type": "code",
   "execution_count": 54,
   "id": "62a9935f-7572-477d-815d-12e9802bd72a",
   "metadata": {},
   "outputs": [],
   "source": [
    "#(2, 4), (6, 8), (10, 12)"
   ]
  },
  {
   "cell_type": "code",
   "execution_count": 55,
   "id": "7282210e-09c3-42c8-9296-667917d22404",
   "metadata": {},
   "outputs": [
    {
     "name": "stdout",
     "output_type": "stream",
     "text": [
      "1 4\n",
      "9 16\n",
      "25 36\n"
     ]
    }
   ],
   "source": [
    "for x,y in points:\n",
    "    print(x*x,y*y)"
   ]
  },
  {
   "cell_type": "code",
   "execution_count": 57,
   "id": "acb8461a-904c-42aa-97eb-2d7345e8b140",
   "metadata": {},
   "outputs": [],
   "source": [
    "res=tuple((x*x,y*y) for x,y in points)"
   ]
  },
  {
   "cell_type": "code",
   "execution_count": 58,
   "id": "e5a62231-b229-4121-b763-da062fa720e0",
   "metadata": {},
   "outputs": [
    {
     "data": {
      "text/plain": [
       "((1, 4), (9, 16), (25, 36))"
      ]
     },
     "execution_count": 58,
     "metadata": {},
     "output_type": "execute_result"
    }
   ],
   "source": [
    "res"
   ]
  },
  {
   "cell_type": "code",
   "execution_count": 3,
   "id": "ded81588-1bcd-481b-9a5c-5ed243e021af",
   "metadata": {},
   "outputs": [],
   "source": [
    "students = [\n",
    "    {\"name\": \"Alice\", \"grades\": [88, 92, 95]},\n",
    "    {\"name\": \"Bob\", \"grades\": [76, 85, 89]},\n",
    "    {\"name\": \"Charlie\", \"grades\": [91, 87, 93]}\n",
    "]"
   ]
  },
  {
   "cell_type": "code",
   "execution_count": 60,
   "id": "47a4b681-77c4-4a14-bdc1-4773f0272864",
   "metadata": {},
   "outputs": [
    {
     "name": "stdout",
     "output_type": "stream",
     "text": [
      "{'name': 'Alice', 'grades': [88, 92, 95]}\n",
      "{'name': 'Bob', 'grades': [76, 85, 89]}\n",
      "{'name': 'Charlie', 'grades': [91, 87, 93]}\n"
     ]
    }
   ],
   "source": [
    "for student in students:\n",
    "    print(student)"
   ]
  },
  {
   "cell_type": "code",
   "execution_count": 61,
   "id": "31feb39c-88de-42f1-a4f6-33dd416e5381",
   "metadata": {},
   "outputs": [
    {
     "name": "stdout",
     "output_type": "stream",
     "text": [
      "Alice\n",
      "Bob\n",
      "Charlie\n"
     ]
    }
   ],
   "source": [
    "for student in students:\n",
    "    print(student['name'])\n",
    "    \n",
    "    "
   ]
  },
  {
   "cell_type": "code",
   "execution_count": 5,
   "id": "d1248002-eac6-48e8-9f3e-4b1b75b5a603",
   "metadata": {},
   "outputs": [
    {
     "name": "stdout",
     "output_type": "stream",
     "text": [
      "Alice\n",
      "91.66666666666667\n",
      "Bob\n",
      "83.33333333333333\n",
      "Charlie\n",
      "90.33333333333333\n"
     ]
    }
   ],
   "source": [
    "for student in students:\n",
    "    print(student['name'])\n",
    "    total=0\n",
    "    for grade in student['grades']:\n",
    "        total+=grade\n",
    "    average=total/len(student['grades'])\n",
    "    print(average)"
   ]
  },
  {
   "cell_type": "code",
   "execution_count": 2,
   "id": "46a3ac55-0850-4c24-80ca-195a4cc23c04",
   "metadata": {},
   "outputs": [
    {
     "ename": "NameError",
     "evalue": "name 'students' is not defined",
     "output_type": "error",
     "traceback": [
      "\u001b[31m---------------------------------------------------------------------------\u001b[39m",
      "\u001b[31mNameError\u001b[39m                                 Traceback (most recent call last)",
      "\u001b[36mCell\u001b[39m\u001b[36m \u001b[39m\u001b[32mIn[2]\u001b[39m\u001b[32m, line 1\u001b[39m\n\u001b[32m----> \u001b[39m\u001b[32m1\u001b[39m \u001b[38;5;28;01mfor\u001b[39;00m student \u001b[38;5;129;01min\u001b[39;00m students:\n\u001b[32m      2\u001b[39m     \u001b[38;5;28mprint\u001b[39m(student[\u001b[33m'\u001b[39m\u001b[33mname\u001b[39m\u001b[33m'\u001b[39m])\n\u001b[32m      3\u001b[39m     total=\u001b[32m0\u001b[39m\n",
      "\u001b[31mNameError\u001b[39m: name 'students' is not defined"
     ]
    }
   ],
   "source": [
    "for student in students:\n",
    "    print(student['name'])\n",
    "    total=0\n",
    "    for grade in student['grades']:\n",
    "        total+=grade\n",
    "    average=total/len(student['grades'])\n",
    "    print(average)\n",
    "\n",
    "    if average>90:\n",
    "        print(\"excellent\")\n",
    "    elif average>80:\n",
    "        print(\"good\")\n",
    "    elif average>70:\n",
    "        print(\"intemediate\")\n",
    "    else:\n",
    "        print(\"sorry not cleared the exams\")"
   ]
  },
  {
   "cell_type": "code",
   "execution_count": 11,
   "id": "4ed2a254-36a0-4983-aae1-e8ca1702d7b3",
   "metadata": {},
   "outputs": [],
   "source": [
    "list_data=[1,2,3,4,5,6] #[6,7,8,9,10,11]\n",
    "sum_total=5\n",
    "new_list=[]\n",
    "for each_value in list_data:\n",
    "    new_val=5+each_value\n",
    "    sum_total+=each_value #5+1+2+3+4+5+6\n",
    "    new_list.append(new_val)\n",
    "    \n",
    "    "
   ]
  },
  {
   "cell_type": "code",
   "execution_count": 12,
   "id": "44b12fef-1533-4e51-9d1f-71a7e7efea8f",
   "metadata": {},
   "outputs": [
    {
     "data": {
      "text/plain": [
       "26"
      ]
     },
     "execution_count": 12,
     "metadata": {},
     "output_type": "execute_result"
    }
   ],
   "source": [
    "sum_total"
   ]
  },
  {
   "cell_type": "code",
   "execution_count": 13,
   "id": "b8e42820-9121-41a0-b75d-707891fbdc4b",
   "metadata": {},
   "outputs": [
    {
     "data": {
      "text/plain": [
       "[6, 7, 8, 9, 10, 11]"
      ]
     },
     "execution_count": 13,
     "metadata": {},
     "output_type": "execute_result"
    }
   ],
   "source": [
    "new_list\n"
   ]
  },
  {
   "cell_type": "code",
   "execution_count": null,
   "id": "6dff5f6d-7333-4271-99ab-043cfb19c776",
   "metadata": {},
   "outputs": [],
   "source": []
  }
 ],
 "metadata": {
  "kernelspec": {
   "display_name": "Python 3 (ipykernel)",
   "language": "python",
   "name": "python3"
  },
  "language_info": {
   "codemirror_mode": {
    "name": "ipython",
    "version": 3
   },
   "file_extension": ".py",
   "mimetype": "text/x-python",
   "name": "python",
   "nbconvert_exporter": "python",
   "pygments_lexer": "ipython3",
   "version": "3.12.11"
  }
 },
 "nbformat": 4,
 "nbformat_minor": 5
}
