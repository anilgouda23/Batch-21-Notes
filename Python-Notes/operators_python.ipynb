{
 "cells": [
  {
   "cell_type": "code",
   "execution_count": 6,
   "id": "8ae1a880-8d8e-41fc-b2b2-4109838c8b74",
   "metadata": {},
   "outputs": [],
   "source": [
    "#Python Introduction,features,Basic details of Data Structures,List,Tuple,dictionaries and related operations"
   ]
  },
  {
   "cell_type": "code",
   "execution_count": 8,
   "id": "7b6c6fc2-30fb-4d00-a75b-8bdf36c92fcd",
   "metadata": {},
   "outputs": [],
   "source": [
    "#set – Mutable Unordered Collection of Unique Elements"
   ]
  },
  {
   "cell_type": "code",
   "execution_count": 68,
   "id": "c3af19b7-1f3c-43a4-b7ea-b0b6b9f16ba2",
   "metadata": {},
   "outputs": [],
   "source": [
    "s = {1, 2, 3}"
   ]
  },
  {
   "cell_type": "code",
   "execution_count": 70,
   "id": "fde25c1e-2118-429c-9d04-911d2365beed",
   "metadata": {},
   "outputs": [
    {
     "data": {
      "text/plain": [
       "set"
      ]
     },
     "execution_count": 70,
     "metadata": {},
     "output_type": "execute_result"
    }
   ],
   "source": [
    "type(s)"
   ]
  },
  {
   "cell_type": "code",
   "execution_count": 72,
   "id": "bae1d446-b10f-4323-8228-d3b9342a2331",
   "metadata": {},
   "outputs": [],
   "source": [
    "l1=[1,2,3,3,3]"
   ]
  },
  {
   "cell_type": "code",
   "execution_count": 74,
   "id": "69fbbe14-bbbb-4c1f-9408-9476cb25066c",
   "metadata": {},
   "outputs": [],
   "source": [
    "s=set(l1)"
   ]
  },
  {
   "cell_type": "code",
   "execution_count": 76,
   "id": "a162ef4f-a7c7-414e-aa88-67ac473e8e09",
   "metadata": {},
   "outputs": [
    {
     "data": {
      "text/plain": [
       "{1, 2, 3}"
      ]
     },
     "execution_count": 76,
     "metadata": {},
     "output_type": "execute_result"
    }
   ],
   "source": [
    "s"
   ]
  },
  {
   "cell_type": "code",
   "execution_count": 24,
   "id": "e0849e48-dc9f-4f3a-a828-d746b9b4bfd5",
   "metadata": {},
   "outputs": [
    {
     "data": {
      "text/plain": [
       "set"
      ]
     },
     "execution_count": 24,
     "metadata": {},
     "output_type": "execute_result"
    }
   ],
   "source": [
    "type(s)"
   ]
  },
  {
   "cell_type": "code",
   "execution_count": 28,
   "id": "b0eb73b6-862b-4fb1-8706-743deb126d98",
   "metadata": {},
   "outputs": [],
   "source": [
    "tup=(1,2,3)"
   ]
  },
  {
   "cell_type": "code",
   "execution_count": 30,
   "id": "27a96d66-36f5-4d74-aef3-c93756d24f54",
   "metadata": {},
   "outputs": [],
   "source": [
    "s=set(tup)"
   ]
  },
  {
   "cell_type": "code",
   "execution_count": 32,
   "id": "1792277c-c7b0-4bc0-b2b6-82466210957b",
   "metadata": {},
   "outputs": [
    {
     "data": {
      "text/plain": [
       "{1, 2, 3}"
      ]
     },
     "execution_count": 32,
     "metadata": {},
     "output_type": "execute_result"
    }
   ],
   "source": [
    "s"
   ]
  },
  {
   "cell_type": "code",
   "execution_count": 34,
   "id": "196b2d31-5e14-4d44-b0a5-f98b7fd6fe1e",
   "metadata": {},
   "outputs": [
    {
     "data": {
      "text/plain": [
       "set"
      ]
     },
     "execution_count": 34,
     "metadata": {},
     "output_type": "execute_result"
    }
   ],
   "source": [
    "type(s)"
   ]
  },
  {
   "cell_type": "code",
   "execution_count": 48,
   "id": "4bd2f223-2026-41b1-acf2-a2b2298a44a5",
   "metadata": {},
   "outputs": [],
   "source": [
    "s1={1,2,3,4,5,6}"
   ]
  },
  {
   "cell_type": "code",
   "execution_count": 50,
   "id": "14f32e8a-7633-4be3-b71d-e8269cfe1552",
   "metadata": {},
   "outputs": [],
   "source": [
    "s1.add(7)"
   ]
  },
  {
   "cell_type": "code",
   "execution_count": 52,
   "id": "5ce077a2-1c1d-427f-897d-7aa77096aaa2",
   "metadata": {},
   "outputs": [
    {
     "data": {
      "text/plain": [
       "{1, 2, 3, 4, 5, 6, 7}"
      ]
     },
     "execution_count": 52,
     "metadata": {},
     "output_type": "execute_result"
    }
   ],
   "source": [
    "s1"
   ]
  },
  {
   "cell_type": "code",
   "execution_count": 54,
   "id": "5a818f2f-9e24-4be1-aba1-4125019151b9",
   "metadata": {},
   "outputs": [],
   "source": [
    "s1.remove(2)"
   ]
  },
  {
   "cell_type": "code",
   "execution_count": 56,
   "id": "80bdb6f4-e369-43f4-b407-55425ed4867d",
   "metadata": {},
   "outputs": [
    {
     "data": {
      "text/plain": [
       "{1, 3, 4, 5, 6, 7}"
      ]
     },
     "execution_count": 56,
     "metadata": {},
     "output_type": "execute_result"
    }
   ],
   "source": [
    "s1"
   ]
  },
  {
   "cell_type": "code",
   "execution_count": 58,
   "id": "a33f5117-a3e1-468a-8bb1-20db7b33487e",
   "metadata": {},
   "outputs": [
    {
     "data": {
      "text/plain": [
       "True"
      ]
     },
     "execution_count": 58,
     "metadata": {},
     "output_type": "execute_result"
    }
   ],
   "source": [
    "3 in s1"
   ]
  },
  {
   "cell_type": "code",
   "execution_count": 60,
   "id": "a3a45cf1-f9b9-46c8-8dd7-6e0bf3605f35",
   "metadata": {},
   "outputs": [
    {
     "data": {
      "text/plain": [
       "False"
      ]
     },
     "execution_count": 60,
     "metadata": {},
     "output_type": "execute_result"
    }
   ],
   "source": [
    "2 in s1"
   ]
  },
  {
   "cell_type": "code",
   "execution_count": 62,
   "id": "b1454969-f721-4a03-9d26-a90b47d41790",
   "metadata": {},
   "outputs": [
    {
     "data": {
      "text/plain": [
       "6"
      ]
     },
     "execution_count": 62,
     "metadata": {},
     "output_type": "execute_result"
    }
   ],
   "source": [
    "len(s1)"
   ]
  },
  {
   "cell_type": "code",
   "execution_count": 64,
   "id": "bf53f1b9-72e6-480f-b45c-2fe85fe9337f",
   "metadata": {},
   "outputs": [],
   "source": [
    "s1.clear()"
   ]
  },
  {
   "cell_type": "code",
   "execution_count": 66,
   "id": "c5c33710-dc64-4f08-833e-eb8a4860bac0",
   "metadata": {},
   "outputs": [
    {
     "data": {
      "text/plain": [
       "set()"
      ]
     },
     "execution_count": 66,
     "metadata": {},
     "output_type": "execute_result"
    }
   ],
   "source": [
    "s1"
   ]
  },
  {
   "cell_type": "code",
   "execution_count": 78,
   "id": "856e5bad-0ace-4b21-8589-f8cf7a1966c6",
   "metadata": {},
   "outputs": [],
   "source": [
    "s1={1,2,3,4,5,6}"
   ]
  },
  {
   "cell_type": "code",
   "execution_count": 80,
   "id": "8ec53f82-519f-4fcc-81b9-41b0b7ab5742",
   "metadata": {},
   "outputs": [
    {
     "ename": "TypeError",
     "evalue": "'set' object is not subscriptable",
     "output_type": "error",
     "traceback": [
      "\u001b[1;31m---------------------------------------------------------------------------\u001b[0m",
      "\u001b[1;31mTypeError\u001b[0m                                 Traceback (most recent call last)",
      "Cell \u001b[1;32mIn[80], line 1\u001b[0m\n\u001b[1;32m----> 1\u001b[0m s1[\u001b[38;5;241m0\u001b[39m]\n",
      "\u001b[1;31mTypeError\u001b[0m: 'set' object is not subscriptable"
     ]
    }
   ],
   "source": [
    "s1[0]"
   ]
  },
  {
   "cell_type": "code",
   "execution_count": 82,
   "id": "f0dca279-4ff0-486f-977d-d871be778c17",
   "metadata": {},
   "outputs": [],
   "source": [
    "s1.update([8,9]) "
   ]
  },
  {
   "cell_type": "code",
   "execution_count": 84,
   "id": "dfc2d315-c186-4c75-88f0-271cc33cc9d3",
   "metadata": {},
   "outputs": [
    {
     "data": {
      "text/plain": [
       "{1, 2, 3, 4, 5, 6, 8, 9}"
      ]
     },
     "execution_count": 84,
     "metadata": {},
     "output_type": "execute_result"
    }
   ],
   "source": [
    "s1"
   ]
  },
  {
   "cell_type": "code",
   "execution_count": 86,
   "id": "a82b93e7-5a3f-4c12-8616-8b8f0486f9a8",
   "metadata": {},
   "outputs": [],
   "source": [
    "s1.discard(7)"
   ]
  },
  {
   "cell_type": "code",
   "execution_count": 88,
   "id": "9d85ee63-0735-4f06-84a5-cc4af20dd528",
   "metadata": {},
   "outputs": [
    {
     "data": {
      "text/plain": [
       "{1, 2, 3, 4, 5, 6, 8, 9}"
      ]
     },
     "execution_count": 88,
     "metadata": {},
     "output_type": "execute_result"
    }
   ],
   "source": [
    "s1"
   ]
  },
  {
   "cell_type": "code",
   "execution_count": 90,
   "id": "f690ec33-a949-4b93-a161-4a4b8ec56530",
   "metadata": {},
   "outputs": [
    {
     "ename": "KeyError",
     "evalue": "7",
     "output_type": "error",
     "traceback": [
      "\u001b[1;31m---------------------------------------------------------------------------\u001b[0m",
      "\u001b[1;31mKeyError\u001b[0m                                  Traceback (most recent call last)",
      "Cell \u001b[1;32mIn[90], line 1\u001b[0m\n\u001b[1;32m----> 1\u001b[0m s1\u001b[38;5;241m.\u001b[39mremove(\u001b[38;5;241m7\u001b[39m)\n",
      "\u001b[1;31mKeyError\u001b[0m: 7"
     ]
    }
   ],
   "source": [
    "s1.remove(7)"
   ]
  },
  {
   "cell_type": "code",
   "execution_count": 92,
   "id": "d43fda70-3d3d-41f2-8a5a-71adb2139703",
   "metadata": {},
   "outputs": [
    {
     "data": {
      "text/plain": [
       "{1, 2, 3, 4, 5, 6, 8, 9}"
      ]
     },
     "execution_count": 92,
     "metadata": {},
     "output_type": "execute_result"
    }
   ],
   "source": [
    "s1"
   ]
  },
  {
   "cell_type": "code",
   "execution_count": 94,
   "id": "e1cdbc0a-2560-4419-a472-afe657d446ed",
   "metadata": {},
   "outputs": [
    {
     "data": {
      "text/plain": [
       "1"
      ]
     },
     "execution_count": 94,
     "metadata": {},
     "output_type": "execute_result"
    }
   ],
   "source": [
    "s1.pop()"
   ]
  },
  {
   "cell_type": "code",
   "execution_count": 96,
   "id": "0cd92307-de92-455a-b62d-eba8b2d1ed68",
   "metadata": {},
   "outputs": [
    {
     "data": {
      "text/plain": [
       "{2, 3, 4, 5, 6, 8, 9}"
      ]
     },
     "execution_count": 96,
     "metadata": {},
     "output_type": "execute_result"
    }
   ],
   "source": [
    "s1"
   ]
  },
  {
   "cell_type": "code",
   "execution_count": 98,
   "id": "6f99a38a-1292-479e-99f9-5ddffefba364",
   "metadata": {},
   "outputs": [
    {
     "data": {
      "text/plain": [
       "2"
      ]
     },
     "execution_count": 98,
     "metadata": {},
     "output_type": "execute_result"
    }
   ],
   "source": [
    "s1.pop()"
   ]
  },
  {
   "cell_type": "code",
   "execution_count": 100,
   "id": "c45756f1-a25c-4c31-b326-9171bfc121f5",
   "metadata": {},
   "outputs": [
    {
     "data": {
      "text/plain": [
       "{3, 4, 5, 6, 8, 9}"
      ]
     },
     "execution_count": 100,
     "metadata": {},
     "output_type": "execute_result"
    }
   ],
   "source": [
    "s1"
   ]
  },
  {
   "cell_type": "code",
   "execution_count": 102,
   "id": "52099205-d019-41c7-864f-0358d9fbcc39",
   "metadata": {},
   "outputs": [],
   "source": [
    "s1={1,2,3,4,5,6}\n",
    "s2={8,4,3,5,2}"
   ]
  },
  {
   "cell_type": "code",
   "execution_count": 104,
   "id": "d49ef4e7-c522-4eca-a423-7b12a9a3f84e",
   "metadata": {},
   "outputs": [
    {
     "data": {
      "text/plain": [
       "{1, 2, 3, 4, 5, 6, 8}"
      ]
     },
     "execution_count": 104,
     "metadata": {},
     "output_type": "execute_result"
    }
   ],
   "source": [
    "s1|s2"
   ]
  },
  {
   "cell_type": "code",
   "execution_count": 106,
   "id": "98b77859-507a-46b4-9b1e-f0fc1dfcc458",
   "metadata": {},
   "outputs": [
    {
     "data": {
      "text/plain": [
       "{2, 3, 4, 5}"
      ]
     },
     "execution_count": 106,
     "metadata": {},
     "output_type": "execute_result"
    }
   ],
   "source": [
    "s1 & s2   "
   ]
  },
  {
   "cell_type": "code",
   "execution_count": 108,
   "id": "afdf4ce0-acda-438e-aec7-bc601396c81f",
   "metadata": {},
   "outputs": [
    {
     "data": {
      "text/plain": [
       "{1, 6}"
      ]
     },
     "execution_count": 108,
     "metadata": {},
     "output_type": "execute_result"
    }
   ],
   "source": [
    "s1-s2"
   ]
  },
  {
   "cell_type": "code",
   "execution_count": 110,
   "id": "4b03f65a-5f2d-40ac-a605-c8781f37e590",
   "metadata": {},
   "outputs": [
    {
     "data": {
      "text/plain": [
       "{1, 6, 8}"
      ]
     },
     "execution_count": 110,
     "metadata": {},
     "output_type": "execute_result"
    }
   ],
   "source": [
    "s1^s2"
   ]
  },
  {
   "cell_type": "code",
   "execution_count": 112,
   "id": "8f801b7f-29be-4e89-a18c-d7beb82bf48b",
   "metadata": {},
   "outputs": [
    {
     "data": {
      "text/plain": [
       "False"
      ]
     },
     "execution_count": 112,
     "metadata": {},
     "output_type": "execute_result"
    }
   ],
   "source": [
    "s1 <= s2  "
   ]
  },
  {
   "cell_type": "code",
   "execution_count": 116,
   "id": "d0392bd0-ef1c-4bcc-b658-32a0775cab2a",
   "metadata": {},
   "outputs": [
    {
     "data": {
      "text/plain": [
       "False"
      ]
     },
     "execution_count": 116,
     "metadata": {},
     "output_type": "execute_result"
    }
   ],
   "source": [
    "s2 <= s1 "
   ]
  },
  {
   "cell_type": "code",
   "execution_count": 118,
   "id": "76675f6e-7979-4da9-a747-451402882b9d",
   "metadata": {},
   "outputs": [],
   "source": [
    "s1={1,2,3,4,5,6}\n",
    "s2={1,2}"
   ]
  },
  {
   "cell_type": "code",
   "execution_count": 120,
   "id": "a52173a0-75a6-47a6-80f5-831f8f4989f8",
   "metadata": {},
   "outputs": [
    {
     "data": {
      "text/plain": [
       "False"
      ]
     },
     "execution_count": 120,
     "metadata": {},
     "output_type": "execute_result"
    }
   ],
   "source": [
    "s1 <= s2  "
   ]
  },
  {
   "cell_type": "code",
   "execution_count": 122,
   "id": "f99c33d8-1ba4-4bf4-931d-cdddf18bf93f",
   "metadata": {},
   "outputs": [
    {
     "data": {
      "text/plain": [
       "True"
      ]
     },
     "execution_count": 122,
     "metadata": {},
     "output_type": "execute_result"
    }
   ],
   "source": [
    "s2 <= s1 "
   ]
  },
  {
   "cell_type": "code",
   "execution_count": 124,
   "id": "965d4610-f60f-4d62-8a17-67f939a7e332",
   "metadata": {},
   "outputs": [
    {
     "data": {
      "text/plain": [
       "True"
      ]
     },
     "execution_count": 124,
     "metadata": {},
     "output_type": "execute_result"
    }
   ],
   "source": [
    "s1 >= s2 "
   ]
  },
  {
   "cell_type": "code",
   "execution_count": 128,
   "id": "2072bd07-9be8-4495-9a86-eaf0e6edd808",
   "metadata": {},
   "outputs": [
    {
     "data": {
      "text/plain": [
       "False"
      ]
     },
     "execution_count": 128,
     "metadata": {},
     "output_type": "execute_result"
    }
   ],
   "source": [
    "s2 >= s1 "
   ]
  },
  {
   "cell_type": "code",
   "execution_count": 130,
   "id": "a591822a-251a-48a3-982b-6aad24a23f60",
   "metadata": {},
   "outputs": [],
   "source": [
    "#frozenset – Immutable Set"
   ]
  },
  {
   "cell_type": "code",
   "execution_count": 132,
   "id": "5fbc9da7-fcb3-42ea-a78e-4522d98e7306",
   "metadata": {},
   "outputs": [],
   "source": [
    "#Like set, but immutable (hashable, usable as a dict key or set element)"
   ]
  },
  {
   "cell_type": "code",
   "execution_count": 134,
   "id": "cbf3c247-c9a1-4755-a032-20404d58d4ea",
   "metadata": {},
   "outputs": [],
   "source": [
    "#Syntax:\n",
    "fs = frozenset([1, 2, 3])\n"
   ]
  },
  {
   "cell_type": "code",
   "execution_count": 136,
   "id": "22082954-3101-4bec-8af0-3e956d097c7d",
   "metadata": {},
   "outputs": [
    {
     "data": {
      "text/plain": [
       "frozenset({1, 2, 3})"
      ]
     },
     "execution_count": 136,
     "metadata": {},
     "output_type": "execute_result"
    }
   ],
   "source": [
    "fs"
   ]
  },
  {
   "cell_type": "code",
   "execution_count": 142,
   "id": "8b467b02-02cb-4758-be3b-b052031aa04b",
   "metadata": {},
   "outputs": [],
   "source": [
    "fs = frozenset({1, 2, 3})\n",
    "#print(fs.union({3, 4}))          # frozenset({1, 2, 3, 4})\n",
    "#print(fs.intersection({2, 4}))   # frozenset({2})\n"
   ]
  },
  {
   "cell_type": "code",
   "execution_count": 144,
   "id": "eeaa8156-40f6-4194-ab5b-6b4d4f1c1f8e",
   "metadata": {},
   "outputs": [
    {
     "data": {
      "text/plain": [
       "frozenset({1, 2, 3, 4})"
      ]
     },
     "execution_count": 144,
     "metadata": {},
     "output_type": "execute_result"
    }
   ],
   "source": [
    "fs.union({3, 4})"
   ]
  },
  {
   "cell_type": "code",
   "execution_count": 148,
   "id": "3a805a57-462e-4e75-95e5-85517828daa6",
   "metadata": {},
   "outputs": [
    {
     "data": {
      "text/plain": [
       "frozenset({1, 2})"
      ]
     },
     "execution_count": 148,
     "metadata": {},
     "output_type": "execute_result"
    }
   ],
   "source": [
    "fs.intersection({1,2, 4})"
   ]
  },
  {
   "cell_type": "code",
   "execution_count": 150,
   "id": "67f7b227-7a0a-473c-bfec-606faa38d02b",
   "metadata": {},
   "outputs": [],
   "source": [
    "fs1 = frozenset([1, 2, 3])\n",
    "fs2 = frozenset([3, 4, 5])\n"
   ]
  },
  {
   "cell_type": "code",
   "execution_count": 152,
   "id": "d917bff4-37f1-4039-9e3b-a768f0ffac81",
   "metadata": {},
   "outputs": [
    {
     "data": {
      "text/plain": [
       "frozenset({1, 2, 3, 4, 5})"
      ]
     },
     "execution_count": 152,
     "metadata": {},
     "output_type": "execute_result"
    }
   ],
   "source": [
    "fs1|fs2"
   ]
  },
  {
   "cell_type": "code",
   "execution_count": 154,
   "id": "39955e5d-b485-4cf6-809e-752b476ab26c",
   "metadata": {},
   "outputs": [
    {
     "data": {
      "text/plain": [
       "frozenset({3})"
      ]
     },
     "execution_count": 154,
     "metadata": {},
     "output_type": "execute_result"
    }
   ],
   "source": [
    "fs1&fs2"
   ]
  },
  {
   "cell_type": "code",
   "execution_count": 158,
   "id": "22f8c12a-9899-4c7a-95b2-8cdcce28712b",
   "metadata": {},
   "outputs": [
    {
     "data": {
      "text/plain": [
       "frozenset({3})"
      ]
     },
     "execution_count": 158,
     "metadata": {},
     "output_type": "execute_result"
    }
   ],
   "source": [
    "fs.intersection({3,4,5})"
   ]
  },
  {
   "cell_type": "code",
   "execution_count": 160,
   "id": "382ccd2a-01c1-454d-b432-46d31b905894",
   "metadata": {},
   "outputs": [
    {
     "data": {
      "text/plain": [
       "frozenset({1, 2})"
      ]
     },
     "execution_count": 160,
     "metadata": {},
     "output_type": "execute_result"
    }
   ],
   "source": [
    "fs1-fs2"
   ]
  },
  {
   "cell_type": "code",
   "execution_count": 162,
   "id": "18bceb5b-6128-4bfc-8e02-22c4069cc65a",
   "metadata": {},
   "outputs": [
    {
     "data": {
      "text/plain": [
       "frozenset({4, 5})"
      ]
     },
     "execution_count": 162,
     "metadata": {},
     "output_type": "execute_result"
    }
   ],
   "source": [
    "fs2-fs1"
   ]
  },
  {
   "cell_type": "code",
   "execution_count": 164,
   "id": "8a938cf8-95ad-4e0b-b425-f0aae735de97",
   "metadata": {},
   "outputs": [],
   "source": [
    "permissions = {\n",
    "    frozenset(['admin', 'read']): 'Full Access',\n",
    "    frozenset(['read']): 'Read Only'\n",
    "}\n"
   ]
  },
  {
   "cell_type": "code",
   "execution_count": 166,
   "id": "a986c574-4a2c-45c5-9fb4-220a40d0997b",
   "metadata": {},
   "outputs": [],
   "source": [
    "key = frozenset(['admin', 'read'])"
   ]
  },
  {
   "cell_type": "code",
   "execution_count": 170,
   "id": "16846222-041a-40d5-9b93-42eac13a7e48",
   "metadata": {},
   "outputs": [
    {
     "data": {
      "text/plain": [
       "'Full Access'"
      ]
     },
     "execution_count": 170,
     "metadata": {},
     "output_type": "execute_result"
    }
   ],
   "source": [
    "permissions[key]"
   ]
  },
  {
   "cell_type": "code",
   "execution_count": 172,
   "id": "48f24f6b-4fea-4889-b22c-f456241db0ae",
   "metadata": {},
   "outputs": [],
   "source": [
    "fs1 = frozenset([1, 2, 3])\n",
    "fs2 = frozenset([3, 4, 5])\n"
   ]
  },
  {
   "cell_type": "code",
   "execution_count": 174,
   "id": "87220a21-7888-4b69-a462-9f9bfdf7ce13",
   "metadata": {},
   "outputs": [
    {
     "data": {
      "text/plain": [
       "frozenset({1, 2})"
      ]
     },
     "execution_count": 174,
     "metadata": {},
     "output_type": "execute_result"
    }
   ],
   "source": [
    "fs1-fs2"
   ]
  },
  {
   "cell_type": "code",
   "execution_count": 176,
   "id": "e5a016e6-4ffe-4d7f-978e-30c0f6e29ed3",
   "metadata": {},
   "outputs": [
    {
     "data": {
      "text/plain": [
       "frozenset({4, 5})"
      ]
     },
     "execution_count": 176,
     "metadata": {},
     "output_type": "execute_result"
    }
   ],
   "source": [
    "fs2-fs1"
   ]
  },
  {
   "cell_type": "code",
   "execution_count": 178,
   "id": "a130c144-35ae-47c0-943b-5658c718e0bd",
   "metadata": {},
   "outputs": [
    {
     "data": {
      "text/plain": [
       "frozenset({1, 2, 4, 5})"
      ]
     },
     "execution_count": 178,
     "metadata": {},
     "output_type": "execute_result"
    }
   ],
   "source": [
    "fs1^fs2"
   ]
  },
  {
   "cell_type": "code",
   "execution_count": 180,
   "id": "f52f4417-92ad-49ae-9bb2-6a287dfe19d5",
   "metadata": {},
   "outputs": [],
   "source": [
    "teamA_roles = frozenset(['dev', 'qa', 'admin'])\n",
    "teamB_roles = frozenset(['qa', 'pm', 'support'])\n"
   ]
  },
  {
   "cell_type": "code",
   "execution_count": 182,
   "id": "51d38ca0-0850-4ea7-be6a-aec281b60abd",
   "metadata": {},
   "outputs": [],
   "source": [
    "unique_roles = teamA_roles ^ teamB_roles"
   ]
  },
  {
   "cell_type": "code",
   "execution_count": 184,
   "id": "a3a7cd71-9e9c-405e-a237-348522da8154",
   "metadata": {},
   "outputs": [
    {
     "data": {
      "text/plain": [
       "frozenset({'admin', 'dev', 'pm', 'support'})"
      ]
     },
     "execution_count": 184,
     "metadata": {},
     "output_type": "execute_result"
    }
   ],
   "source": [
    "unique_roles"
   ]
  },
  {
   "cell_type": "code",
   "execution_count": 186,
   "id": "e443ebf8-8146-43c3-9813-f568add123c4",
   "metadata": {},
   "outputs": [],
   "source": [
    "#range – \n",
    "#The range() function in Python is used to generate an immutable sequence of numbers, often used in loops and iterations.\n"
   ]
  },
  {
   "cell_type": "code",
   "execution_count": 188,
   "id": "961959f7-b66c-476f-844c-f659d6f4e769",
   "metadata": {},
   "outputs": [],
   "source": [
    "#range(start,stop,step)"
   ]
  },
  {
   "cell_type": "code",
   "execution_count": 190,
   "id": "0735bc1f-025e-44f7-8815-7eefdfdc8d58",
   "metadata": {},
   "outputs": [
    {
     "data": {
      "text/plain": [
       "range(0, 5)"
      ]
     },
     "execution_count": 190,
     "metadata": {},
     "output_type": "execute_result"
    }
   ],
   "source": [
    "range(5)"
   ]
  },
  {
   "cell_type": "code",
   "execution_count": 192,
   "id": "6661022b-cdd1-4a08-85bc-65febabd29cc",
   "metadata": {},
   "outputs": [
    {
     "data": {
      "text/plain": [
       "[0, 1, 2, 3, 4]"
      ]
     },
     "execution_count": 192,
     "metadata": {},
     "output_type": "execute_result"
    }
   ],
   "source": [
    "list(range(0,5))"
   ]
  },
  {
   "cell_type": "code",
   "execution_count": 194,
   "id": "ee709736-32da-4ec3-8b26-eafe05d41e9f",
   "metadata": {},
   "outputs": [
    {
     "data": {
      "text/plain": [
       "(0, 1, 2, 3, 4)"
      ]
     },
     "execution_count": 194,
     "metadata": {},
     "output_type": "execute_result"
    }
   ],
   "source": [
    "tuple(range(0,5))"
   ]
  },
  {
   "cell_type": "code",
   "execution_count": 198,
   "id": "ba4d2555-d17a-4907-a1d1-13f399d0b85e",
   "metadata": {},
   "outputs": [
    {
     "data": {
      "text/plain": [
       "[7, 5, 3, 1]"
      ]
     },
     "execution_count": 198,
     "metadata": {},
     "output_type": "execute_result"
    }
   ],
   "source": [
    "list(range(7,0,-2))"
   ]
  },
  {
   "cell_type": "code",
   "execution_count": 200,
   "id": "19135e59-d0a9-41b9-b3b4-98cc53272616",
   "metadata": {},
   "outputs": [
    {
     "data": {
      "text/plain": [
       "[20, 17, 14, 11, 8, 5, 2]"
      ]
     },
     "execution_count": 200,
     "metadata": {},
     "output_type": "execute_result"
    }
   ],
   "source": [
    "list(range(20,0,-3))"
   ]
  },
  {
   "cell_type": "code",
   "execution_count": 202,
   "id": "2cbac74b-d0c1-4043-95a0-ea544fe6633d",
   "metadata": {},
   "outputs": [
    {
     "data": {
      "text/plain": [
       "10"
      ]
     },
     "execution_count": 202,
     "metadata": {},
     "output_type": "execute_result"
    }
   ],
   "source": [
    "len(range(10))"
   ]
  },
  {
   "cell_type": "code",
   "execution_count": 204,
   "id": "6426d254-a0ad-49ee-94f0-3efd995ff42f",
   "metadata": {},
   "outputs": [],
   "source": [
    "list_1=[1,2,3,4,5]"
   ]
  },
  {
   "cell_type": "code",
   "execution_count": 206,
   "id": "2438175d-e396-48a2-b588-21274792dc6a",
   "metadata": {},
   "outputs": [
    {
     "data": {
      "text/plain": [
       "5"
      ]
     },
     "execution_count": 206,
     "metadata": {},
     "output_type": "execute_result"
    }
   ],
   "source": [
    "len(list_1)"
   ]
  },
  {
   "cell_type": "code",
   "execution_count": 210,
   "id": "fae8d815-f03c-4e28-a975-43929ebd0e5d",
   "metadata": {},
   "outputs": [],
   "source": [
    "#calculate the sum of each digit in a range of 10"
   ]
  },
  {
   "cell_type": "code",
   "execution_count": 218,
   "id": "5eb20e31-0702-4d2f-8942-b539bcefb98d",
   "metadata": {},
   "outputs": [
    {
     "data": {
      "text/plain": [
       "45"
      ]
     },
     "execution_count": 218,
     "metadata": {},
     "output_type": "execute_result"
    }
   ],
   "source": [
    "sum(range(0,10)) #0,1,2,3,4,5,6,7,8,9"
   ]
  },
  {
   "cell_type": "code",
   "execution_count": 220,
   "id": "78835e49-8ad2-4725-9f6a-2e148f0f1b2b",
   "metadata": {},
   "outputs": [
    {
     "data": {
      "text/plain": [
       "2450"
      ]
     },
     "execution_count": 220,
     "metadata": {},
     "output_type": "execute_result"
    }
   ],
   "source": [
    "sum(range(0,100,2))"
   ]
  },
  {
   "cell_type": "code",
   "execution_count": 222,
   "id": "92397c7f-9ebd-4291-9705-6f86bbc2ce06",
   "metadata": {},
   "outputs": [
    {
     "data": {
      "text/plain": [
       "[10, 8, 6, 4, 2]"
      ]
     },
     "execution_count": 222,
     "metadata": {},
     "output_type": "execute_result"
    }
   ],
   "source": [
    "list(range(10, 0, -2)) "
   ]
  },
  {
   "cell_type": "code",
   "execution_count": 224,
   "id": "fb5b6aff-54b7-43cf-89f2-975c72f7060a",
   "metadata": {},
   "outputs": [
    {
     "data": {
      "text/plain": [
       "[10, 9, 8, 7, 6, 5, 4, 3, 2, 1]"
      ]
     },
     "execution_count": 224,
     "metadata": {},
     "output_type": "execute_result"
    }
   ],
   "source": [
    "list(range(10, 0, -1)) "
   ]
  },
  {
   "cell_type": "code",
   "execution_count": 226,
   "id": "652514e5-f32e-48f2-8b7e-7dc03d536617",
   "metadata": {},
   "outputs": [],
   "source": [
    "#set,forzenset,range,dict,tuples,lists,string"
   ]
  },
  {
   "cell_type": "code",
   "execution_count": 228,
   "id": "40df3c03-ae7d-4225-9c5b-9c6c2bad56cd",
   "metadata": {},
   "outputs": [],
   "source": [
    "list_data=list(range(10, 0, -1)) "
   ]
  },
  {
   "cell_type": "code",
   "execution_count": 230,
   "id": "e29d4f17-d4e6-4470-8fdd-d7e3a286d7f1",
   "metadata": {},
   "outputs": [],
   "source": [
    "#get all the even numbers from the list"
   ]
  },
  {
   "cell_type": "code",
   "execution_count": 234,
   "id": "acd211e9-e0da-4ce0-949e-5dc08ab0b1ef",
   "metadata": {},
   "outputs": [
    {
     "name": "stdout",
     "output_type": "stream",
     "text": [
      "10 is even\n",
      "8 is even\n",
      "6 is even\n",
      "4 is even\n",
      "2 is even\n"
     ]
    }
   ],
   "source": [
    "new_list=[]\n",
    "for each_val in list_data:\n",
    "    if each_val % 2 == 0:\n",
    "        print(f\"{each_val} is even\")\n",
    "        new_list.append(each_val)\n",
    "        "
   ]
  },
  {
   "cell_type": "code",
   "execution_count": 236,
   "id": "4ecb6c2c-e78b-435d-9d17-7f2b3ff012e4",
   "metadata": {},
   "outputs": [
    {
     "data": {
      "text/plain": [
       "[10, 8, 6, 4, 2]"
      ]
     },
     "execution_count": 236,
     "metadata": {},
     "output_type": "execute_result"
    }
   ],
   "source": [
    "new_list"
   ]
  },
  {
   "cell_type": "code",
   "execution_count": 238,
   "id": "b5ca5057-a502-470b-bdbe-664b16aa3e5a",
   "metadata": {},
   "outputs": [
    {
     "data": {
      "text/plain": [
       "range(0, 10)"
      ]
     },
     "execution_count": 238,
     "metadata": {},
     "output_type": "execute_result"
    }
   ],
   "source": [
    "range(10)"
   ]
  },
  {
   "cell_type": "code",
   "execution_count": 240,
   "id": "374ddf51-4809-4beb-bba7-02b7c91e3589",
   "metadata": {},
   "outputs": [
    {
     "data": {
      "text/plain": [
       "2"
      ]
     },
     "execution_count": 240,
     "metadata": {},
     "output_type": "execute_result"
    }
   ],
   "source": [
    "range(10)[2]"
   ]
  },
  {
   "cell_type": "code",
   "execution_count": 252,
   "id": "4038260e-aab7-4de7-8e9a-3df8a09f072f",
   "metadata": {},
   "outputs": [],
   "source": [
    "list_data=list(range(1,25,3))"
   ]
  },
  {
   "cell_type": "code",
   "execution_count": 254,
   "id": "e0b02041-8e2f-4b10-b9c1-d983684dae26",
   "metadata": {},
   "outputs": [
    {
     "data": {
      "text/plain": [
       "[1, 4, 7, 10, 13, 16, 19, 22]"
      ]
     },
     "execution_count": 254,
     "metadata": {},
     "output_type": "execute_result"
    }
   ],
   "source": [
    "list_data"
   ]
  },
  {
   "cell_type": "code",
   "execution_count": 256,
   "id": "15ccbac4-c744-4f57-9761-e48742a1feb6",
   "metadata": {},
   "outputs": [
    {
     "data": {
      "text/plain": [
       "7"
      ]
     },
     "execution_count": 256,
     "metadata": {},
     "output_type": "execute_result"
    }
   ],
   "source": [
    "list_data[2]"
   ]
  },
  {
   "cell_type": "code",
   "execution_count": 272,
   "id": "eaab0625-a952-4f74-ae13-020284714940",
   "metadata": {},
   "outputs": [
    {
     "data": {
      "text/plain": [
       "True"
      ]
     },
     "execution_count": 272,
     "metadata": {},
     "output_type": "execute_result"
    }
   ],
   "source": [
    "7 in range(1,25,3)"
   ]
  },
  {
   "cell_type": "code",
   "execution_count": 276,
   "id": "ed17d2f4-c4c2-4f0c-8e0d-d02a6acfb375",
   "metadata": {},
   "outputs": [
    {
     "data": {
      "text/plain": [
       "False"
      ]
     },
     "execution_count": 276,
     "metadata": {},
     "output_type": "execute_result"
    }
   ],
   "source": [
    "8 in range(1,25,3)"
   ]
  },
  {
   "cell_type": "code",
   "execution_count": 274,
   "id": "004d93c8-3e7f-4c6a-a626-bb3548ab6457",
   "metadata": {},
   "outputs": [
    {
     "data": {
      "text/plain": [
       "False"
      ]
     },
     "execution_count": 274,
     "metadata": {},
     "output_type": "execute_result"
    }
   ],
   "source": [
    "7 not in range(1,25,3)"
   ]
  },
  {
   "cell_type": "code",
   "execution_count": 278,
   "id": "81b54fbc-1d31-4309-bf4c-4e61b7fc9a30",
   "metadata": {},
   "outputs": [
    {
     "data": {
      "text/plain": [
       "True"
      ]
     },
     "execution_count": 278,
     "metadata": {},
     "output_type": "execute_result"
    }
   ],
   "source": [
    "8 not in range(1,25,3)"
   ]
  },
  {
   "cell_type": "code",
   "execution_count": 322,
   "id": "54923411-70c6-48ae-99ff-9e20ef018f1f",
   "metadata": {},
   "outputs": [
    {
     "ename": "SyntaxError",
     "evalue": "invalid character '•' (U+2022) (633199568.py, line 1)",
     "output_type": "error",
     "traceback": [
      "\u001b[1;36m  Cell \u001b[1;32mIn[322], line 1\u001b[1;36m\u001b[0m\n\u001b[1;33m    •\tType Casting\u001b[0m\n\u001b[1;37m    ^\u001b[0m\n\u001b[1;31mSyntaxError\u001b[0m\u001b[1;31m:\u001b[0m invalid character '•' (U+2022)\n"
     ]
    }
   ],
   "source": [
    "•\tType Casting\n",
    "\n",
    "o\tArithmetic\n",
    "o\tComparison\n",
    "o\tAssignment\n",
    "o\tLogical\n",
    "o\tMembership\n",
    "•\tIdentity Operators\n",
    "•\tTernary Operator\n",
    "•\tOperator Precedence\n",
    "•\tis vs ==\n"
   ]
  },
  {
   "cell_type": "code",
   "execution_count": 282,
   "id": "7c7e9ab7-bb15-40e8-8831-61b84680c884",
   "metadata": {},
   "outputs": [],
   "source": [
    "#List"
   ]
  },
  {
   "cell_type": "code",
   "execution_count": 284,
   "id": "68902c23-7dfd-4d8f-a4e8-349b2714d724",
   "metadata": {},
   "outputs": [],
   "source": [
    "my_tuple = (1, 2, 3)"
   ]
  },
  {
   "cell_type": "code",
   "execution_count": 286,
   "id": "e57d2d4f-5656-44f6-b4d5-b9e8dd18d435",
   "metadata": {},
   "outputs": [
    {
     "data": {
      "text/plain": [
       "tuple"
      ]
     },
     "execution_count": 286,
     "metadata": {},
     "output_type": "execute_result"
    }
   ],
   "source": [
    "type(my_tuple)"
   ]
  },
  {
   "cell_type": "code",
   "execution_count": 288,
   "id": "688ff9ec-e1f1-41ed-be99-44b087fc6c6a",
   "metadata": {},
   "outputs": [],
   "source": [
    "my_list=list(my_tuple)"
   ]
  },
  {
   "cell_type": "code",
   "execution_count": 290,
   "id": "96bf27af-156c-46d9-941c-ae504b49a109",
   "metadata": {},
   "outputs": [
    {
     "data": {
      "text/plain": [
       "[1, 2, 3]"
      ]
     },
     "execution_count": 290,
     "metadata": {},
     "output_type": "execute_result"
    }
   ],
   "source": [
    "my_list"
   ]
  },
  {
   "cell_type": "code",
   "execution_count": 292,
   "id": "8fdb7e7c-f422-438d-a232-de11a6d044d9",
   "metadata": {},
   "outputs": [],
   "source": [
    "list1 = [1, 2]\n",
    "list2 = [3, 4]\n"
   ]
  },
  {
   "cell_type": "code",
   "execution_count": 294,
   "id": "5ff419ca-7520-4361-bd5e-d39630e34cc7",
   "metadata": {},
   "outputs": [
    {
     "data": {
      "text/plain": [
       "[1, 2, 3, 4]"
      ]
     },
     "execution_count": 294,
     "metadata": {},
     "output_type": "execute_result"
    }
   ],
   "source": [
    "list1 + list2"
   ]
  },
  {
   "cell_type": "code",
   "execution_count": 296,
   "id": "2e2967d6-6f24-484b-8989-54fc9a4640cb",
   "metadata": {},
   "outputs": [],
   "source": [
    "my_list=[1,2,3,4,5]"
   ]
  },
  {
   "cell_type": "code",
   "execution_count": 304,
   "id": "7211e2db-3c2a-4272-86f5-07d8f8170e85",
   "metadata": {},
   "outputs": [],
   "source": [
    "my_list+=[6,7,8] #Extend"
   ]
  },
  {
   "cell_type": "code",
   "execution_count": 306,
   "id": "008033de-ddf2-4bd9-ba82-4c2436a17feb",
   "metadata": {},
   "outputs": [
    {
     "data": {
      "text/plain": [
       "[1, 2, 3, 4, 5, 6, 6, 7, 8]"
      ]
     },
     "execution_count": 306,
     "metadata": {},
     "output_type": "execute_result"
    }
   ],
   "source": [
    "my_list"
   ]
  },
  {
   "cell_type": "code",
   "execution_count": 308,
   "id": "ed95a5b9-8e43-4075-b6da-3fac1746b386",
   "metadata": {},
   "outputs": [],
   "source": [
    "my_list+=[8,9,10] #[1, 2, 3, 4, 5, 6, 6, 7, 8,8,9,10]"
   ]
  },
  {
   "cell_type": "code",
   "execution_count": 310,
   "id": "d3c1a536-78e3-42b8-9e5d-5371158b8b6d",
   "metadata": {},
   "outputs": [
    {
     "data": {
      "text/plain": [
       "[1, 2, 3, 4, 5, 6, 6, 7, 8, 8, 9, 10]"
      ]
     },
     "execution_count": 310,
     "metadata": {},
     "output_type": "execute_result"
    }
   ],
   "source": [
    "my_list"
   ]
  },
  {
   "cell_type": "code",
   "execution_count": 312,
   "id": "bd902ede-a19b-4d88-a145-070976a69b99",
   "metadata": {},
   "outputs": [],
   "source": [
    "my_list=[1,2,3,4,5]"
   ]
  },
  {
   "cell_type": "code",
   "execution_count": 314,
   "id": "4be91738-6956-4424-9b58-d0f3dc6424eb",
   "metadata": {},
   "outputs": [],
   "source": [
    "my_list+=[6]"
   ]
  },
  {
   "cell_type": "code",
   "execution_count": 316,
   "id": "bbe28164-cf0b-44f2-a3c5-3c9fb7572761",
   "metadata": {},
   "outputs": [
    {
     "data": {
      "text/plain": [
       "[1, 2, 3, 4, 5, 6]"
      ]
     },
     "execution_count": 316,
     "metadata": {},
     "output_type": "execute_result"
    }
   ],
   "source": [
    "my_list"
   ]
  },
  {
   "cell_type": "code",
   "execution_count": 318,
   "id": "039df3de-2f8b-45c3-8468-b6b1ae158255",
   "metadata": {},
   "outputs": [],
   "source": [
    "my_list+=[6,7,8]"
   ]
  },
  {
   "cell_type": "code",
   "execution_count": 320,
   "id": "e49e21a9-7528-4154-af58-95dec19eddc9",
   "metadata": {},
   "outputs": [
    {
     "data": {
      "text/plain": [
       "[1, 2, 3, 4, 5, 6, 6, 7, 8]"
      ]
     },
     "execution_count": 320,
     "metadata": {},
     "output_type": "execute_result"
    }
   ],
   "source": [
    "my_list"
   ]
  },
  {
   "cell_type": "code",
   "execution_count": 326,
   "id": "883d0c00-a07e-4752-8618-fa1756bdf458",
   "metadata": {},
   "outputs": [],
   "source": [
    "my_list=[1,2,3]\n",
    "new_list=[1,2,3]"
   ]
  },
  {
   "cell_type": "code",
   "execution_count": 328,
   "id": "15c2e241-660d-44fa-937f-53c7048edd88",
   "metadata": {},
   "outputs": [
    {
     "data": {
      "text/plain": [
       "True"
      ]
     },
     "execution_count": 328,
     "metadata": {},
     "output_type": "execute_result"
    }
   ],
   "source": [
    "my_list==new_list"
   ]
  },
  {
   "cell_type": "code",
   "execution_count": 330,
   "id": "047e1e91-808d-41db-97a3-b456fdf32aa0",
   "metadata": {},
   "outputs": [
    {
     "data": {
      "text/plain": [
       "False"
      ]
     },
     "execution_count": 330,
     "metadata": {},
     "output_type": "execute_result"
    }
   ],
   "source": [
    "my_list!=new_list"
   ]
  },
  {
   "cell_type": "code",
   "execution_count": 332,
   "id": "950b8819-d852-48fb-9276-fb63caad134a",
   "metadata": {},
   "outputs": [],
   "source": [
    "my_list=[1,2,3]\n",
    "new_list=[1,2,3]"
   ]
  },
  {
   "cell_type": "code",
   "execution_count": 334,
   "id": "314e793a-35e1-4c9a-8908-60976ffc909d",
   "metadata": {},
   "outputs": [
    {
     "data": {
      "text/plain": [
       "False"
      ]
     },
     "execution_count": 334,
     "metadata": {},
     "output_type": "execute_result"
    }
   ],
   "source": [
    "my_list is new_list"
   ]
  },
  {
   "cell_type": "code",
   "execution_count": 336,
   "id": "7ed88f39-79ad-4742-8d00-c06fd92c5586",
   "metadata": {},
   "outputs": [
    {
     "data": {
      "text/plain": [
       "2010458204544"
      ]
     },
     "execution_count": 336,
     "metadata": {},
     "output_type": "execute_result"
    }
   ],
   "source": [
    "id(my_list)"
   ]
  },
  {
   "cell_type": "code",
   "execution_count": 338,
   "id": "05c647a4-8ea6-42b0-9329-8b5b90610ccd",
   "metadata": {},
   "outputs": [
    {
     "data": {
      "text/plain": [
       "2010458205504"
      ]
     },
     "execution_count": 338,
     "metadata": {},
     "output_type": "execute_result"
    }
   ],
   "source": [
    "id(new_list)"
   ]
  },
  {
   "cell_type": "code",
   "execution_count": 350,
   "id": "11178c17-cad3-4b29-bcd2-42ab8008e4a0",
   "metadata": {},
   "outputs": [],
   "source": [
    "my_list=[1,2,3]\n",
    "new_list=[1,2,3,4,'a']"
   ]
  },
  {
   "cell_type": "code",
   "execution_count": 342,
   "id": "652e091d-1905-458f-a92b-9356301dd530",
   "metadata": {},
   "outputs": [
    {
     "data": {
      "text/plain": [
       "False"
      ]
     },
     "execution_count": 342,
     "metadata": {},
     "output_type": "execute_result"
    }
   ],
   "source": [
    "my_list==new_list"
   ]
  },
  {
   "cell_type": "code",
   "execution_count": 344,
   "id": "0f376a00-31c9-4f5c-9523-adb5b6a1266a",
   "metadata": {},
   "outputs": [
    {
     "data": {
      "text/plain": [
       "True"
      ]
     },
     "execution_count": 344,
     "metadata": {},
     "output_type": "execute_result"
    }
   ],
   "source": [
    "my_list!=new_list\n"
   ]
  },
  {
   "cell_type": "code",
   "execution_count": 352,
   "id": "c699d6d7-695f-4caf-aa13-c676f56ae522",
   "metadata": {},
   "outputs": [
    {
     "data": {
      "text/plain": [
       "True"
      ]
     },
     "execution_count": 352,
     "metadata": {},
     "output_type": "execute_result"
    }
   ],
   "source": [
    "bool(my_list or new_list)"
   ]
  },
  {
   "cell_type": "code",
   "execution_count": 354,
   "id": "0feb14d5-06aa-4e8c-a435-d67d1403f3c3",
   "metadata": {},
   "outputs": [
    {
     "data": {
      "text/plain": [
       "True"
      ]
     },
     "execution_count": 354,
     "metadata": {},
     "output_type": "execute_result"
    }
   ],
   "source": [
    "bool(my_list and new_list)"
   ]
  },
  {
   "cell_type": "code",
   "execution_count": 372,
   "id": "2bb4966f-91e5-4368-9c74-939ba6b1b89d",
   "metadata": {},
   "outputs": [],
   "source": [
    "a = [1]\n",
    "b = [2]\n"
   ]
  },
  {
   "cell_type": "code",
   "execution_count": 374,
   "id": "e6f672a6-3322-4294-ac7c-24bfd623f0ae",
   "metadata": {},
   "outputs": [
    {
     "data": {
      "text/plain": [
       "True"
      ]
     },
     "execution_count": 374,
     "metadata": {},
     "output_type": "execute_result"
    }
   ],
   "source": [
    "bool(a and b)"
   ]
  },
  {
   "cell_type": "code",
   "execution_count": 376,
   "id": "faea4c02-14f6-4ac6-acf7-dc59f1c8e7a9",
   "metadata": {},
   "outputs": [],
   "source": [
    "a = [1]\n",
    "b = []"
   ]
  },
  {
   "cell_type": "code",
   "execution_count": 378,
   "id": "eb6cabf7-8138-4b2f-ae2c-99419fbf8751",
   "metadata": {},
   "outputs": [
    {
     "data": {
      "text/plain": [
       "True"
      ]
     },
     "execution_count": 378,
     "metadata": {},
     "output_type": "execute_result"
    }
   ],
   "source": [
    "bool(a or b)"
   ]
  },
  {
   "cell_type": "code",
   "execution_count": 380,
   "id": "d585d53d-1500-4a38-90ab-fe1e5c8d3029",
   "metadata": {},
   "outputs": [],
   "source": [
    "new_list=[1,2,3,4,'a']"
   ]
  },
  {
   "cell_type": "code",
   "execution_count": 382,
   "id": "3a8132a5-bacb-4df3-b043-9e98937d5477",
   "metadata": {},
   "outputs": [
    {
     "data": {
      "text/plain": [
       "True"
      ]
     },
     "execution_count": 382,
     "metadata": {},
     "output_type": "execute_result"
    }
   ],
   "source": [
    "2 in new_list"
   ]
  },
  {
   "cell_type": "code",
   "execution_count": 384,
   "id": "add7df7d-7c30-4099-b1e6-d16ae6b21d00",
   "metadata": {},
   "outputs": [
    {
     "data": {
      "text/plain": [
       "False"
      ]
     },
     "execution_count": 384,
     "metadata": {},
     "output_type": "execute_result"
    }
   ],
   "source": [
    "2 not in new_list"
   ]
  },
  {
   "cell_type": "code",
   "execution_count": 386,
   "id": "a78e0d1e-1947-4d78-98a9-de37f4835364",
   "metadata": {},
   "outputs": [],
   "source": [
    "new_list=[1,2,3,4,'a']"
   ]
  },
  {
   "cell_type": "code",
   "execution_count": 388,
   "id": "2a18218a-3a42-4dec-b37d-20b803a9ce58",
   "metadata": {},
   "outputs": [],
   "source": [
    "my_list=new_list"
   ]
  },
  {
   "cell_type": "code",
   "execution_count": 390,
   "id": "2525cafe-9985-44e3-8d02-2d3851a0e970",
   "metadata": {},
   "outputs": [
    {
     "data": {
      "text/plain": [
       "True"
      ]
     },
     "execution_count": 390,
     "metadata": {},
     "output_type": "execute_result"
    }
   ],
   "source": [
    "my_list is new_list"
   ]
  },
  {
   "cell_type": "code",
   "execution_count": 392,
   "id": "bb9ba2c3-256a-45c4-8118-373d497d05e6",
   "metadata": {},
   "outputs": [
    {
     "data": {
      "text/plain": [
       "2010458652736"
      ]
     },
     "execution_count": 392,
     "metadata": {},
     "output_type": "execute_result"
    }
   ],
   "source": [
    "id(new_list)"
   ]
  },
  {
   "cell_type": "code",
   "execution_count": 394,
   "id": "3420202a-429d-412d-bf3f-d06c10c6a4c4",
   "metadata": {},
   "outputs": [
    {
     "data": {
      "text/plain": [
       "2010458652736"
      ]
     },
     "execution_count": 394,
     "metadata": {},
     "output_type": "execute_result"
    }
   ],
   "source": [
    "id(my_list)"
   ]
  },
  {
   "cell_type": "code",
   "execution_count": 396,
   "id": "3b6326db-2aba-4452-b27f-5a57181c2432",
   "metadata": {},
   "outputs": [
    {
     "data": {
      "text/plain": [
       "[1, 2, 3, 4, 'a']"
      ]
     },
     "execution_count": 396,
     "metadata": {},
     "output_type": "execute_result"
    }
   ],
   "source": [
    "my_list"
   ]
  },
  {
   "cell_type": "code",
   "execution_count": 398,
   "id": "d38dedc1-6c44-47c2-b0de-833a813a6c88",
   "metadata": {},
   "outputs": [
    {
     "data": {
      "text/plain": [
       "'\\nFrom highest to lowest precedence (for data structures):\\n1.\\tParentheses () (highest)\\n2.\\tSubscription x[i], Slicing x[i:j]\\n3.\\tAttribute reference x.attribute\\n4.\\tExponentiation **\\n5.\\tBitwise NOT ~x\\n6.\\tUnary + and - +x, -x\\n7.\\tMultiplication *, Division /, Floor division //, Modulus %\\n8.\\tAddition +, Subtraction -\\n9.\\tBitwise shifts <<, >>\\n10.\\tBitwise AND &\\n11.\\tBitwise XOR ^\\n12.\\tBitwise OR |\\n13.\\tComparisons in, not in, is, is not, <, <=, >, >=, !=, ==\\n14.\\tBoolean NOT not\\n15.\\tBoolean AND and\\n16.\\tBoolean OR or\\n17.\\tConditional expression if-else (lowest)\\n'"
      ]
     },
     "execution_count": 398,
     "metadata": {},
     "output_type": "execute_result"
    }
   ],
   "source": [
    "'''\n",
    "From highest to lowest precedence (for data structures):\n",
    "1.\tParentheses () (highest)\n",
    "2.\tSubscription x[i], Slicing x[i:j]\n",
    "3.\tAttribute reference x.attribute\n",
    "4.\tExponentiation **\n",
    "5.\tBitwise NOT ~x\n",
    "6.\tUnary + and - +x, -x\n",
    "7.\tMultiplication *, Division /, Floor division //, Modulus %\n",
    "8.\tAddition +, Subtraction -\n",
    "9.\tBitwise shifts <<, >>\n",
    "10.\tBitwise AND &\n",
    "11.\tBitwise XOR ^\n",
    "12.\tBitwise OR |\n",
    "13.\tComparisons in, not in, is, is not, <, <=, >, >=, !=, ==\n",
    "14.\tBoolean NOT not\n",
    "15.\tBoolean AND and\n",
    "16.\tBoolean OR or\n",
    "17.\tConditional expression if-else (lowest)\n",
    "'''"
   ]
  },
  {
   "cell_type": "code",
   "execution_count": 400,
   "id": "3a100f2a-a5ef-4491-bc9a-9863e0c11bfa",
   "metadata": {},
   "outputs": [
    {
     "data": {
      "text/plain": [
       "[1, 2, 3, 3]"
      ]
     },
     "execution_count": 400,
     "metadata": {},
     "output_type": "execute_result"
    }
   ],
   "source": [
    "[1, 2] + [3] * 2 #[1,2,3,3]"
   ]
  },
  {
   "cell_type": "code",
   "execution_count": 402,
   "id": "c2d0697b-30c1-410d-827e-6b59b77562b7",
   "metadata": {},
   "outputs": [
    {
     "data": {
      "text/plain": [
       "[1, 2, 3, 3]"
      ]
     },
     "execution_count": 402,
     "metadata": {},
     "output_type": "execute_result"
    }
   ],
   "source": [
    "[1,2] + ([3] * 2) #9  #[1,2,3,3]"
   ]
  },
  {
   "cell_type": "code",
   "execution_count": 404,
   "id": "9cd2595b-cb54-461a-bef6-dc93c2f019ef",
   "metadata": {},
   "outputs": [
    {
     "data": {
      "text/plain": [
       "9"
      ]
     },
     "execution_count": 404,
     "metadata": {},
     "output_type": "execute_result"
    }
   ],
   "source": [
    "3**2"
   ]
  },
  {
   "cell_type": "code",
   "execution_count": 406,
   "id": "709cc785-4ba2-45dc-8ba8-a8f3ddef830b",
   "metadata": {},
   "outputs": [
    {
     "data": {
      "text/plain": [
       "6"
      ]
     },
     "execution_count": 406,
     "metadata": {},
     "output_type": "execute_result"
    }
   ],
   "source": [
    "3*2"
   ]
  },
  {
   "cell_type": "code",
   "execution_count": 408,
   "id": "7aa87148-b33c-4520-b7b9-d5eb6443d35a",
   "metadata": {},
   "outputs": [],
   "source": [
    "nums = [1, 2, 3]"
   ]
  },
  {
   "cell_type": "code",
   "execution_count": 410,
   "id": "3af6b377-01a6-4ee5-a8d3-175bb0917bff",
   "metadata": {},
   "outputs": [
    {
     "data": {
      "text/plain": [
       "True"
      ]
     },
     "execution_count": 410,
     "metadata": {},
     "output_type": "execute_result"
    }
   ],
   "source": [
    "4 not in nums"
   ]
  },
  {
   "cell_type": "code",
   "execution_count": 412,
   "id": "8e281fd9-5b2f-441c-ba06-fd373a10e15e",
   "metadata": {},
   "outputs": [
    {
     "data": {
      "text/plain": [
       "False"
      ]
     },
     "execution_count": 412,
     "metadata": {},
     "output_type": "execute_result"
    }
   ],
   "source": [
    "4 in nums"
   ]
  },
  {
   "cell_type": "code",
   "execution_count": 414,
   "id": "f9a5342f-4fe2-4cf8-9043-6982048bd531",
   "metadata": {},
   "outputs": [
    {
     "data": {
      "text/plain": [
       "True"
      ]
     },
     "execution_count": 414,
     "metadata": {},
     "output_type": "execute_result"
    }
   ],
   "source": [
    "not 4 in nums"
   ]
  },
  {
   "cell_type": "code",
   "execution_count": 416,
   "id": "047c961e-832a-4618-b974-0849fba580cb",
   "metadata": {},
   "outputs": [
    {
     "data": {
      "text/plain": [
       "True"
      ]
     },
     "execution_count": 416,
     "metadata": {},
     "output_type": "execute_result"
    }
   ],
   "source": [
    "1 in nums"
   ]
  },
  {
   "cell_type": "code",
   "execution_count": 418,
   "id": "256342f1-ef22-400d-b009-b9c8088285c1",
   "metadata": {},
   "outputs": [
    {
     "data": {
      "text/plain": [
       "False"
      ]
     },
     "execution_count": 418,
     "metadata": {},
     "output_type": "execute_result"
    }
   ],
   "source": [
    "1 not in nums"
   ]
  },
  {
   "cell_type": "code",
   "execution_count": 420,
   "id": "29122478-ec42-4b45-82bc-4e255f87e91c",
   "metadata": {},
   "outputs": [
    {
     "data": {
      "text/plain": [
       "False"
      ]
     },
     "execution_count": 420,
     "metadata": {},
     "output_type": "execute_result"
    }
   ],
   "source": [
    "not 1 in nums"
   ]
  },
  {
   "cell_type": "code",
   "execution_count": 440,
   "id": "aea277a0-40fd-49cc-a609-7128006f1de1",
   "metadata": {},
   "outputs": [],
   "source": [
    "nums_list = [1, 2, 3]"
   ]
  },
  {
   "cell_type": "code",
   "execution_count": 442,
   "id": "0102f45a-aecd-4352-946d-544108af0f52",
   "metadata": {},
   "outputs": [
    {
     "data": {
      "text/plain": [
       "list"
      ]
     },
     "execution_count": 442,
     "metadata": {},
     "output_type": "execute_result"
    }
   ],
   "source": [
    "type(nums_list)"
   ]
  },
  {
   "cell_type": "code",
   "execution_count": 444,
   "id": "3063f59b-95c7-4411-9561-b6c6d54e870a",
   "metadata": {},
   "outputs": [],
   "source": [
    "tup_nums=tuple(nums_list)"
   ]
  },
  {
   "cell_type": "code",
   "execution_count": 446,
   "id": "502da49f-cb36-4dd8-9623-8c5485dad8fc",
   "metadata": {},
   "outputs": [
    {
     "data": {
      "text/plain": [
       "tuple"
      ]
     },
     "execution_count": 446,
     "metadata": {},
     "output_type": "execute_result"
    }
   ],
   "source": [
    "type(tup_nums)"
   ]
  },
  {
   "cell_type": "code",
   "execution_count": 448,
   "id": "88abaf88-0905-4259-bdfd-d47773cafc4b",
   "metadata": {},
   "outputs": [
    {
     "data": {
      "text/plain": [
       "(1, 2, 3)"
      ]
     },
     "execution_count": 448,
     "metadata": {},
     "output_type": "execute_result"
    }
   ],
   "source": [
    "tup_nums"
   ]
  },
  {
   "cell_type": "code",
   "execution_count": 450,
   "id": "794c7b61-7d4b-4b49-b09a-903b68206d49",
   "metadata": {},
   "outputs": [
    {
     "data": {
      "text/plain": [
       "(1, 2, 3, 1, 2, 3)"
      ]
     },
     "execution_count": 450,
     "metadata": {},
     "output_type": "execute_result"
    }
   ],
   "source": [
    "tup_nums * 2"
   ]
  },
  {
   "cell_type": "code",
   "execution_count": 452,
   "id": "cf3ac775-5f1c-4530-a0e0-42db8084382f",
   "metadata": {},
   "outputs": [],
   "source": [
    "tup_nums=(1, 2, 3)"
   ]
  },
  {
   "cell_type": "code",
   "execution_count": 454,
   "id": "663f0e84-1e10-4ee2-8240-b3e5a1204ffc",
   "metadata": {},
   "outputs": [],
   "source": [
    "tup_nums_2=(1, 2, 3, 1, 2, 3)"
   ]
  },
  {
   "cell_type": "code",
   "execution_count": 456,
   "id": "35f8f9ea-65d9-4c41-8cd9-a7526dc9caf7",
   "metadata": {},
   "outputs": [
    {
     "data": {
      "text/plain": [
       "False"
      ]
     },
     "execution_count": 456,
     "metadata": {},
     "output_type": "execute_result"
    }
   ],
   "source": [
    "tup_nums==tup_nums_2"
   ]
  },
  {
   "cell_type": "code",
   "execution_count": 458,
   "id": "839a47e2-2094-4729-8078-c96f65b5667e",
   "metadata": {},
   "outputs": [],
   "source": [
    "tup_nums=(1, 2, 3)\n",
    "tup_nums_2=(1,2,3)"
   ]
  },
  {
   "cell_type": "code",
   "execution_count": 460,
   "id": "f3429fd5-f498-49d1-934d-8a41878f6b67",
   "metadata": {},
   "outputs": [
    {
     "data": {
      "text/plain": [
       "True"
      ]
     },
     "execution_count": 460,
     "metadata": {},
     "output_type": "execute_result"
    }
   ],
   "source": [
    "tup_nums==tup_nums_2"
   ]
  },
  {
   "cell_type": "code",
   "execution_count": 462,
   "id": "d9d87e4a-66f4-48e9-b2bf-2235945dd024",
   "metadata": {},
   "outputs": [
    {
     "data": {
      "text/plain": [
       "True"
      ]
     },
     "execution_count": 462,
     "metadata": {},
     "output_type": "execute_result"
    }
   ],
   "source": [
    "bool(tup_nums and tup_nums_2)"
   ]
  },
  {
   "cell_type": "code",
   "execution_count": 476,
   "id": "365fde4c-196a-45b6-8f72-13a88070a8e1",
   "metadata": {},
   "outputs": [],
   "source": [
    "tup_nums=(1, 2, 3)\n",
    "tup_nums_2=()"
   ]
  },
  {
   "cell_type": "code",
   "execution_count": 472,
   "id": "cf370f3d-c5ee-49b7-b1e3-aae6bfcfc797",
   "metadata": {},
   "outputs": [
    {
     "data": {
      "text/plain": [
       "tuple"
      ]
     },
     "execution_count": 472,
     "metadata": {},
     "output_type": "execute_result"
    }
   ],
   "source": [
    "type(tup_nums_2)"
   ]
  },
  {
   "cell_type": "code",
   "execution_count": 474,
   "id": "baf3baaa-e1e4-44d2-a4a7-dd7a6542e662",
   "metadata": {},
   "outputs": [
    {
     "data": {
      "text/plain": [
       "False"
      ]
     },
     "execution_count": 474,
     "metadata": {},
     "output_type": "execute_result"
    }
   ],
   "source": [
    "bool(tup_nums and tup_nums_2)"
   ]
  },
  {
   "cell_type": "code",
   "execution_count": 478,
   "id": "45147a2f-d902-4489-b4cd-06ba35d4381b",
   "metadata": {},
   "outputs": [
    {
     "data": {
      "text/plain": [
       "False"
      ]
     },
     "execution_count": 478,
     "metadata": {},
     "output_type": "execute_result"
    }
   ],
   "source": [
    "tup_nums is tup_nums_2"
   ]
  },
  {
   "cell_type": "code",
   "execution_count": 480,
   "id": "fc402673-bc93-4dd4-bf25-f51fa401c2e2",
   "metadata": {},
   "outputs": [],
   "source": [
    "tup_nums=(1, 2, 3)\n",
    "new_tup=tup_nums"
   ]
  },
  {
   "cell_type": "code",
   "execution_count": 484,
   "id": "45523622-de45-4b58-b38c-b250451003c2",
   "metadata": {},
   "outputs": [
    {
     "data": {
      "text/plain": [
       "True"
      ]
     },
     "execution_count": 484,
     "metadata": {},
     "output_type": "execute_result"
    }
   ],
   "source": [
    "tup_nums is new_tup"
   ]
  },
  {
   "cell_type": "code",
   "execution_count": 486,
   "id": "0b3763ef-867b-43a0-8d68-01dde44e83cb",
   "metadata": {},
   "outputs": [
    {
     "data": {
      "text/plain": [
       "2010421076544"
      ]
     },
     "execution_count": 486,
     "metadata": {},
     "output_type": "execute_result"
    }
   ],
   "source": [
    "id(tup_nums)"
   ]
  },
  {
   "cell_type": "code",
   "execution_count": 488,
   "id": "d8a6c2f5-6d90-4413-a66d-39634b4069b5",
   "metadata": {},
   "outputs": [
    {
     "data": {
      "text/plain": [
       "2010421076544"
      ]
     },
     "execution_count": 488,
     "metadata": {},
     "output_type": "execute_result"
    }
   ],
   "source": [
    "id(new_tup)"
   ]
  },
  {
   "cell_type": "code",
   "execution_count": 490,
   "id": "30c77f24-2d6b-49c6-bcbb-64414859b1a7",
   "metadata": {},
   "outputs": [],
   "source": [
    "tup_nums=(1, 2, 3)"
   ]
  },
  {
   "cell_type": "code",
   "execution_count": 492,
   "id": "51bb2d26-f166-41b7-907f-92e082b8ddfe",
   "metadata": {},
   "outputs": [],
   "source": [
    "tup_nums+=(1,)"
   ]
  },
  {
   "cell_type": "code",
   "execution_count": 494,
   "id": "34148404-0203-4dc1-9df0-4c381b27c4d2",
   "metadata": {},
   "outputs": [
    {
     "data": {
      "text/plain": [
       "(1, 2, 3, 1)"
      ]
     },
     "execution_count": 494,
     "metadata": {},
     "output_type": "execute_result"
    }
   ],
   "source": [
    "tup_nums"
   ]
  },
  {
   "cell_type": "code",
   "execution_count": 496,
   "id": "a79362cd-ad87-4052-b1a7-e151058f9350",
   "metadata": {},
   "outputs": [
    {
     "data": {
      "text/plain": [
       "True"
      ]
     },
     "execution_count": 496,
     "metadata": {},
     "output_type": "execute_result"
    }
   ],
   "source": [
    "2 in tup_nums"
   ]
  },
  {
   "cell_type": "code",
   "execution_count": 498,
   "id": "5486577a-8b69-42fb-8838-a7f10f882504",
   "metadata": {},
   "outputs": [
    {
     "data": {
      "text/plain": [
       "False"
      ]
     },
     "execution_count": 498,
     "metadata": {},
     "output_type": "execute_result"
    }
   ],
   "source": [
    "2 not in tup_nums"
   ]
  },
  {
   "cell_type": "code",
   "execution_count": 500,
   "id": "e6ac3470-7622-4322-bacb-b31c80a77eb1",
   "metadata": {},
   "outputs": [
    {
     "data": {
      "text/plain": [
       "False"
      ]
     },
     "execution_count": 500,
     "metadata": {},
     "output_type": "execute_result"
    }
   ],
   "source": [
    "not 2 in tup_nums"
   ]
  },
  {
   "cell_type": "code",
   "execution_count": 504,
   "id": "faec7627-5ffd-4f51-aa42-8214801a8f73",
   "metadata": {},
   "outputs": [],
   "source": [
    "#Dictionary"
   ]
  },
  {
   "cell_type": "code",
   "execution_count": 506,
   "id": "d3ef2c83-77ba-4271-be46-a4ffbc121360",
   "metadata": {},
   "outputs": [],
   "source": [
    "pairs = [(\"a\", 1), (\"b\", 2)]"
   ]
  },
  {
   "cell_type": "code",
   "execution_count": 508,
   "id": "6e184b2d-83bd-4f7a-a833-3768eaa1d44e",
   "metadata": {},
   "outputs": [],
   "source": [
    "pair_dict=dict(pairs)"
   ]
  },
  {
   "cell_type": "code",
   "execution_count": 510,
   "id": "b41c270d-42bf-4700-8b5d-c8fceb39db72",
   "metadata": {},
   "outputs": [
    {
     "data": {
      "text/plain": [
       "{'a': 1, 'b': 2}"
      ]
     },
     "execution_count": 510,
     "metadata": {},
     "output_type": "execute_result"
    }
   ],
   "source": [
    "pair_dict"
   ]
  },
  {
   "cell_type": "code",
   "execution_count": 512,
   "id": "7dd0ffb7-c1f3-4e86-90a5-9cce83129c79",
   "metadata": {},
   "outputs": [
    {
     "data": {
      "text/plain": [
       "dict"
      ]
     },
     "execution_count": 512,
     "metadata": {},
     "output_type": "execute_result"
    }
   ],
   "source": [
    "type(pair_dict)"
   ]
  },
  {
   "cell_type": "code",
   "execution_count": 516,
   "id": "896f804b-a34f-4312-bd87-35e91506754a",
   "metadata": {},
   "outputs": [],
   "source": [
    "pair_dict={'a': 1, 'b': 2}\n",
    "new_paired_dict={'a': 1, 'b': 2}"
   ]
  },
  {
   "cell_type": "code",
   "execution_count": 518,
   "id": "46f76ece-a63a-43c5-95c2-dda6ba0d770d",
   "metadata": {},
   "outputs": [
    {
     "data": {
      "text/plain": [
       "True"
      ]
     },
     "execution_count": 518,
     "metadata": {},
     "output_type": "execute_result"
    }
   ],
   "source": [
    "pair_dict==new_paired_dict"
   ]
  },
  {
   "cell_type": "code",
   "execution_count": 520,
   "id": "1b7eb9d9-a6dc-4423-ac69-be5954bc926f",
   "metadata": {},
   "outputs": [
    {
     "data": {
      "text/plain": [
       "True"
      ]
     },
     "execution_count": 520,
     "metadata": {},
     "output_type": "execute_result"
    }
   ],
   "source": [
    "'a' in pair_dict"
   ]
  },
  {
   "cell_type": "code",
   "execution_count": 522,
   "id": "1cd7fd35-f012-475f-90b4-724807b0b8e1",
   "metadata": {},
   "outputs": [
    {
     "data": {
      "text/plain": [
       "False"
      ]
     },
     "execution_count": 522,
     "metadata": {},
     "output_type": "execute_result"
    }
   ],
   "source": [
    "2 in pair_dict"
   ]
  },
  {
   "cell_type": "code",
   "execution_count": 526,
   "id": "73d17de3-f895-4d36-9343-c89118537845",
   "metadata": {},
   "outputs": [
    {
     "data": {
      "text/plain": [
       "True"
      ]
     },
     "execution_count": 526,
     "metadata": {},
     "output_type": "execute_result"
    }
   ],
   "source": [
    "2 in pair_dict.values()\n"
   ]
  },
  {
   "cell_type": "code",
   "execution_count": 528,
   "id": "c1459602-8ce3-4fda-b683-b173a0fa8de2",
   "metadata": {},
   "outputs": [],
   "source": [
    "pair_dict={'a': 1, 'b': '2'}"
   ]
  },
  {
   "cell_type": "code",
   "execution_count": 530,
   "id": "849385e1-46e7-4a3d-b6fa-93992ee99042",
   "metadata": {},
   "outputs": [
    {
     "data": {
      "text/plain": [
       "False"
      ]
     },
     "execution_count": 530,
     "metadata": {},
     "output_type": "execute_result"
    }
   ],
   "source": [
    "2 in pair_dict.values()"
   ]
  },
  {
   "cell_type": "code",
   "execution_count": 532,
   "id": "fb715d49-320c-4961-b90d-7ede391e1548",
   "metadata": {},
   "outputs": [],
   "source": [
    "pair_dict={'a': 1, 'b': 2}\n",
    "new_paired_dict={'a': 1, 'b': 2}"
   ]
  },
  {
   "cell_type": "code",
   "execution_count": 534,
   "id": "12858360-7654-4363-ab19-d8da774b3ca8",
   "metadata": {},
   "outputs": [
    {
     "ename": "TypeError",
     "evalue": "unsupported operand type(s) for +=: 'dict' and 'set'",
     "output_type": "error",
     "traceback": [
      "\u001b[1;31m---------------------------------------------------------------------------\u001b[0m",
      "\u001b[1;31mTypeError\u001b[0m                                 Traceback (most recent call last)",
      "Cell \u001b[1;32mIn[534], line 1\u001b[0m\n\u001b[1;32m----> 1\u001b[0m pair_dict\u001b[38;5;241m+\u001b[39m\u001b[38;5;241m=\u001b[39m{\u001b[38;5;241m1\u001b[39m}\n",
      "\u001b[1;31mTypeError\u001b[0m: unsupported operand type(s) for +=: 'dict' and 'set'"
     ]
    }
   ],
   "source": [
    "pair_dict+={1} #{'a':1,'b':2,"
   ]
  },
  {
   "cell_type": "code",
   "execution_count": 536,
   "id": "e37fcffa-555c-43de-bec0-09cf021cbb7a",
   "metadata": {},
   "outputs": [],
   "source": [
    "pair_dict['c']=3"
   ]
  },
  {
   "cell_type": "code",
   "execution_count": 538,
   "id": "ea8c96ff-1d36-46dd-9033-5dd319591abf",
   "metadata": {},
   "outputs": [
    {
     "data": {
      "text/plain": [
       "{'a': 1, 'b': 2, 'c': 3}"
      ]
     },
     "execution_count": 538,
     "metadata": {},
     "output_type": "execute_result"
    }
   ],
   "source": [
    "pair_dict"
   ]
  },
  {
   "cell_type": "code",
   "execution_count": 540,
   "id": "26a7ac18-6222-4ab5-8e45-3b883d14ab0c",
   "metadata": {},
   "outputs": [],
   "source": [
    "pair_dict['c']=5"
   ]
  },
  {
   "cell_type": "code",
   "execution_count": 542,
   "id": "ca5ec57d-1667-4918-8ca7-b8f10b090438",
   "metadata": {},
   "outputs": [
    {
     "data": {
      "text/plain": [
       "{'a': 1, 'b': 2, 'c': 5}"
      ]
     },
     "execution_count": 542,
     "metadata": {},
     "output_type": "execute_result"
    }
   ],
   "source": [
    "pair_dict"
   ]
  },
  {
   "cell_type": "code",
   "execution_count": 544,
   "id": "cc574a68-ae1c-436d-85f4-1da1403def3c",
   "metadata": {},
   "outputs": [],
   "source": [
    "pair_dict={'a': 1, 'b': 2}\n",
    "new_paired_dict=pair_dict"
   ]
  },
  {
   "cell_type": "code",
   "execution_count": 546,
   "id": "c68194f2-79b4-4886-adc8-d895e5a645d1",
   "metadata": {},
   "outputs": [
    {
     "data": {
      "text/plain": [
       "True"
      ]
     },
     "execution_count": 546,
     "metadata": {},
     "output_type": "execute_result"
    }
   ],
   "source": [
    "pair_dict is  new_paired_dict "
   ]
  },
  {
   "cell_type": "code",
   "execution_count": 556,
   "id": "d9bc1798-f175-4785-ba99-4332831123eb",
   "metadata": {},
   "outputs": [],
   "source": [
    "sample_list=[1,2,3,'a']"
   ]
  },
  {
   "cell_type": "code",
   "execution_count": 558,
   "id": "40dc0aee-68de-4521-b110-b116055eef56",
   "metadata": {},
   "outputs": [],
   "source": [
    "sample_list +=[1]"
   ]
  },
  {
   "cell_type": "code",
   "execution_count": 560,
   "id": "d598a210-cc39-4e57-8625-5f68a9f05581",
   "metadata": {},
   "outputs": [
    {
     "data": {
      "text/plain": [
       "[1, 2, 3, 'a', 1]"
      ]
     },
     "execution_count": 560,
     "metadata": {},
     "output_type": "execute_result"
    }
   ],
   "source": [
    "sample_list"
   ]
  },
  {
   "cell_type": "code",
   "execution_count": 576,
   "id": "066a503e-eaa4-4c4c-a528-0ce52972495e",
   "metadata": {},
   "outputs": [
    {
     "data": {
      "text/plain": [
       "2"
      ]
     },
     "execution_count": 576,
     "metadata": {},
     "output_type": "execute_result"
    }
   ],
   "source": [
    "sample_list[0] +1"
   ]
  },
  {
   "cell_type": "code",
   "execution_count": 580,
   "id": "3b9a30e3-7591-4b79-81a3-86ca1bb8c3db",
   "metadata": {},
   "outputs": [
    {
     "ename": "TypeError",
     "evalue": "can only concatenate str (not \"int\") to str",
     "output_type": "error",
     "traceback": [
      "\u001b[1;31m---------------------------------------------------------------------------\u001b[0m",
      "\u001b[1;31mTypeError\u001b[0m                                 Traceback (most recent call last)",
      "Cell \u001b[1;32mIn[580], line 1\u001b[0m\n\u001b[1;32m----> 1\u001b[0m sample_list[\u001b[38;5;241m3\u001b[39m]\u001b[38;5;241m+\u001b[39m\u001b[38;5;241m1\u001b[39m\n",
      "\u001b[1;31mTypeError\u001b[0m: can only concatenate str (not \"int\") to str"
     ]
    }
   ],
   "source": [
    "sample_list[3]+1  #error "
   ]
  },
  {
   "cell_type": "code",
   "execution_count": 578,
   "id": "44191f40-b839-4698-ad3b-cbf8a846b237",
   "metadata": {},
   "outputs": [
    {
     "data": {
      "text/plain": [
       "str"
      ]
     },
     "execution_count": 578,
     "metadata": {},
     "output_type": "execute_result"
    }
   ],
   "source": [
    "type(sample_list[3])"
   ]
  },
  {
   "cell_type": "code",
   "execution_count": 582,
   "id": "d7ac4eb9-ca25-4bba-a4e0-393b0beeaacb",
   "metadata": {},
   "outputs": [
    {
     "data": {
      "text/plain": [
       "'a1'"
      ]
     },
     "execution_count": 582,
     "metadata": {},
     "output_type": "execute_result"
    }
   ],
   "source": [
    "sample_list[3]+'1'"
   ]
  },
  {
   "cell_type": "code",
   "execution_count": 570,
   "id": "d9df2ce2-da1e-4526-8b6f-d508dc37f7a3",
   "metadata": {},
   "outputs": [
    {
     "data": {
      "text/plain": [
       "3"
      ]
     },
     "execution_count": 570,
     "metadata": {},
     "output_type": "execute_result"
    }
   ],
   "source": [
    "1+2"
   ]
  },
  {
   "cell_type": "code",
   "execution_count": null,
   "id": "20a40efb-2b4c-4db2-82db-95854ec3c8f6",
   "metadata": {},
   "outputs": [],
   "source": []
  }
 ],
 "metadata": {
  "kernelspec": {
   "display_name": "Python [conda env:base] *",
   "language": "python",
   "name": "conda-base-py"
  },
  "language_info": {
   "codemirror_mode": {
    "name": "ipython",
    "version": 3
   },
   "file_extension": ".py",
   "mimetype": "text/x-python",
   "name": "python",
   "nbconvert_exporter": "python",
   "pygments_lexer": "ipython3",
   "version": "3.12.7"
  }
 },
 "nbformat": 4,
 "nbformat_minor": 5
}
